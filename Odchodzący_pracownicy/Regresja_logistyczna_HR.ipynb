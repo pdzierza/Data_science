{
 "cells": [
  {
   "cell_type": "markdown",
   "metadata": {},
   "source": [
    "# Zastosowanie regresji logistycznej w problemie niezbalansowanych danych "
   ]
  },
  {
   "cell_type": "markdown",
   "metadata": {},
   "source": [
    "Niniejsza analiza dotyczy problemu wytypowania pracowników, którzy potencjalnie mogą planować opuścić swój zakład pracy. Lista potencjalnych osób, które mogą wkrótce zacząć szukać nowej pracy, może okazać się bardzo przydatnym narzędziem dla działu HR. Posiadając wiedzę na ten temat można próbować zapobiegać ewentualnym wypowiedzeniom umowy przez pracowników, zanim jeszcze zostaną one złożone. Taka sytuacja w szczególności ma miejsce, gdy na rynku pracy jest mało wysoko wyspecjalizowanych pracowników przy stosunkowo dużej liczbie miejsc pracy. Wtedy zaproponowanie podwyżki i benefitów lub renegocjacja innych aspektów umowy może okazać się dużo mniejszym kosztem niż szukanie i szkolenie nowego pracownika.\n",
    "Wiedza o potencjalnym odejściu danej osoby może również pomóc pracodawcy w zauważeniu potencjalnych braków w ciągłości całego procesu pracy. Wczesne przygotowanie innych pracowników na wypadek potencjalnego odejścia \"osoby niezastąpionej\" z pewnością pozwoli zabezpieczyć los firmy. Należy również pamiętać, że pracownicy nie zmieniają pracy tylko w formie awansu. Pracownicy wytypowani przez to narzędzie mogą być osobami, które są bliskie lub już wypalone zawodowo. Wczesna interwencja działu HR i przełożonego mogą pomóc takiemu pracownikowi ponownie odnaleźć sens i motywację do dalszej pracy. \n",
    "\n",
    "Problem zostanie rozwiązany przy użyciu danych o pracownikach pewnej firmy.  Na dane składają się następujące zmienne: \n",
    "\n",
    "1. S - określa poziom ogólnej satysfakcji (Satisfaction) z pracy w skali od 0 do 1. Wyższa wartość ułamka oznacza wyższą satysfakcję pracownika. \n",
    "2. LPE - określa ocenę ostatniego wykonanego projektu (Last Project Evaluation) pracownika w skali od 0 do 1. Wyższa wartość ułamka oznacza wyższą satysfakcję pracownika. Ocena jest wystawiana przez klienta, dla którego projekt został wykonany. \n",
    "3. NP - określa liczbę projektów (Number of Projects), w których pracownik brał udział w ostatnich 12 miesiącach. \n",
    "4. ANH - określa średnią liczbę godzin przepracowanych (Average Number of Hours) miesięcznie w horyzoncie czasowym ostatnich 12 miesięcy. \n",
    "5. TIC - określa staż pracy w firmie (Time In Company) liczony w latach. \n",
    "6. Newborn - określa, czy w ostatnich 12 miesięcy pracownikowi urodziło się dziecko. Zmienna przyjmuje 2 wartości: 1 - pracownikowi urodziło się dziecko w ostatnich 12 miesiącach, 0 - pracownikowi nie urodziło się dziecko w ostatnich 12 miesiącach. \n",
    "7. Left - określa, czy pracownik opuścił już firmę. Zmienna przyjmuje 2 wartości: 1 - pracownikowi opuścił już firmę, 0 - pracownik wciąż jest zatrudniony przez firmę. Jest to zmienna zależna (celu). \n",
    "\n",
    "Dane składają się zatem z 3 części: pierwszą jest zdanie pracownika o firmie, drugą niezależna od firmy ocena ostatniego projektu, a trzecią są dane odnośnie ogólnej sytuacji pracownika. Takie podejście pozwoli na małoinwazyjne zebranie informacji od osób badanych. Należy tutaj pamiętać, że osoby planujące zmianę pracy mogą nie chcieć, by inni pracownicy (w szczególności przełożony) wiedzieli o ich planach.\n",
    "\n",
    "Przedstawiony powyżej problem rozwiązany zostanie przy pomocy regresji logistycznej. Zbudowany zostanie klasyfikator, który będzie próbował oszacować prawdopodobieństwo odejścia danego pracownika na podstawie jego wektora obserwacji przedstawionych zmiennych niezależnych."
   ]
  },
  {
   "cell_type": "code",
   "execution_count": 1,
   "metadata": {},
   "outputs": [
    {
     "name": "stderr",
     "output_type": "stream",
     "text": [
      "Warning message:\n",
      "\"package 'data.table' was built under R version 3.6.3\"Warning message:\n",
      "\"package 'Information' was built under R version 3.6.3\"corrplot 0.90 loaded\n",
      "Warning message:\n",
      "\"package 'gam' was built under R version 3.6.3\"Loading required package: splines\n",
      "Loading required package: foreach\n",
      "Warning message:\n",
      "\"package 'foreach' was built under R version 3.6.3\"Loaded gam 1.16.1\n",
      "\n",
      "Warning message:\n",
      "\"package 'ROCR' was built under R version 3.6.3\"Warning message:\n",
      "\"package 'sqldf' was built under R version 3.6.3\"Loading required package: gsubfn\n",
      "Warning message:\n",
      "\"package 'gsubfn' was built under R version 3.6.3\"Loading required package: proto\n",
      "Warning message:\n",
      "\"package 'proto' was built under R version 3.6.3\"Loading required package: RSQLite\n",
      "Warning message:\n",
      "\"package 'RSQLite' was built under R version 3.6.3\""
     ]
    }
   ],
   "source": [
    "library(data.table)\n",
    "library(Information)\n",
    "library(ggplot2)\n",
    "library(corrplot)\n",
    "library(gam)\n",
    "library(ROCR)\n",
    "library(sqldf)"
   ]
  },
  {
   "cell_type": "code",
   "execution_count": 2,
   "metadata": {},
   "outputs": [],
   "source": [
    "dane=read.csv('hr.csv')"
   ]
  },
  {
   "cell_type": "markdown",
   "metadata": {},
   "source": [
    "## Przygotowanie danych\n",
    "\n",
    "Prace na danych zaczniemy od podziału zbioru danych na zbiór treningowy i testowy. Zbiór treningowy to 70% losowo wybranych wszystkich obserwacji, pozostałe trafią do zbioru testowego. "
   ]
  },
  {
   "cell_type": "code",
   "execution_count": 3,
   "metadata": {},
   "outputs": [],
   "source": [
    "dane=data.table(dane)\n",
    "dane[,Newborn := as.factor(Newborn)]\n",
    "\n",
    "set.seed(4321)\n",
    "dane[,train:=rbinom(dim(dane)[1],1,0.7)]\n",
    "dane_trn=dane[train==1]\n",
    "dane_tst=dane[train==0]\n",
    "\n",
    "dane_trn=dane_trn[,train:=NULL]\n",
    "dane_tst=dane_tst[,train:=NULL]\n",
    "dane_trn2=copy(dane_trn)\n",
    "dane_tst2=copy(dane_tst)"
   ]
  },
  {
   "cell_type": "code",
   "execution_count": 4,
   "metadata": {},
   "outputs": [
    {
     "name": "stdout",
     "output_type": "stream",
     "text": [
      "[1] \"dane pełne\"\n"
     ]
    },
    {
     "data": {
      "text/plain": [
       "       S               LPE               NP             ANH       \n",
       " Min.   :0.0900   Min.   :0.3600   Min.   :2.000   Min.   : 96.0  \n",
       " 1st Qu.:0.4800   1st Qu.:0.5700   1st Qu.:3.000   1st Qu.:157.0  \n",
       " Median :0.6600   Median :0.7200   Median :4.000   Median :199.5  \n",
       " Mean   :0.6295   Mean   :0.7166   Mean   :3.802   Mean   :200.4  \n",
       " 3rd Qu.:0.8200   3rd Qu.:0.8600   3rd Qu.:5.000   3rd Qu.:243.0  \n",
       " Max.   :1.0000   Max.   :1.0000   Max.   :7.000   Max.   :310.0  \n",
       "      TIC        Newborn        left            train       \n",
       " Min.   :2.000   0:10150   Min.   :0.0000   Min.   :0.0000  \n",
       " 1st Qu.:2.000   1: 1850   1st Qu.:0.0000   1st Qu.:0.0000  \n",
       " Median :3.000             Median :0.0000   Median :1.0000  \n",
       " Mean   :3.229             Mean   :0.1667   Mean   :0.6991  \n",
       " 3rd Qu.:4.000             3rd Qu.:0.0000   3rd Qu.:1.0000  \n",
       " Max.   :6.000             Max.   :1.0000   Max.   :1.0000  "
      ]
     },
     "metadata": {},
     "output_type": "display_data"
    },
    {
     "name": "stdout",
     "output_type": "stream",
     "text": [
      "[1] \"dane treningowe\"\n"
     ]
    },
    {
     "data": {
      "text/plain": [
       "       S               LPE               NP             ANH       \n",
       " Min.   :0.0900   Min.   :0.3600   Min.   :2.000   Min.   : 96.0  \n",
       " 1st Qu.:0.4900   1st Qu.:0.5700   1st Qu.:3.000   1st Qu.:158.0  \n",
       " Median :0.6600   Median :0.7200   Median :4.000   Median :200.0  \n",
       " Mean   :0.6319   Mean   :0.7153   Mean   :3.795   Mean   :200.6  \n",
       " 3rd Qu.:0.8300   3rd Qu.:0.8600   3rd Qu.:5.000   3rd Qu.:243.0  \n",
       " Max.   :1.0000   Max.   :1.0000   Max.   :7.000   Max.   :310.0  \n",
       "      TIC       Newborn       left       \n",
       " Min.   :2.00   0:7071   Min.   :0.0000  \n",
       " 1st Qu.:2.00   1:1318   1st Qu.:0.0000  \n",
       " Median :3.00            Median :0.0000  \n",
       " Mean   :3.22            Mean   :0.1622  \n",
       " 3rd Qu.:4.00            3rd Qu.:0.0000  \n",
       " Max.   :6.00            Max.   :1.0000  "
      ]
     },
     "metadata": {},
     "output_type": "display_data"
    },
    {
     "name": "stdout",
     "output_type": "stream",
     "text": [
      "[1] \"dane testowe\"\n"
     ]
    },
    {
     "data": {
      "text/plain": [
       "       S               LPE               NP             ANH       \n",
       " Min.   :0.0900   Min.   :0.3600   Min.   :2.000   Min.   : 96.0  \n",
       " 1st Qu.:0.4600   1st Qu.:0.5700   1st Qu.:3.000   1st Qu.:157.0  \n",
       " Median :0.6600   Median :0.7300   Median :4.000   Median :199.0  \n",
       " Mean   :0.6237   Mean   :0.7194   Mean   :3.819   Mean   :200.1  \n",
       " 3rd Qu.:0.8200   3rd Qu.:0.8700   3rd Qu.:5.000   3rd Qu.:243.0  \n",
       " Max.   :1.0000   Max.   :1.0000   Max.   :7.000   Max.   :310.0  \n",
       "      TIC        Newborn       left      \n",
       " Min.   :2.000   0:3079   Min.   :0.000  \n",
       " 1st Qu.:3.000   1: 532   1st Qu.:0.000  \n",
       " Median :3.000            Median :0.000  \n",
       " Mean   :3.248            Mean   :0.177  \n",
       " 3rd Qu.:4.000            3rd Qu.:0.000  \n",
       " Max.   :6.000            Max.   :1.000  "
      ]
     },
     "metadata": {},
     "output_type": "display_data"
    }
   ],
   "source": [
    "print('dane pełne')\n",
    "summary(dane)\n",
    "print('dane treningowe')\n",
    "summary(dane_trn)\n",
    "print('dane testowe')\n",
    "summary(dane_tst)"
   ]
  },
  {
   "cell_type": "markdown",
   "metadata": {},
   "source": [
    "Powyższe porównanie trzech zbiorów pokazuje kilka interesujących informacji. Zbiór danych nie zawiera w sobie żadnych brakujących obserwacji. Nie wygląda na to, że w danych są jakieś błędy natury logicznej - zakresy poszczególnych zmiennych wydają się możliwe do osiągnięcia. Dane są wyrazie niezbalansowane - tylko 17% wszystkich obserwacji to osoby, które zrezygnowały z pracy. Wszystkie trzy zbiory są do siebie podobne pod względem statystyk opisowych.\n",
    "\n",
    "By uniknąć przecieku informacji, od teraz rozpatrywany będzie tylko zbiór treningowy. Wizualizacja pomoże lepiej zrozumieć dane."
   ]
  },
  {
   "cell_type": "markdown",
   "metadata": {},
   "source": [
    "## Wizualizacja danych"
   ]
  },
  {
   "cell_type": "code",
   "execution_count": 5,
   "metadata": {},
   "outputs": [],
   "source": [
    "licznosc_grup_S=data.table(przedzial = seq(0.1,1,0.1),wszyscy = 1:10, zrezygnowali = 1:10)\n",
    "for (i in 1:10)\n",
    "{\n",
    "    licznosc_grup_S[i,2] = dane_trn[0.1*(i-1)<S & S<=0.1*i,.N]\n",
    "    licznosc_grup_S[i,3] = dane_trn[0.1*(i-1)<S & S<=0.1*i & left==1,.N]\n",
    "\n",
    "}\n",
    "licznosc_grup_S[,zostali:=wszyscy-zrezygnowali]\n",
    "licznosc_grup_S[,procent:=round(zrezygnowali/wszyscy,2)*100]\n",
    "licznosc_grup_S[,przedzial:=as.factor(przedzial)]\n"
   ]
  },
  {
   "cell_type": "code",
   "execution_count": 7,
   "metadata": {},
   "outputs": [
    {
     "data": {
      "image/png": "[encoded data removed]",
      "text/plain": [
       "plot without title"
      ]
     },
     "metadata": {},
     "output_type": "display_data"
    }
   ],
   "source": [
    "ggplot(data=licznosc_grup_S, aes(x=przedzial,wszyscy, zrezygnowali)) +\n",
    "geom_bar(aes(y=wszyscy),stat=\"identity\",color=\"olivedrab4\",fill=\"olivedrab1\",position = \"dodge\") +\n",
    "geom_bar(aes(y=zrezygnowali),stat=\"identity\",color=\"red\",fill=\"pink\",position = \"dodge\") +\n",
    "labs(x = \"Przedział wartości Satysfakcji\", y = \"Liczba wszystkich pracowników (Liczba byłych pracowników)\") +\n",
    "ggtitle(\"Wykres zmiennej S\") +\n",
    "theme_minimal() +\n",
    "theme(plot.title=element_text( hjust=0.5, vjust=0.5, face='bold')) +\n",
    "annotate(\"text\", x=licznosc_grup_S[1,1]$przedzial, y=licznosc_grup_S[1,3]$zrezygnowali+20, label= paste0(licznosc_grup_S[1,5]$procent,\"%\",collapse=''), color='red') +\n",
    "annotate(\"text\", x=licznosc_grup_S[2,1]$przedzial, y=licznosc_grup_S[2,3]$zrezygnowali+20, label= paste0(licznosc_grup_S[2,5]$procent,\"%\",collapse=''), color='red') +\n",
    "annotate(\"text\", x=licznosc_grup_S[3,1]$przedzial, y=licznosc_grup_S[3,3]$zrezygnowali+20, label= paste0(licznosc_grup_S[3,5]$procent,\"%\",collapse=''), color='red') +\n",
    "annotate(\"text\", x=licznosc_grup_S[4,1]$przedzial, y=licznosc_grup_S[4,3]$zrezygnowali+20, label= paste0(licznosc_grup_S[4,5]$procent,\"%\",collapse=''), color='red') +\n",
    "annotate(\"text\", x=licznosc_grup_S[5,1]$przedzial, y=licznosc_grup_S[5,3]$zrezygnowali+20, label= paste0(licznosc_grup_S[5,5]$procent,\"%\",collapse=''), color='red') +\n",
    "annotate(\"text\", x=licznosc_grup_S[6,1]$przedzial, y=licznosc_grup_S[6,3]$zrezygnowali+20, label= paste0(licznosc_grup_S[6,5]$procent,\"%\",collapse=''), color='red') +\n",
    "annotate(\"text\", x=licznosc_grup_S[7,1]$przedzial, y=licznosc_grup_S[7,3]$zrezygnowali+20, label= paste0(licznosc_grup_S[7,5]$procent,\"%\",collapse=''), color='red') +\n",
    "annotate(\"text\", x=licznosc_grup_S[8,1]$przedzial, y=licznosc_grup_S[8,3]$zrezygnowali+20, label= paste0(licznosc_grup_S[8,5]$procent,\"%\",collapse=''), color='red') +\n",
    "annotate(\"text\", x=licznosc_grup_S[9,1]$przedzial, y=licznosc_grup_S[9,3]$zrezygnowali+20, label= paste0(licznosc_grup_S[9,5]$procent,\"%\",collapse=''), color='red') +\n",
    "annotate(\"text\", x=licznosc_grup_S[10,1]$przedzial, y=licznosc_grup_S[10,3]$zrezygnowali+20, label= paste0(licznosc_grup_S[10,5]$procent,\"%\",collapse=''), color='red')"
   ]
  },
  {
   "cell_type": "code",
   "execution_count": 6,
   "metadata": {},
   "outputs": [
    {
     "data": {
      "text/html": [
       "<table>\n",
       "<thead><tr><th scope=col>przedzial</th><th scope=col>wszyscy</th><th scope=col>zrezygnowali</th><th scope=col>zostali</th><th scope=col>procent</th></tr></thead>\n",
       "<tbody>\n",
       "\t<tr><td>0.1 </td><td> 211</td><td>211 </td><td>   0</td><td>100 </td></tr>\n",
       "\t<tr><td>0.2 </td><td> 455</td><td>140 </td><td> 315</td><td> 31 </td></tr>\n",
       "\t<tr><td>0.3 </td><td> 284</td><td>  7 </td><td> 277</td><td>  2 </td></tr>\n",
       "\t<tr><td>0.4 </td><td> 549</td><td>298 </td><td> 251</td><td> 54 </td></tr>\n",
       "\t<tr><td>0.5 </td><td> 840</td><td>306 </td><td> 534</td><td> 36 </td></tr>\n",
       "\t<tr><td>0.6 </td><td>1174</td><td> 19 </td><td>1155</td><td>  2 </td></tr>\n",
       "\t<tr><td>0.7 </td><td>1194</td><td> 18 </td><td>1176</td><td>  2 </td></tr>\n",
       "\t<tr><td>0.8 </td><td>1328</td><td>151 </td><td>1177</td><td> 11 </td></tr>\n",
       "\t<tr><td>0.9 </td><td>1270</td><td>188 </td><td>1082</td><td> 15 </td></tr>\n",
       "\t<tr><td>1   </td><td>1084</td><td> 23 </td><td>1061</td><td>  2 </td></tr>\n",
       "</tbody>\n",
       "</table>\n"
      ],
      "text/latex": [
       "\\begin{tabular}{r|lllll}\n",
       " przedzial & wszyscy & zrezygnowali & zostali & procent\\\\\n",
       "\\hline\n",
       "\t 0.1  &  211 & 211  &    0 & 100 \\\\\n",
       "\t 0.2  &  455 & 140  &  315 &  31 \\\\\n",
       "\t 0.3  &  284 &   7  &  277 &   2 \\\\\n",
       "\t 0.4  &  549 & 298  &  251 &  54 \\\\\n",
       "\t 0.5  &  840 & 306  &  534 &  36 \\\\\n",
       "\t 0.6  & 1174 &  19  & 1155 &   2 \\\\\n",
       "\t 0.7  & 1194 &  18  & 1176 &   2 \\\\\n",
       "\t 0.8  & 1328 & 151  & 1177 &  11 \\\\\n",
       "\t 0.9  & 1270 & 188  & 1082 &  15 \\\\\n",
       "\t 1    & 1084 &  23  & 1061 &   2 \\\\\n",
       "\\end{tabular}\n"
      ],
      "text/markdown": [
       "\n",
       "| przedzial | wszyscy | zrezygnowali | zostali | procent |\n",
       "|---|---|---|---|---|\n",
       "| 0.1  |  211 | 211  |    0 | 100  |\n",
       "| 0.2  |  455 | 140  |  315 |  31  |\n",
       "| 0.3  |  284 |   7  |  277 |   2  |\n",
       "| 0.4  |  549 | 298  |  251 |  54  |\n",
       "| 0.5  |  840 | 306  |  534 |  36  |\n",
       "| 0.6  | 1174 |  19  | 1155 |   2  |\n",
       "| 0.7  | 1194 |  18  | 1176 |   2  |\n",
       "| 0.8  | 1328 | 151  | 1177 |  11  |\n",
       "| 0.9  | 1270 | 188  | 1082 |  15  |\n",
       "| 1    | 1084 |  23  | 1061 |   2  |\n",
       "\n"
      ],
      "text/plain": [
       "   przedzial wszyscy zrezygnowali zostali procent\n",
       "1  0.1        211    211             0    100    \n",
       "2  0.2        455    140           315     31    \n",
       "3  0.3        284      7           277      2    \n",
       "4  0.4        549    298           251     54    \n",
       "5  0.5        840    306           534     36    \n",
       "6  0.6       1174     19          1155      2    \n",
       "7  0.7       1194     18          1176      2    \n",
       "8  0.8       1328    151          1177     11    \n",
       "9  0.9       1270    188          1082     15    \n",
       "10 1         1084     23          1061      2    "
      ]
     },
     "metadata": {},
     "output_type": "display_data"
    }
   ],
   "source": [
    "licznosc_grup_S"
   ]
  },
  {
   "cell_type": "markdown",
   "metadata": {},
   "source": [
    "Wykres powyżej przedstawia zmienną S (Satysfakcja) podzieloną na 10 grup, są to przedziały wartości: (0;0.1], (0.1;0.2], ..., (0.8;0.9], (0.9;1]. Na wykresie dany przedział jest opisany na osi X jego górnym (domkniętym) krańcem. Zielone słupki przedstawiają liczność wszystkich pracowników zbioru treningowego. Czerwone słupki to pracownicy, którzy zrezygnowali już z pracy. Liczby wyrażone w procentach nad czerwonymi słupkami to ilorazy liczby byłych pracowników i liczby wszystkich pracowników w danej grupie. \n",
    "\n",
    "Porównując ze sobą dwie połowy wykresu - od 0 do 0.5 i od 0.6 do 1 - można dostrzec, że większość pracowników ze zbioru treningowego oceniła swoją satysfakcję z pracy na przynajmniej 50%. Pierwsza połowa wykresu wykazuje zdecydowanie wyższe procentowe wartości liczby byłych pracowników. Wszystkie osoby z grupy, gdzie oceniano swoją satysfakcję z pracy na mniej niż 0.1, już nie pracują w tej firmie. Stosunkowo wysokie czerwone słupki dla wartości S z przedziałów (0.7;0.8] i (0.8;0.9] można tłumaczyć tym, że osoby rezygnujące z pracy w tych przedziałach dostały lepszą ofertę w innym miejscu. Innym wytłumaczeniem wysokości tych słupków może być obecność osób, które starają się ukryć swoje niezadowolenie przed przełożonymi - są to osoby jednocześnie pracujące i aktywnie szukające innego miejsca pracy. "
   ]
  },
  {
   "cell_type": "code",
   "execution_count": 8,
   "metadata": {},
   "outputs": [],
   "source": [
    "licznosc_grup_LPE=data.table(przedzial = seq(0.4,1,0.1),wszyscy = 1:7, zrezygnowali = 1:7)\n",
    "for (i in 1:7)\n",
    "{\n",
    "    licznosc_grup_LPE[i,2] = dane_trn[0.3+0.1*(i-1)<LPE & LPE<=0.3+0.1*i,.N]\n",
    "    licznosc_grup_LPE[i,3] = dane_trn[0.3+0.1*(i-1)<LPE & LPE<=0.3+0.1*i & left==1,.N]\n",
    "\n",
    "}\n",
    "licznosc_grup_LPE[,zostali:=wszyscy-zrezygnowali]\n",
    "licznosc_grup_LPE[,procent:=round(zrezygnowali/wszyscy,2)*100]\n",
    "licznosc_grup_LPE[,przedzial:=as.factor(przedzial)]\n"
   ]
  },
  {
   "cell_type": "code",
   "execution_count": 10,
   "metadata": {},
   "outputs": [
    {
     "data": {
      "image/png": "[encoded data removed]",
      "text/plain": [
       "plot without title"
      ]
     },
     "metadata": {},
     "output_type": "display_data"
    }
   ],
   "source": [
    "ggplot(data=licznosc_grup_LPE, aes(x=przedzial,wszyscy, zrezygnowali)) +\n",
    "geom_bar(aes(y=wszyscy),stat=\"identity\",color=\"olivedrab4\",fill=\"olivedrab1\",position = \"dodge\") +\n",
    "geom_bar(aes(y=zrezygnowali),stat=\"identity\",color=\"red\",fill=\"pink\",position = \"dodge\") +\n",
    "labs(x = \"Przedział wartości Oceny ostatniego projektu\", y = \"Liczba wszystkich pracowników (Liczba byłych pracowników)\") +\n",
    "ggtitle(\"Wykres zmiennej LPE\") +\n",
    "theme_minimal() +\n",
    "theme(plot.title=element_text( hjust=0.5, vjust=0.5, face='bold')) +\n",
    "annotate(\"text\", x=licznosc_grup_LPE[1,1]$przedzial, y=licznosc_grup_LPE[1,3]$zrezygnowali+30, label= paste0(licznosc_grup_LPE[1,5]$procent,\"%\",collapse=''), color='red') +\n",
    "annotate(\"text\", x=licznosc_grup_LPE[2,1]$przedzial, y=licznosc_grup_LPE[2,3]$zrezygnowali+30, label= paste0(licznosc_grup_LPE[2,5]$procent,\"%\",collapse=''), color='red') +\n",
    "annotate(\"text\", x=licznosc_grup_LPE[3,1]$przedzial, y=licznosc_grup_LPE[3,3]$zrezygnowali+30, label= paste0(licznosc_grup_LPE[3,5]$procent,\"%\",collapse=''), color='red') +\n",
    "annotate(\"text\", x=licznosc_grup_LPE[4,1]$przedzial, y=licznosc_grup_LPE[4,3]$zrezygnowali+30, label= paste0(licznosc_grup_LPE[4,5]$procent,\"%\",collapse=''), color='red') +\n",
    "annotate(\"text\", x=licznosc_grup_LPE[5,1]$przedzial, y=licznosc_grup_LPE[5,3]$zrezygnowali+30, label= paste0(licznosc_grup_LPE[5,5]$procent,\"%\",collapse=''), color='red') +\n",
    "annotate(\"text\", x=licznosc_grup_LPE[6,1]$przedzial, y=licznosc_grup_LPE[6,3]$zrezygnowali+30, label= paste0(licznosc_grup_LPE[6,5]$procent,\"%\",collapse=''), color='red') +\n",
    "annotate(\"text\", x=licznosc_grup_LPE[7,1]$przedzial, y=licznosc_grup_LPE[7,3]$zrezygnowali+30, label= paste0(licznosc_grup_LPE[7,5]$procent,\"%\",collapse=''), color='red')"
   ]
  },
  {
   "cell_type": "code",
   "execution_count": 9,
   "metadata": {},
   "outputs": [
    {
     "data": {
      "text/html": [
       "<table>\n",
       "<thead><tr><th scope=col>przedzial</th><th scope=col>wszyscy</th><th scope=col>zrezygnowali</th><th scope=col>zostali</th><th scope=col>procent</th></tr></thead>\n",
       "<tbody>\n",
       "\t<tr><td>0.4 </td><td> 134</td><td>  0 </td><td> 134</td><td> 0  </td></tr>\n",
       "\t<tr><td>0.5 </td><td> 881</td><td>289 </td><td> 592</td><td>33  </td></tr>\n",
       "\t<tr><td>0.6 </td><td>1680</td><td>317 </td><td>1363</td><td>19  </td></tr>\n",
       "\t<tr><td>0.7 </td><td>1368</td><td> 23 </td><td>1345</td><td> 2  </td></tr>\n",
       "\t<tr><td>0.8 </td><td>1362</td><td> 81 </td><td>1281</td><td> 6  </td></tr>\n",
       "\t<tr><td>0.9 </td><td>1522</td><td>307 </td><td>1215</td><td>20  </td></tr>\n",
       "\t<tr><td>1   </td><td>1442</td><td>344 </td><td>1098</td><td>24  </td></tr>\n",
       "</tbody>\n",
       "</table>\n"
      ],
      "text/latex": [
       "\\begin{tabular}{r|lllll}\n",
       " przedzial & wszyscy & zrezygnowali & zostali & procent\\\\\n",
       "\\hline\n",
       "\t 0.4  &  134 &   0  &  134 &  0  \\\\\n",
       "\t 0.5  &  881 & 289  &  592 & 33  \\\\\n",
       "\t 0.6  & 1680 & 317  & 1363 & 19  \\\\\n",
       "\t 0.7  & 1368 &  23  & 1345 &  2  \\\\\n",
       "\t 0.8  & 1362 &  81  & 1281 &  6  \\\\\n",
       "\t 0.9  & 1522 & 307  & 1215 & 20  \\\\\n",
       "\t 1    & 1442 & 344  & 1098 & 24  \\\\\n",
       "\\end{tabular}\n"
      ],
      "text/markdown": [
       "\n",
       "| przedzial | wszyscy | zrezygnowali | zostali | procent |\n",
       "|---|---|---|---|---|\n",
       "| 0.4  |  134 |   0  |  134 |  0   |\n",
       "| 0.5  |  881 | 289  |  592 | 33   |\n",
       "| 0.6  | 1680 | 317  | 1363 | 19   |\n",
       "| 0.7  | 1368 |  23  | 1345 |  2   |\n",
       "| 0.8  | 1362 |  81  | 1281 |  6   |\n",
       "| 0.9  | 1522 | 307  | 1215 | 20   |\n",
       "| 1    | 1442 | 344  | 1098 | 24   |\n",
       "\n"
      ],
      "text/plain": [
       "  przedzial wszyscy zrezygnowali zostali procent\n",
       "1 0.4        134      0           134     0     \n",
       "2 0.5        881    289           592    33     \n",
       "3 0.6       1680    317          1363    19     \n",
       "4 0.7       1368     23          1345     2     \n",
       "5 0.8       1362     81          1281     6     \n",
       "6 0.9       1522    307          1215    20     \n",
       "7 1         1442    344          1098    24     "
      ]
     },
     "metadata": {},
     "output_type": "display_data"
    }
   ],
   "source": [
    "licznosc_grup_LPE"
   ]
  },
  {
   "cell_type": "markdown",
   "metadata": {},
   "source": [
    "Powyższy wykres przedstawia zmienną LPE (Ocena ostatniego wykonanego projektu). Wykres należy czytać analogicznie do poprzedniego wykresu dla zmiennej S. Można z niego wywnioskować, że najgorzej oceniony projekt znajduje się w grupie 0.4 (co oznacza, że jego cena mieści się w przedziale (0.3;0.4]). Zaskakujące jest, że żaden pracownik, którego ostatni projekt został oceniony tak nisko, nie opuścił jeszcze firmy. Być może wśród tych pracowników są osoby, które te mają jeszcze niskie kompetencje i się uczą. Należy również dostrzec niewielką liczność tej grupy - 134 osoby. Pozostałe grupy są już lepiej reprezentowane. Tutaj procentowe wartości osób rezygnujących układają się w literę \"U\". Grupa o górnym krańcu 0.5 ma najwyższy procent rezygnowania z pracy. W dwóch kolejnych grupach jest tendencja spadkowa, a w trzech ostatnich tendencja zmienia się na rosnącą. Można się domyślać, że po lewej stronie wykresu są osoby czujące się źle z powodu niskiej oceny - być może zła ocena jest skutkiem nieporozumień i nieprzyjemnej atmosfery w pracy. Z prawej strony mamy projekty wykonane bardzo dobrze. Specjaliści, którzy wykonują swoje prace wzorowo, z pewnością są zauważani przez klientów i mogą od nich otrzymywać bezpośrednio oferty pracy, w których to pracownik dyktuje warunki potencjalnej współpracy. "
   ]
  },
  {
   "cell_type": "code",
   "execution_count": 11,
   "metadata": {},
   "outputs": [],
   "source": [
    "licznosc_grup_NP=data.table(przedzial = seq(2,7,1),wszyscy = 1:6, zrezygnowali = 1:6)\n",
    "for (i in 1:6)\n",
    "{\n",
    "    licznosc_grup_NP[i,2] = dane_trn[NP==i+1,.N]\n",
    "    licznosc_grup_NP[i,3] = dane_trn[NP==i+1 & left==1,.N]\n",
    "\n",
    "}\n",
    "licznosc_grup_NP[,zostali:=wszyscy-zrezygnowali]\n",
    "licznosc_grup_NP[,procent:=round(zrezygnowali/wszyscy,2)*100]\n",
    "licznosc_grup_NP[,przedzial:=as.factor(przedzial)]"
   ]
  },
  {
   "cell_type": "code",
   "execution_count": 13,
   "metadata": {},
   "outputs": [
    {
     "data": {
      "image/png": "[encoded data removed]",
      "text/plain": [
       "plot without title"
      ]
     },
     "metadata": {},
     "output_type": "display_data"
    }
   ],
   "source": [
    "ggplot(data=licznosc_grup_NP, aes(x=przedzial,wszyscy, zrezygnowali)) +\n",
    "geom_bar(aes(y=wszyscy),stat=\"identity\",color=\"olivedrab4\",fill=\"olivedrab1\",position = \"dodge\") +\n",
    "geom_bar(aes(y=zrezygnowali),stat=\"identity\",color=\"red\",fill=\"pink\",position = \"dodge\") +\n",
    "labs(x = \"Liczba projektów pracownika w ostanim roku\", y = \"Liczba wszystkich pracowników (Liczba byłych pracowników)\") +\n",
    "ggtitle(\"Wykres zmiennej NP\") +\n",
    "theme_minimal() +\n",
    "theme(plot.title=element_text( hjust=0.5, vjust=0.5, face='bold')) +\n",
    "annotate(\"text\", x=licznosc_grup_NP[1,1]$przedzial, y=licznosc_grup_NP[1,3]$zrezygnowali+40, label= paste0(licznosc_grup_NP[1,5]$procent,\"%\",collapse=''), color='red') +\n",
    "annotate(\"text\", x=licznosc_grup_NP[2,1]$przedzial, y=licznosc_grup_NP[2,3]$zrezygnowali+40, label= paste0(licznosc_grup_NP[2,5]$procent,\"%\",collapse=''), color='red') +\n",
    "annotate(\"text\", x=licznosc_grup_NP[3,1]$przedzial, y=licznosc_grup_NP[3,3]$zrezygnowali+40, label= paste0(licznosc_grup_NP[3,5]$procent,\"%\",collapse=''), color='red') +\n",
    "annotate(\"text\", x=licznosc_grup_NP[4,1]$przedzial, y=licznosc_grup_NP[4,3]$zrezygnowali+40, label= paste0(licznosc_grup_NP[4,5]$procent,\"%\",collapse=''), color='red') +\n",
    "annotate(\"text\", x=licznosc_grup_NP[5,1]$przedzial, y=licznosc_grup_NP[5,3]$zrezygnowali+40, label= paste0(licznosc_grup_NP[5,5]$procent,\"%\",collapse=''), color='red') +\n",
    "annotate(\"text\", x=licznosc_grup_NP[6,1]$przedzial, y=licznosc_grup_NP[6,3]$zrezygnowali+40, label= paste0(licznosc_grup_NP[6,5]$procent,\"%\",collapse=''), color='red') \n"
   ]
  },
  {
   "cell_type": "code",
   "execution_count": 12,
   "metadata": {},
   "outputs": [
    {
     "data": {
      "text/html": [
       "<table>\n",
       "<thead><tr><th scope=col>przedzial</th><th scope=col>wszyscy</th><th scope=col>zrezygnowali</th><th scope=col>zostali</th><th scope=col>procent</th></tr></thead>\n",
       "<tbody>\n",
       "\t<tr><td>2   </td><td>1102</td><td>594 </td><td> 508</td><td> 54 </td></tr>\n",
       "\t<tr><td>3   </td><td>2495</td><td> 28 </td><td>2467</td><td>  1 </td></tr>\n",
       "\t<tr><td>4   </td><td>2572</td><td>157 </td><td>2415</td><td>  6 </td></tr>\n",
       "\t<tr><td>5   </td><td>1559</td><td>243 </td><td>1316</td><td> 16 </td></tr>\n",
       "\t<tr><td>6   </td><td> 566</td><td>244 </td><td> 322</td><td> 43 </td></tr>\n",
       "\t<tr><td>7   </td><td>  95</td><td> 95 </td><td>   0</td><td>100 </td></tr>\n",
       "</tbody>\n",
       "</table>\n"
      ],
      "text/latex": [
       "\\begin{tabular}{r|lllll}\n",
       " przedzial & wszyscy & zrezygnowali & zostali & procent\\\\\n",
       "\\hline\n",
       "\t 2    & 1102 & 594  &  508 &  54 \\\\\n",
       "\t 3    & 2495 &  28  & 2467 &   1 \\\\\n",
       "\t 4    & 2572 & 157  & 2415 &   6 \\\\\n",
       "\t 5    & 1559 & 243  & 1316 &  16 \\\\\n",
       "\t 6    &  566 & 244  &  322 &  43 \\\\\n",
       "\t 7    &   95 &  95  &    0 & 100 \\\\\n",
       "\\end{tabular}\n"
      ],
      "text/markdown": [
       "\n",
       "| przedzial | wszyscy | zrezygnowali | zostali | procent |\n",
       "|---|---|---|---|---|\n",
       "| 2    | 1102 | 594  |  508 |  54  |\n",
       "| 3    | 2495 |  28  | 2467 |   1  |\n",
       "| 4    | 2572 | 157  | 2415 |   6  |\n",
       "| 5    | 1559 | 243  | 1316 |  16  |\n",
       "| 6    |  566 | 244  |  322 |  43  |\n",
       "| 7    |   95 |  95  |    0 | 100  |\n",
       "\n"
      ],
      "text/plain": [
       "  przedzial wszyscy zrezygnowali zostali procent\n",
       "1 2         1102    594           508     54    \n",
       "2 3         2495     28          2467      1    \n",
       "3 4         2572    157          2415      6    \n",
       "4 5         1559    243          1316     16    \n",
       "5 6          566    244           322     43    \n",
       "6 7           95     95             0    100    "
      ]
     },
     "metadata": {},
     "output_type": "display_data"
    }
   ],
   "source": [
    "licznosc_grup_NP"
   ]
  },
  {
   "cell_type": "markdown",
   "metadata": {},
   "source": [
    "Z powyższego wykresu dla zmiennej NP (Liczba Projektów) można odczytać, że najczęściej pracownik brał udział w 3 do 5 projektów. Przedziały te charakteryzują się również zdecydowanie niższym odsetkiem osób rezygnujących z pracy, porównując do pozostałych grup liczb projektów. Ponownie ukazuje się tutaj kształt litery \"U\", gdy spojrzy się na procentowy udział osób odchodzących z pracy w kolejnych grupach. Ciekawa wydaje się dość słabo reprezentowana grupa osób pracująca nad 7 projektami - wszyscy z 95 pracowników już nie pracuje w firmie. W grupach, gdzie pracowano nad 2 lub 6 projektami odsetek osób rezygnujących wciąż jest bardzo wysoki. \n",
    "\n",
    "Można zatem wywnioskować, że pracownicy najlepiej czują się w firmie, gdy pracują w ciągu roku nad 3-5 projektami. Można podejrzewać, że 2 projekty rocznie powodują, że pracownicy odczuwają znużenie brakiem nowości i ograniczonymi możliwościami rozwoju. Mała liczba projektów może również sygnalizować, że przynajmniej jednym z nich był jakiś problem, który niespodziewanie wydłużył czas jego realizacji. Firma, gdzie jest zła organizacja obowiązków, często cechuje się dużą rotacją pracowników. \n",
    "\n",
    "Z drugiej strony są pracownicy, którzy pracowali nad 6-7 projektami. Należy tu zaznaczyć, że wliczane są też projekty nieukończone. Duża liczba projektów może oznaczać, że część z nich upadła w trakcie realizacji. Taka sytuacja może wiązać się z poczuciem zlekceważenia, zmarnowanych sił, czasu oraz potencjału przez pracownika, zwłaszcza, gdy dany pracownik wykonywał swoje obowiązki należycie. Duża liczba projektów może również sygnalizować, że część z nich była trywialna i pracownik mógł czuć się przez to lekceważony. Jeszcze inną możliwością dużej liczby odejść jest możliwość pokazania się wielu różnym klientom. Duża liczba dobrze wykonanych projektów daje większy potencjał na to, że ktoś zauważy ciężko pracującą osobę i zaproponuje jej dużo lepsze warunki zatrudnienia. "
   ]
  },
  {
   "cell_type": "code",
   "execution_count": 14,
   "metadata": {},
   "outputs": [
    {
     "data": {
      "text/html": [
       "<table>\n",
       "<thead><tr><th scope=col>przedzial</th><th scope=col>wszyscy</th><th scope=col>zrezygnowali</th><th scope=col>zostali</th><th scope=col>procent</th></tr></thead>\n",
       "<tbody>\n",
       "\t<tr><td>115 </td><td> 229</td><td>  0 </td><td> 229</td><td>  0 </td></tr>\n",
       "\t<tr><td>140 </td><td>1072</td><td>321 </td><td> 751</td><td> 30 </td></tr>\n",
       "\t<tr><td>165 </td><td>1505</td><td>288 </td><td>1217</td><td> 19 </td></tr>\n",
       "\t<tr><td>190 </td><td>1182</td><td> 12 </td><td>1170</td><td>  1 </td></tr>\n",
       "\t<tr><td>215 </td><td>1148</td><td> 38 </td><td>1110</td><td>  3 </td></tr>\n",
       "\t<tr><td>240 </td><td>1301</td><td>166 </td><td>1135</td><td> 13 </td></tr>\n",
       "\t<tr><td>265 </td><td>1401</td><td>287 </td><td>1114</td><td> 20 </td></tr>\n",
       "\t<tr><td>290 </td><td> 468</td><td>166 </td><td> 302</td><td> 35 </td></tr>\n",
       "\t<tr><td>315 </td><td>  83</td><td> 83 </td><td>   0</td><td>100 </td></tr>\n",
       "</tbody>\n",
       "</table>\n"
      ],
      "text/latex": [
       "\\begin{tabular}{r|lllll}\n",
       " przedzial & wszyscy & zrezygnowali & zostali & procent\\\\\n",
       "\\hline\n",
       "\t 115  &  229 &   0  &  229 &   0 \\\\\n",
       "\t 140  & 1072 & 321  &  751 &  30 \\\\\n",
       "\t 165  & 1505 & 288  & 1217 &  19 \\\\\n",
       "\t 190  & 1182 &  12  & 1170 &   1 \\\\\n",
       "\t 215  & 1148 &  38  & 1110 &   3 \\\\\n",
       "\t 240  & 1301 & 166  & 1135 &  13 \\\\\n",
       "\t 265  & 1401 & 287  & 1114 &  20 \\\\\n",
       "\t 290  &  468 & 166  &  302 &  35 \\\\\n",
       "\t 315  &   83 &  83  &    0 & 100 \\\\\n",
       "\\end{tabular}\n"
      ],
      "text/markdown": [
       "\n",
       "| przedzial | wszyscy | zrezygnowali | zostali | procent |\n",
       "|---|---|---|---|---|\n",
       "| 115  |  229 |   0  |  229 |   0  |\n",
       "| 140  | 1072 | 321  |  751 |  30  |\n",
       "| 165  | 1505 | 288  | 1217 |  19  |\n",
       "| 190  | 1182 |  12  | 1170 |   1  |\n",
       "| 215  | 1148 |  38  | 1110 |   3  |\n",
       "| 240  | 1301 | 166  | 1135 |  13  |\n",
       "| 265  | 1401 | 287  | 1114 |  20  |\n",
       "| 290  |  468 | 166  |  302 |  35  |\n",
       "| 315  |   83 |  83  |    0 | 100  |\n",
       "\n"
      ],
      "text/plain": [
       "  przedzial wszyscy zrezygnowali zostali procent\n",
       "1 115        229      0           229      0    \n",
       "2 140       1072    321           751     30    \n",
       "3 165       1505    288          1217     19    \n",
       "4 190       1182     12          1170      1    \n",
       "5 215       1148     38          1110      3    \n",
       "6 240       1301    166          1135     13    \n",
       "7 265       1401    287          1114     20    \n",
       "8 290        468    166           302     35    \n",
       "9 315         83     83             0    100    "
      ]
     },
     "metadata": {},
     "output_type": "display_data"
    }
   ],
   "source": [
    "licznosc_grup_ANH=data.table(przedzial = seq(115,315,25),wszyscy = 1:9, zrezygnowali = 1:9)\n",
    "for (i in 1:9)\n",
    "{\n",
    "    licznosc_grup_ANH[i,2] = dane_trn[95+25*(i-1)<ANH & ANH<=95+25*i,.N]\n",
    "    licznosc_grup_ANH[i,3] = dane_trn[95+25*(i-1)<ANH & ANH<=95+25*i & left==1,.N]\n",
    "\n",
    "}\n",
    "licznosc_grup_ANH[,zostali:=wszyscy-zrezygnowali]\n",
    "licznosc_grup_ANH[,procent:=round(zrezygnowali/wszyscy,2)*100]\n",
    "licznosc_grup_ANH[,przedzial:=as.factor(przedzial)]\n"
   ]
  },
  {
   "cell_type": "code",
   "execution_count": 15,
   "metadata": {},
   "outputs": [
    {
     "data": {
      "image/png": "[encoded data removed]",
      "text/plain": [
       "plot without title"
      ]
     },
     "metadata": {},
     "output_type": "display_data"
    }
   ],
   "source": [
    "ggplot(data=licznosc_grup_ANH, aes(x=przedzial,wszyscy, zrezygnowali)) +\n",
    "geom_bar(aes(y=wszyscy),stat=\"identity\",color=\"olivedrab4\",fill=\"olivedrab1\",position = \"dodge\") +\n",
    "geom_bar(aes(y=zrezygnowali),stat=\"identity\",color=\"red\",fill=\"pink\",position = \"dodge\") +\n",
    "labs(x = \"Przedział wartości Średniego czasu pracy\", y = \"Liczba wszystkich pracowników (Liczba byłych pracowników)\") +\n",
    "ggtitle(\"Wykres zmiennej ANH\") +\n",
    "theme_minimal() +\n",
    "theme(plot.title=element_text( hjust=0.5, vjust=0.5, face='bold')) +\n",
    "annotate(\"text\", x=licznosc_grup_ANH[1,1]$przedzial, y=licznosc_grup_ANH[1,3]$zrezygnowali+20, label= paste0(licznosc_grup_ANH[1,5]$procent,\"%\",collapse=''), color='red') +\n",
    "annotate(\"text\", x=licznosc_grup_ANH[2,1]$przedzial, y=licznosc_grup_ANH[2,3]$zrezygnowali+20, label= paste0(licznosc_grup_ANH[2,5]$procent,\"%\",collapse=''), color='red') +\n",
    "annotate(\"text\", x=licznosc_grup_ANH[3,1]$przedzial, y=licznosc_grup_ANH[3,3]$zrezygnowali+20, label= paste0(licznosc_grup_ANH[3,5]$procent,\"%\",collapse=''), color='red') +\n",
    "annotate(\"text\", x=licznosc_grup_ANH[4,1]$przedzial, y=licznosc_grup_ANH[4,3]$zrezygnowali+20, label= paste0(licznosc_grup_ANH[4,5]$procent,\"%\",collapse=''), color='red') +\n",
    "annotate(\"text\", x=licznosc_grup_ANH[5,1]$przedzial, y=licznosc_grup_ANH[5,3]$zrezygnowali+20, label= paste0(licznosc_grup_ANH[5,5]$procent,\"%\",collapse=''), color='red') +\n",
    "annotate(\"text\", x=licznosc_grup_ANH[6,1]$przedzial, y=licznosc_grup_ANH[6,3]$zrezygnowali+20, label= paste0(licznosc_grup_ANH[6,5]$procent,\"%\",collapse=''), color='red') +\n",
    "annotate(\"text\", x=licznosc_grup_ANH[7,1]$przedzial, y=licznosc_grup_ANH[7,3]$zrezygnowali+20, label= paste0(licznosc_grup_ANH[7,5]$procent,\"%\",collapse=''), color='red') +\n",
    "annotate(\"text\", x=licznosc_grup_ANH[8,1]$przedzial, y=licznosc_grup_ANH[8,3]$zrezygnowali+20, label= paste0(licznosc_grup_ANH[8,5]$procent,\"%\",collapse=''), color='red') +\n",
    "annotate(\"text\", x=licznosc_grup_ANH[9,1]$przedzial, y=licznosc_grup_ANH[9,3]$zrezygnowali+20, label= paste0(licznosc_grup_ANH[9,5]$procent,\"%\",collapse=''), color='red')"
   ]
  },
  {
   "cell_type": "code",
   "execution_count": 1,
   "metadata": {},
   "outputs": [
    {
     "ename": "ERROR",
     "evalue": "Error in eval(expr, envir, enclos): nie znaleziono obiektu 'licznosc_grup_ANH'\n",
     "output_type": "error",
     "traceback": [
      "Error in eval(expr, envir, enclos): nie znaleziono obiektu 'licznosc_grup_ANH'\nTraceback:\n"
     ]
    }
   ],
   "source": [
    "licznosc_grup_ANH"
   ]
  },
  {
   "cell_type": "markdown",
   "metadata": {},
   "source": [
    "Wykres zmiennej ANH, czyli średniego miesięcznego czasu pracy w godzinach, przedstawia dość szeroki zakres wartości. Przeciętny miesiąc pracy, przy założeniu pełnego etatu, wynosi w przybliżeniu od 170 do 180 godzin. Można dostrzec zatem, że zdarzały się osoby, które pracowały na ok 1.75 etatu, a praca na przynajmniej półtorej etatu nie była rzadkością. Również wyraźna jest obecność osób poniżej 165 godzin. Sam przedział (140;165] jest najbardziej liczną grupą. Bardzo ciekawa sytuacja dzieje się na krańcach przedziałów. Po lewej stronie są osoby o średnim czasie pracy od 96 do 115 godzin. W nim żadna osoba nie zrezygnowała z pracy. Po drugiej stronie mamy przedział (290;310], gdzie wszyscy pracownicy zrezygnowali. Oba skrajne prostokąty są wyraźnie niższe od pozostałych, jest to częściowo wina nierównego doboru zakresów na krańcach. W środkowych grupach wyłania się po raz kolejny kształt litery \"U\", gdy analizuje się procentowe wartości osób rezygnujących w poszczególnych grupach. Można przypuszczać, że osoby po lewej stronie wykresu rezygnowały, gdyż nie mogły wykorzystać w pełni swoich możliwości czasowych, co skutkuje mniejszą pensją. Najbardziej stabilna sytuacja zawodowa jest widoczna w grupach 4 i 5 prostokąta, czyli u osób o czasie pracy z przedziału (165;215]. Następnie wraz ze wzrostem średniego czasu pracy widać trend coraz częstszego rezygnowania z pracy w badanej firmie. Nasuwa się tutaj wniosek, że im bliżej pełnego etatu, tym mniej osób decyduje się na odejście z pracy. Zlecenie pracownikowi mniejszej lub większej liczby godzin skutkuje w zwiększeniu ryzyka odejścia pracownika. Brak zwolnień w grupie do 115 godzin można próbować tłumaczyć obecnością specjalnych grup zawodowych. Mogą tam się znajdować osoby, które musiały przerwać lub ograniczyć pracę, ale nie rozwiązały umowy, np. osoby chore lub kobiety w ciąży. Do tej grupy nie należą raczej studenci - każdy pracownik firmy spędził w niej przynajmniej 2 lata, co zostanie zobrazowane na następnym wykresie. "
   ]
  },
  {
   "cell_type": "code",
   "execution_count": 16,
   "metadata": {},
   "outputs": [
    {
     "data": {
      "text/html": [
       "<table>\n",
       "<thead><tr><th scope=col>przedzial</th><th scope=col>wszyscy</th><th scope=col>zrezygnowali</th><th scope=col>zostali</th><th scope=col>procent</th></tr></thead>\n",
       "<tbody>\n",
       "\t<tr><td>2   </td><td>2122</td><td> 19 </td><td>2103</td><td> 1  </td></tr>\n",
       "\t<tr><td>3   </td><td>3739</td><td>608 </td><td>3131</td><td>16  </td></tr>\n",
       "\t<tr><td>4   </td><td>1440</td><td>328 </td><td>1112</td><td>23  </td></tr>\n",
       "\t<tr><td>5   </td><td> 734</td><td>330 </td><td> 404</td><td>45  </td></tr>\n",
       "\t<tr><td>6   </td><td> 354</td><td> 76 </td><td> 278</td><td>21  </td></tr>\n",
       "</tbody>\n",
       "</table>\n"
      ],
      "text/latex": [
       "\\begin{tabular}{r|lllll}\n",
       " przedzial & wszyscy & zrezygnowali & zostali & procent\\\\\n",
       "\\hline\n",
       "\t 2    & 2122 &  19  & 2103 &  1  \\\\\n",
       "\t 3    & 3739 & 608  & 3131 & 16  \\\\\n",
       "\t 4    & 1440 & 328  & 1112 & 23  \\\\\n",
       "\t 5    &  734 & 330  &  404 & 45  \\\\\n",
       "\t 6    &  354 &  76  &  278 & 21  \\\\\n",
       "\\end{tabular}\n"
      ],
      "text/markdown": [
       "\n",
       "| przedzial | wszyscy | zrezygnowali | zostali | procent |\n",
       "|---|---|---|---|---|\n",
       "| 2    | 2122 |  19  | 2103 |  1   |\n",
       "| 3    | 3739 | 608  | 3131 | 16   |\n",
       "| 4    | 1440 | 328  | 1112 | 23   |\n",
       "| 5    |  734 | 330  |  404 | 45   |\n",
       "| 6    |  354 |  76  |  278 | 21   |\n",
       "\n"
      ],
      "text/plain": [
       "  przedzial wszyscy zrezygnowali zostali procent\n",
       "1 2         2122     19          2103     1     \n",
       "2 3         3739    608          3131    16     \n",
       "3 4         1440    328          1112    23     \n",
       "4 5          734    330           404    45     \n",
       "5 6          354     76           278    21     "
      ]
     },
     "metadata": {},
     "output_type": "display_data"
    }
   ],
   "source": [
    "licznosc_grup_TIC=data.table(przedzial = seq(2,6,1),wszyscy = 1:5, zrezygnowali = 1:5)\n",
    "for (i in 1:5)\n",
    "{\n",
    "    licznosc_grup_TIC[i,2] = dane_trn[1+(i-1)<TIC & TIC<=1+i,.N]\n",
    "    licznosc_grup_TIC[i,3] = dane_trn[1+(i-1)<TIC & TIC<=1+i & left==1,.N]\n",
    "\n",
    "}\n",
    "licznosc_grup_TIC[,zostali:=wszyscy-zrezygnowali]\n",
    "licznosc_grup_TIC[,procent:=round(zrezygnowali/wszyscy,2)*100]\n",
    "licznosc_grup_TIC[,przedzial:=as.factor(przedzial)]\n"
   ]
  },
  {
   "cell_type": "code",
   "execution_count": 17,
   "metadata": {},
   "outputs": [
    {
     "data": {
      "image/png": "[encoded data removed]",
      "text/plain": [
       "plot without title"
      ]
     },
     "metadata": {},
     "output_type": "display_data"
    }
   ],
   "source": [
    "ggplot(data=licznosc_grup_TIC, aes(x=przedzial,wszyscy, zrezygnowali)) +\n",
    "geom_bar(aes(y=wszyscy),stat=\"identity\",color=\"olivedrab4\",fill=\"olivedrab1\",position = \"dodge\") +\n",
    "geom_bar(aes(y=zrezygnowali),stat=\"identity\",color=\"red\",fill=\"pink\",position = \"dodge\") +\n",
    "labs(x = \"Staż pracy pracownika w firmie\", y = \"Liczba wszystkich pracowników (Liczba byłych pracowników)\") +\n",
    "ggtitle(\"Wykres zmiennej TIC\") +\n",
    "theme_minimal() +\n",
    "theme(plot.title=element_text( hjust=0.5, vjust=0.5, face='bold')) +\n",
    "annotate(\"text\", x=licznosc_grup_TIC[1,1]$przedzial, y=licznosc_grup_TIC[1,3]$zrezygnowali+40, label= paste0(licznosc_grup_TIC[1,5]$procent,\"%\",collapse=''), color='red') +\n",
    "annotate(\"text\", x=licznosc_grup_TIC[2,1]$przedzial, y=licznosc_grup_TIC[2,3]$zrezygnowali+40, label= paste0(licznosc_grup_TIC[2,5]$procent,\"%\",collapse=''), color='red') +\n",
    "annotate(\"text\", x=licznosc_grup_TIC[3,1]$przedzial, y=licznosc_grup_TIC[3,3]$zrezygnowali+40, label= paste0(licznosc_grup_TIC[3,5]$procent,\"%\",collapse=''), color='red') +\n",
    "annotate(\"text\", x=licznosc_grup_TIC[4,1]$przedzial, y=licznosc_grup_TIC[4,3]$zrezygnowali+40, label= paste0(licznosc_grup_TIC[4,5]$procent,\"%\",collapse=''), color='red') +\n",
    "annotate(\"text\", x=licznosc_grup_TIC[5,1]$przedzial, y=licznosc_grup_TIC[5,3]$zrezygnowali+40, label= paste0(licznosc_grup_TIC[5,5]$procent,\"%\",collapse=''), color='red') "
   ]
  },
  {
   "cell_type": "code",
   "execution_count": null,
   "metadata": {},
   "outputs": [],
   "source": [
    "licznosc_grup_TIC"
   ]
  },
  {
   "cell_type": "markdown",
   "metadata": {},
   "source": [
    "Wykres zmiennej TIC, czyli stażu pracownika w firmie, przedstawia dość wąski zakres możliwych wartości - od 2 do 6 lat. Nie ma tutaj zatem nowozatrudnionych osób, które zrezygnowały podczas okresu próbnego. Nie ma też pracowników o bardzo długim stażu pracy, którzy prawdopodobnie staliby się tutaj obserwacjami odstającymi. Zdecydowaną przewagę liczebną w analizowanym zbiorze testowym ma grupa osób pracująca w firmie 3 lata. Następne grupy wskazują spodziewaną tendencję spadkową. Procentowe wartości osób odchodzących ma tym razem kształt odwróconej litery \"U\" - szczyt przypada na grupę 5 lat w firmie, gdzie z pracy zrezygnowało aż 45% osób tej grupy. "
   ]
  },
  {
   "cell_type": "code",
   "execution_count": 18,
   "metadata": {},
   "outputs": [
    {
     "data": {
      "text/html": [
       "<table>\n",
       "<thead><tr><th scope=col>przedzial</th><th scope=col>wszyscy</th><th scope=col>zrezygnowali</th><th scope=col>zostali</th><th scope=col>procent</th></tr></thead>\n",
       "<tbody>\n",
       "\t<tr><td>0   </td><td>7071</td><td>1282</td><td>5789</td><td>18  </td></tr>\n",
       "\t<tr><td>1   </td><td>1318</td><td>  79</td><td>1239</td><td> 6  </td></tr>\n",
       "</tbody>\n",
       "</table>\n"
      ],
      "text/latex": [
       "\\begin{tabular}{r|lllll}\n",
       " przedzial & wszyscy & zrezygnowali & zostali & procent\\\\\n",
       "\\hline\n",
       "\t 0    & 7071 & 1282 & 5789 & 18  \\\\\n",
       "\t 1    & 1318 &   79 & 1239 &  6  \\\\\n",
       "\\end{tabular}\n"
      ],
      "text/markdown": [
       "\n",
       "| przedzial | wszyscy | zrezygnowali | zostali | procent |\n",
       "|---|---|---|---|---|\n",
       "| 0    | 7071 | 1282 | 5789 | 18   |\n",
       "| 1    | 1318 |   79 | 1239 |  6   |\n",
       "\n"
      ],
      "text/plain": [
       "  przedzial wszyscy zrezygnowali zostali procent\n",
       "1 0         7071    1282         5789    18     \n",
       "2 1         1318      79         1239     6     "
      ]
     },
     "metadata": {},
     "output_type": "display_data"
    }
   ],
   "source": [
    "licznosc_grup_Newborn=data.table(przedzial = c(0,1),wszyscy = 1:2, zrezygnowali = 1:2)\n",
    "for (i in 1:2)\n",
    "{\n",
    "    licznosc_grup_Newborn[i,2] = dane_trn[Newborn==i-1,.N]\n",
    "    licznosc_grup_Newborn[i,3] = dane_trn[Newborn==i-1 & left==1,.N]\n",
    "\n",
    "}\n",
    "licznosc_grup_Newborn[,zostali:=wszyscy-zrezygnowali]\n",
    "licznosc_grup_Newborn[,procent:=round(zrezygnowali/wszyscy,2)*100]\n",
    "licznosc_grup_Newborn[,przedzial:=as.factor(przedzial)]\n"
   ]
  },
  {
   "cell_type": "code",
   "execution_count": 19,
   "metadata": {},
   "outputs": [
    {
     "data": {
      "image/png": "[encoded data removed]",
      "text/plain": [
       "plot without title"
      ]
     },
     "metadata": {},
     "output_type": "display_data"
    }
   ],
   "source": [
    "ggplot(data=licznosc_grup_Newborn, aes(x=przedzial,wszyscy, zrezygnowali)) +\n",
    "geom_bar(aes(y=wszyscy),stat=\"identity\",color=\"olivedrab4\",fill=\"olivedrab1\",position = \"dodge\") +\n",
    "geom_bar(aes(y=zrezygnowali),stat=\"identity\",color=\"red\",fill=\"pink\",position = \"dodge\") +\n",
    "labs(x = \"Czy urodziło się dziecko w ciągu ostatnich 12 miesięcy?\", y = \"Liczba wszystkich pracowników (Liczba byłych pracowników)\") +\n",
    "ggtitle(\"Wykres zmiennej Newborn\") +\n",
    "theme_minimal() +\n",
    "theme(plot.title=element_text( hjust=0.5, vjust=0.5, face='bold')) +\n",
    "annotate(\"text\", x=licznosc_grup_Newborn[1,1]$przedzial, y=licznosc_grup_Newborn[1,3]$zrezygnowali+60, label= paste0(licznosc_grup_Newborn[1,5]$procent,\"%\",collapse=''), color='red') +\n",
    "annotate(\"text\", x=licznosc_grup_Newborn[2,1]$przedzial, y=licznosc_grup_Newborn[2,3]$zrezygnowali+60, label= paste0(licznosc_grup_Newborn[2,5]$procent,\"%\",collapse=''), color='red')"
   ]
  },
  {
   "cell_type": "code",
   "execution_count": null,
   "metadata": {},
   "outputs": [],
   "source": [
    "licznosc_grup_Newborn"
   ]
  },
  {
   "cell_type": "markdown",
   "metadata": {},
   "source": [
    "Ostatnia zmienna, Newborn, określa przez przypisanie wartości 1 sytuację, gdzie pracownikowi urodziło się dziecko w przeciągu ostatniego roku. W przeciwnym przypadku zmienna ma wartość 0. Wykres przedstawia dwie ważne informacje: osób z małymi dziećmi jest zdecydowanie mniej niż reszty oraz widać wyraźny spadek rezygnacji w grupie 1 w porównaniu do grupy 0. Obie informacje są mało zaskakujące. Narodziny dziecka są dość rzadkim i raczej planowanym zjawiskiem. Dodatkowy członek rodziny wymaga również większych nakładów pieniężnych, zwłaszcza na samym początku. Kobiety w ciąży oraz niedługo po porodzie często są chronione prawem zabraniającym zwolnienia. Same pracownice też raczej nie będą chciały odchodzić z pracy w trakcie ciąży lub krótko po urodzeniu, gdyż wiązałoby się to z bezsensowną utratą finansowania. W przypadku mężczyzn można się spodziewać, że niewielki odsetek odejść wiąże się z realnym ryzykiem utraty ciągłości finansowej w momencie, gdy pieniądze są najbardziej potrzebne. Można się domyślać, że pracownicy odchodzący w takim momencie z pracy to osoby o niskich zarobkach, którzy szukają lepiej płatnej pracy. Z drugiej strony mogą to być osoby, które mają tak dobrą sytuację finansową, że mogą pozwolić sobie na dłuższą przerwę w pracy i skupienie się na dziecku. "
   ]
  },
  {
   "cell_type": "markdown",
   "metadata": {},
   "source": [
    "Podsumowując, zbiór treningowy składa się z osób, które przepracowały w firmie od 2 do 6 lat. Najczęściej pracowali oni nad 3-4 projektami i zdecydowana większość za ostatni projekt otrzymała przynajmniej połowę możliwej oceny przez klienta. Większość pracowników oceniła, że ich satysfakcja z pracy wynosi powyżej 50%. Ryzyko rezygnacji z pracy rośnie, gdy pracownik nie czuje satysfakcji z pracy (poniżej 50%). Szansa odejścia rośnie też, gdy pracownik jest źle lub bardzo dobrze oceniany przez klientów. Ryzyko rezygnacji pracownika może obniżać stabilne zatrudnienie na pełen lub 1.25 etatu i praca nad 3-5 różnymi projektami w roku. Ryzyko spada również, gdy pracownikowi urodziło się niedawno dziecko. "
   ]
  },
  {
   "cell_type": "markdown",
   "metadata": {},
   "source": [
    "## Kodowanie zmiennych na WoE\n",
    "\n",
    "Jedną z metod obróbki danych do regresji logistycznej jest zastosowanie kodowania WoE (Weight of Evidence). Przed przystąpieniem do kodowania, wszystkie zmienne zostaną poddane procesowi dyskretyzacji (binowanie zmiennych). Celem jest osiągnięcie przedziałów, które będą zawierały przynajmniej 8% wszystkich obserwacji oraz wartości WoE obliczone na tych przedziałach powinny w kolejności wykazywać charakter liniowy lub paraboliczny. Kolejnym kryterium jest zwiększanie wartości IV (Information Value). \n",
    "\n",
    "Poniżej przedstawiono wynik automatycznego binowania. Użyto do tego pakietu \"Information\". Wyniki te nie muszą spełniać podanych wyżej wymagań, ale są dobrym punktem startowym analizy. "
   ]
  },
  {
   "cell_type": "code",
   "execution_count": 20,
   "metadata": {},
   "outputs": [
    {
     "data": {
      "text/plain": [
       "$Tables\n",
       "$Tables$S\n",
       "             S   N    Percent        WOE        IV\n",
       "1  [0.09,0.24] 827 0.09858148  1.3419988 0.2563843\n",
       "2  [0.25,0.42] 814 0.09703183  1.5974492 0.6289737\n",
       "3  [0.43,0.51] 807 0.09619740  0.6224641 0.6743268\n",
       "4  [0.52,0.58] 820 0.09774705 -2.5679730 0.9469213\n",
       "5  [0.59,0.65] 853 0.10168077 -2.5267701 1.2247905\n",
       "6  [0.66,0.72] 831 0.09905829 -1.8735874 1.4068888\n",
       "7  [0.73,0.78] 841 0.10025033 -0.2627502 1.4132123\n",
       "8  [0.79,0.85] 904 0.10776016 -0.1604398 1.4158382\n",
       "9  [0.86,0.92] 848 0.10108475 -0.2513752 1.4216974\n",
       "10    [0.93,1] 844 0.10060794  0.0000000 1.4216974\n",
       "\n",
       "$Tables$LPE\n",
       "           LPE   N    Percent        WOE         IV\n",
       "1  [0.36,0.49] 825 0.09834307  0.7211454 0.06397803\n",
       "2   [0.5,0.53] 712 0.08487305  0.6093928 0.10218561\n",
       "3  [0.54,0.58] 877 0.10454166  0.2948298 0.11219744\n",
       "4  [0.59,0.64] 847 0.10096555 -2.4442939 0.37676620\n",
       "5  [0.65,0.71] 923 0.11002503 -2.5316053 0.67816199\n",
       "6  [0.72,0.77] 838 0.09989272 -1.5846654 0.82263910\n",
       "7  [0.78,0.83] 825 0.09834307 -0.1000666 0.82359088\n",
       "8  [0.84,0.88] 762 0.09083323  0.3939742 0.83961525\n",
       "9  [0.89,0.94] 920 0.10966742  0.3734806 0.85689153\n",
       "10    [0.95,1] 860 0.10251520  0.4672044 0.88290165\n",
       "\n",
       "$Tables$NP\n",
       "     NP    N   Percent        WOE        IV\n",
       "1 [2,2] 1102 0.1313625  1.7980803 0.6547916\n",
       "2 [3,3] 2495 0.2974133 -2.8368712 1.5922396\n",
       "3 [4,4] 2572 0.3065920 -1.0915263 1.8414013\n",
       "4 [5,7] 2220 0.2646323  0.6069216 1.9594834\n",
       "\n",
       "$Tables$ANH\n",
       "         ANH   N    Percent         WOE         IV\n",
       "1   [96,138] 834 0.09941590  0.50758256 0.03013584\n",
       "2  [139,150] 787 0.09381333  0.64389868 0.07775358\n",
       "3  [151,164] 865 0.10311122  0.38072576 0.09467147\n",
       "4  [165,181] 849 0.10120396 -2.78794317 0.40701055\n",
       "5  [182,199] 839 0.10001192 -3.00150581 0.74426962\n",
       "6  [200,217] 821 0.09786625 -2.21470348 0.96996724\n",
       "7  [218,235] 868 0.10346883 -0.51523441 0.99293237\n",
       "8  [236,249] 799 0.09524377  0.07518229 0.99348449\n",
       "9  [250,264] 853 0.10168077  0.33692000 1.00637166\n",
       "10 [265,310] 874 0.10418405  1.04320049 1.16026801\n",
       "\n",
       "$Tables$TIC\n",
       "    TIC    N   Percent          WOE        IV\n",
       "1 [2,2] 2122 0.2529503 -3.064998750 0.8743562\n",
       "2 [3,3] 3739 0.4457027  0.002749607 0.8743596\n",
       "3 [4,4] 1440 0.1716534  0.420780580 0.9091897\n",
       "4 [5,6] 1088 0.1296936  1.123005948 1.1352168\n",
       "\n",
       "$Tables$Newborn\n",
       "  Newborn    N   Percent        WOE         IV\n",
       "1       0 7071 0.8428895  0.1341442 0.01586246\n",
       "2       1 1318 0.1571105 -1.1109296 0.14722907\n",
       "\n",
       "\n",
       "$Summary\n",
       "  Variable        IV\n",
       "3       NP 1.9594834\n",
       "1        S 1.4216974\n",
       "4      ANH 1.1602680\n",
       "5      TIC 1.1352168\n",
       "2      LPE 0.8829017\n",
       "6  Newborn 0.1472291\n",
       "\n",
       "attr(,\"class\")\n",
       "[1] \"Information\""
      ]
     },
     "metadata": {},
     "output_type": "display_data"
    }
   ],
   "source": [
    "dane_trn[,left:=as.numeric(left)]\n",
    "\n",
    "WOE_table <- create_infotables(data=dane_trn, y=\"left\", parallel=FALSE)\n",
    "WOE_table"
   ]
  },
  {
   "cell_type": "code",
   "execution_count": 21,
   "metadata": {},
   "outputs": [
    {
     "data": {
      "text/html": [
       "<table>\n",
       "<thead><tr><th></th><th scope=col>S</th><th scope=col>LPE</th><th scope=col>ANH</th></tr></thead>\n",
       "<tbody>\n",
       "\t<tr><th scope=row>S</th><td> 1.00000000</td><td>0.1014741  </td><td>-0.01339983</td></tr>\n",
       "\t<tr><th scope=row>LPE</th><td> 0.10147409</td><td>1.0000000  </td><td> 0.25251012</td></tr>\n",
       "\t<tr><th scope=row>ANH</th><td>-0.01339983</td><td>0.2525101  </td><td> 1.00000000</td></tr>\n",
       "</tbody>\n",
       "</table>\n"
      ],
      "text/latex": [
       "\\begin{tabular}{r|lll}\n",
       "  & S & LPE & ANH\\\\\n",
       "\\hline\n",
       "\tS &  1.00000000 & 0.1014741   & -0.01339983\\\\\n",
       "\tLPE &  0.10147409 & 1.0000000   &  0.25251012\\\\\n",
       "\tANH & -0.01339983 & 0.2525101   &  1.00000000\\\\\n",
       "\\end{tabular}\n"
      ],
      "text/markdown": [
       "\n",
       "| <!--/--> | S | LPE | ANH |\n",
       "|---|---|---|---|\n",
       "| S |  1.00000000 | 0.1014741   | -0.01339983 |\n",
       "| LPE |  0.10147409 | 1.0000000   |  0.25251012 |\n",
       "| ANH | -0.01339983 | 0.2525101   |  1.00000000 |\n",
       "\n"
      ],
      "text/plain": [
       "    S           LPE       ANH        \n",
       "S    1.00000000 0.1014741 -0.01339983\n",
       "LPE  0.10147409 1.0000000  0.25251012\n",
       "ANH -0.01339983 0.2525101  1.00000000"
      ]
     },
     "metadata": {},
     "output_type": "display_data"
    }
   ],
   "source": [
    "cor(dane_trn[,.(S,LPE,ANH)])"
   ]
  },
  {
   "cell_type": "code",
   "execution_count": 22,
   "metadata": {},
   "outputs": [
    {
     "data": {
      "text/plain": [
       "$Tables\n",
       "$Tables$S\n",
       "            S    N   Percent        WOE        IV\n",
       "1 [0.42,0.42] 1641 0.1956133  1.4694112 0.6234518\n",
       "2 [0.51,0.51]  807 0.0961974  0.6224641 0.6688048\n",
       "3 [0.72,0.72] 2504 0.2984861 -2.2723793 1.3807733\n",
       "4       [1,1] 3437 0.4097032 -0.5417178 1.4803590\n",
       "\n",
       "\n",
       "$Summary\n",
       "  Variable       IV\n",
       "1        S 1.480359\n",
       "\n",
       "attr(,\"class\")\n",
       "[1] \"Information\""
      ]
     },
     "metadata": {},
     "output_type": "display_data"
    }
   ],
   "source": [
    "dane_trn[S<=0.42,S:=0.42]\n",
    "dane_trn[S>0.42 & S<=0.51,S:=0.51]\n",
    "dane_trn[S>0.51 & S<=0.72,S:=0.72]\n",
    "dane_trn[S>0.72 ,S:=1]\n",
    "WOE_table <- create_infotables(data=dane_trn[,.(S,left)], y=\"left\", parallel=FALSE)\n",
    "WOE_table"
   ]
  },
  {
   "cell_type": "code",
   "execution_count": 23,
   "metadata": {},
   "outputs": [
    {
     "data": {
      "text/plain": [
       "$Tables\n",
       "$Tables$LPE\n",
       "          LPE    N    Percent        WOE        IV\n",
       "1 [0.53,0.53] 1537 0.18321612  0.6700781 0.1014599\n",
       "2 [0.58,0.58]  877 0.10454166  0.2948298 0.1114717\n",
       "3 [0.77,0.77] 2608 0.31088330 -2.1070370 0.7824884\n",
       "4 [0.83,0.83]  825 0.09834307 -0.1000666 0.7834401\n",
       "5       [1,1] 2542 0.30301585  0.4117877 0.8421623\n",
       "\n",
       "\n",
       "$Summary\n",
       "  Variable        IV\n",
       "1      LPE 0.8421623\n",
       "\n",
       "attr(,\"class\")\n",
       "[1] \"Information\""
      ]
     },
     "metadata": {},
     "output_type": "display_data"
    }
   ],
   "source": [
    "dane_trn[LPE<=0.53,LPE:=0.53]\n",
    "dane_trn[LPE>0.53 & LPE<=0.58,LPE:=0.58]\n",
    "dane_trn[LPE>0.58 & LPE<=0.77,LPE:=0.77]\n",
    "dane_trn[LPE>0.77 & LPE<=0.83,LPE:=0.83]\n",
    "dane_trn[LPE>0.83 ,LPE:=1]\n",
    "WOE_table <- create_infotables(data=dane_trn[,.(LPE,left)], y=\"left\", parallel=FALSE)\n",
    "WOE_table"
   ]
  },
  {
   "cell_type": "code",
   "execution_count": 24,
   "metadata": {},
   "outputs": [
    {
     "data": {
      "text/plain": [
       "$Tables\n",
       "$Tables$NP\n",
       "     NP    N   Percent        WOE        IV\n",
       "1 [2,2] 1102 0.1313625  1.7980803 0.6547916\n",
       "2 [3,3] 2495 0.2974133 -2.8368712 1.5922396\n",
       "3 [4,4] 2572 0.3065920 -1.0915263 1.8414013\n",
       "4 [5,7] 2220 0.2646323  0.6069216 1.9594834\n",
       "\n",
       "\n",
       "$Summary\n",
       "  Variable       IV\n",
       "1       NP 1.959483\n",
       "\n",
       "attr(,\"class\")\n",
       "[1] \"Information\""
      ]
     },
     "metadata": {},
     "output_type": "display_data"
    }
   ],
   "source": [
    "WOE_table <- create_infotables(data=dane_trn[,.(NP,left)], y=\"left\", parallel=FALSE)\n",
    "WOE_table\n",
    "#bez zmian"
   ]
  },
  {
   "cell_type": "code",
   "execution_count": 25,
   "metadata": {},
   "outputs": [
    {
     "data": {
      "text/plain": [
       "$Tables\n",
       "$Tables$ANH\n",
       "        ANH    N   Percent        WOE         IV\n",
       "1 [150,150] 1621 0.1932292  0.5748966 0.07664724\n",
       "2 [164,164]  865 0.1031112  0.3807258 0.09356513\n",
       "3 [217,217] 2509 0.2990821 -2.6165610 0.94735974\n",
       "4 [235,235]  868 0.1034688 -0.5152344 0.97032487\n",
       "5 [264,264] 1652 0.1969245  0.2155666 0.98015334\n",
       "6 [310,310]  874 0.1041841  1.0432005 1.13404968\n",
       "\n",
       "\n",
       "$Summary\n",
       "  Variable      IV\n",
       "1      ANH 1.13405\n",
       "\n",
       "attr(,\"class\")\n",
       "[1] \"Information\""
      ]
     },
     "metadata": {},
     "output_type": "display_data"
    }
   ],
   "source": [
    "dane_trn[ANH<=150,ANH:=150]\n",
    "dane_trn[ANH>150 & ANH<=164,ANH:=164]\n",
    "dane_trn[ANH>164 & ANH<=217,ANH:=217]\n",
    "dane_trn[ANH>217 & ANH<=235,ANH:=235]\n",
    "dane_trn[ANH>235 & ANH<=264,ANH:=264]\n",
    "dane_trn[ANH>264 ,ANH:=310]\n",
    "WOE_table <- create_infotables(data=dane_trn[,.(ANH,left)], y=\"left\", parallel=FALSE)\n",
    "WOE_table"
   ]
  },
  {
   "cell_type": "code",
   "execution_count": 26,
   "metadata": {},
   "outputs": [
    {
     "data": {
      "text/plain": [
       "$Tables\n",
       "$Tables$TIC\n",
       "    TIC    N   Percent          WOE        IV\n",
       "1 [2,2] 2122 0.2529503 -3.064998750 0.8743562\n",
       "2 [3,3] 3739 0.4457027  0.002749607 0.8743596\n",
       "3 [4,4] 1440 0.1716534  0.420780580 0.9091897\n",
       "4 [5,6] 1088 0.1296936  1.123005948 1.1352168\n",
       "\n",
       "\n",
       "$Summary\n",
       "  Variable       IV\n",
       "1      TIC 1.135217\n",
       "\n",
       "attr(,\"class\")\n",
       "[1] \"Information\""
      ]
     },
     "metadata": {},
     "output_type": "display_data"
    }
   ],
   "source": [
    "WOE_table <- create_infotables(data=dane_trn[,.(TIC,left)], y=\"left\", parallel=FALSE)\n",
    "WOE_table#bez zmian"
   ]
  },
  {
   "cell_type": "code",
   "execution_count": 27,
   "metadata": {},
   "outputs": [
    {
     "data": {
      "text/plain": [
       "$Tables\n",
       "$Tables$Newborn\n",
       "  Newborn    N   Percent        WOE         IV\n",
       "1       0 7071 0.8428895  0.1341442 0.01586246\n",
       "2       1 1318 0.1571105 -1.1109296 0.14722907\n",
       "\n",
       "\n",
       "$Summary\n",
       "  Variable        IV\n",
       "1  Newborn 0.1472291\n",
       "\n",
       "attr(,\"class\")\n",
       "[1] \"Information\""
      ]
     },
     "metadata": {},
     "output_type": "display_data"
    }
   ],
   "source": [
    "WOE_table <- create_infotables(data=dane_trn[,.(Newborn,left)], y=\"left\", parallel=FALSE)\n",
    "WOE_table#bez zmian"
   ]
  },
  {
   "cell_type": "markdown",
   "metadata": {},
   "source": [
    "Poniżej przedstawiono podsumowanie wprowadzonej dyskretyzacji - górne granice przedziałów, ich wartości WoE oraz skumulowane IV. "
   ]
  },
  {
   "cell_type": "code",
   "execution_count": 28,
   "metadata": {},
   "outputs": [
    {
     "data": {
      "text/plain": [
       "$Tables\n",
       "$Tables$S\n",
       "            S    N   Percent        WOE        IV\n",
       "1 [0.42,0.42] 1641 0.1956133  1.4694112 0.6234518\n",
       "2 [0.51,0.51]  807 0.0961974  0.6224641 0.6688048\n",
       "3 [0.72,0.72] 2504 0.2984861 -2.2723793 1.3807733\n",
       "4       [1,1] 3437 0.4097032 -0.5417178 1.4803590\n",
       "\n",
       "$Tables$LPE\n",
       "          LPE    N    Percent        WOE        IV\n",
       "1 [0.53,0.53] 1537 0.18321612  0.6700781 0.1014599\n",
       "2 [0.58,0.58]  877 0.10454166  0.2948298 0.1114717\n",
       "3 [0.77,0.77] 2608 0.31088330 -2.1070370 0.7824884\n",
       "4 [0.83,0.83]  825 0.09834307 -0.1000666 0.7834401\n",
       "5       [1,1] 2542 0.30301585  0.4117877 0.8421623\n",
       "\n",
       "$Tables$NP\n",
       "     NP    N   Percent        WOE        IV\n",
       "1 [2,2] 1102 0.1313625  1.7980803 0.6547916\n",
       "2 [3,3] 2495 0.2974133 -2.8368712 1.5922396\n",
       "3 [4,4] 2572 0.3065920 -1.0915263 1.8414013\n",
       "4 [5,7] 2220 0.2646323  0.6069216 1.9594834\n",
       "\n",
       "$Tables$ANH\n",
       "        ANH    N   Percent        WOE         IV\n",
       "1 [150,150] 1621 0.1932292  0.5748966 0.07664724\n",
       "2 [164,164]  865 0.1031112  0.3807258 0.09356513\n",
       "3 [217,217] 2509 0.2990821 -2.6165610 0.94735974\n",
       "4 [235,235]  868 0.1034688 -0.5152344 0.97032487\n",
       "5 [264,264] 1652 0.1969245  0.2155666 0.98015334\n",
       "6 [310,310]  874 0.1041841  1.0432005 1.13404968\n",
       "\n",
       "$Tables$TIC\n",
       "    TIC    N   Percent          WOE        IV\n",
       "1 [2,2] 2122 0.2529503 -3.064998750 0.8743562\n",
       "2 [3,3] 3739 0.4457027  0.002749607 0.8743596\n",
       "3 [4,4] 1440 0.1716534  0.420780580 0.9091897\n",
       "4 [5,6] 1088 0.1296936  1.123005948 1.1352168\n",
       "\n",
       "$Tables$Newborn\n",
       "  Newborn    N   Percent        WOE         IV\n",
       "1       0 7071 0.8428895  0.1341442 0.01586246\n",
       "2       1 1318 0.1571105 -1.1109296 0.14722907\n",
       "\n",
       "\n",
       "$Summary\n",
       "  Variable        IV\n",
       "3       NP 1.9594834\n",
       "1        S 1.4803590\n",
       "5      TIC 1.1352168\n",
       "4      ANH 1.1340497\n",
       "2      LPE 0.8421623\n",
       "6  Newborn 0.1472291\n",
       "\n",
       "attr(,\"class\")\n",
       "[1] \"Information\""
      ]
     },
     "metadata": {},
     "output_type": "display_data"
    }
   ],
   "source": [
    "WOE_table <- create_infotables(data=dane_trn[,.(left,S, LPE, NP, ANH, TIC, Newborn)], y=\"left\", parallel=FALSE)\n",
    "WOE_table"
   ]
  },
  {
   "cell_type": "markdown",
   "metadata": {},
   "source": [
    "Wydruk powyżej przedstawia następujące zależności wartości WoE: \n",
    "\n",
    "1) Zgodnie z przewidywaniami, zmienne S, LPE, NP i ANH mają charakter paraboliczny (układają się w literę \"U\" wraz ze wzrostem wartości zmiennej). \n",
    "2) Zmienna TIC straciła kształt odwróconej litery \"U\" na rzecz trendu (liniowego) rosnącego. "
   ]
  },
  {
   "cell_type": "markdown",
   "metadata": {},
   "source": [
    "Należy tutaj zauważyć, że wartości IV dla wszystkich zmiennych poza Newborn są ogromne - \"reguła kciuka\" nakazuje, by wszystkie zmienne z IV powyżej 0.5 poddać dodatkowym rozważaniom pod kątem potencjalnego korzystania z informacji, którą chce się przewidzieć. Na podstawie dostępnych informacji nie widać przesłanek, by którakolwiek ze zmiennych powinna być wyrzucona. \n",
    "\n",
    "Poziom Satysfakcji S jest daną ankietową, którą wypełniają tylko osoby aktywnie pracujące w firmie (nawet jeśli są w trakcie poszukiwania innej pracy). \n",
    "Ocena ostatniego wykonanego projektu LPE bierze pod uwagę ostatni skończony projekt. Problem mógłby nastąpić, gdyby zmienna zwracała ocenę projektu niedokończonego przez danego pracownika. Najniższa ocena wynosi 0.4, więc można się spodziewać, że żaden projekt zawarty w danych nie upadł. \n",
    "Staż pracownika w firmie TIC mógłby być problemem, gdyby pewna liczba lat oznaczała zwolnienie. \n",
    "Liczba projektów NP byłaby podejrzana, gdyby pojawiły się wartości równe 0 wraz ze zmienną left równą 1. \n",
    "Zmienna średniego miesięcznego czasu pracy ANH również nie wykazuje nic podejrzanego. \n",
    "Ponadto żadna ze zmiennych nie jest wprost pochodną zmiennej left. "
   ]
  },
  {
   "cell_type": "markdown",
   "metadata": {},
   "source": [
    "Poniżej zmienne kodowane są na WoE."
   ]
  },
  {
   "cell_type": "code",
   "execution_count": 29,
   "metadata": {},
   "outputs": [],
   "source": [
    "\n",
    "dane_trn[S<=0.42,S_WOE:=1.4694112]\n",
    "dane_trn[S>0.42 & S<=0.51,S_WOE:=0.6224641]\n",
    "dane_trn[S>0.51 & S<=0.72,S_WOE:=-2.2723793]\n",
    "dane_trn[S>0.72 ,S_WOE:=-0.5417178]\n",
    "\n",
    "dane_tst[S<=0.42,S_WOE:=1.4694112]\n",
    "dane_tst[S>0.42 & S<=0.51,S_WOE:=0.6224641]\n",
    "dane_tst[S>0.51 & S<=0.72,S_WOE:=-2.2723793]\n",
    "dane_tst[S>0.72 ,S_WOE:=-0.5417178]"
   ]
  },
  {
   "cell_type": "code",
   "execution_count": 30,
   "metadata": {},
   "outputs": [],
   "source": [
    "dane_trn[LPE<=0.53,LPE_WOE:=0.6700781 ]\n",
    "dane_trn[LPE>0.53 & LPE<=0.58,LPE_WOE:=0.2948298 ]\n",
    "dane_trn[LPE>0.58 & LPE<=0.77,LPE_WOE:=-2.1070370 ]\n",
    "dane_trn[LPE>0.77 & LPE<=0.83,LPE_WOE:=-0.1000666 ]\n",
    "dane_trn[LPE>0.83 ,LPE_WOE:=0.4117877 ]\n",
    "\n",
    "dane_tst[LPE<=0.53,LPE_WOE:=0.6700781 ]\n",
    "dane_tst[LPE>0.53 & LPE<=0.58,LPE_WOE:=0.2948298 ]\n",
    "dane_tst[LPE>0.58 & LPE<=0.77,LPE_WOE:=-2.1070370 ]\n",
    "dane_tst[LPE>0.77 & LPE<=0.83,LPE_WOE:=-0.1000666 ]\n",
    "dane_tst[LPE>0.83 ,LPE_WOE:=0.4117877 ]"
   ]
  },
  {
   "cell_type": "code",
   "execution_count": 31,
   "metadata": {},
   "outputs": [],
   "source": [
    "dane_trn[NP<=2 , NP_WOE:=1.7980803  ]\n",
    "dane_trn[NP==3 , NP_WOE:=-2.8368712  ]\n",
    "dane_trn[NP==4 , NP_WOE:=-1.0915263  ]\n",
    "dane_trn[NP>4  , NP_WOE:=0.6069216  ]\n",
    "\n",
    "dane_tst[NP<=2, NP_WOE:=1.7980803  ]\n",
    "dane_tst[NP==3, NP_WOE:=-2.8368712  ]\n",
    "dane_tst[NP==4, NP_WOE:=-1.0915263  ]\n",
    "dane_tst[NP>4 , NP_WOE:=0.6069216  ]"
   ]
  },
  {
   "cell_type": "code",
   "execution_count": 32,
   "metadata": {},
   "outputs": [],
   "source": [
    "dane_trn[ANH<=150,ANH_WOE:=0.5748966 ]\n",
    "dane_trn[ANH>150 & ANH<=164,ANH_WOE:=0.3807258 ]\n",
    "dane_trn[ANH>164 & ANH<=217,ANH_WOE:=-2.6165610 ]\n",
    "dane_trn[ANH>217 & ANH<=235,ANH_WOE:=-0.5152344 ]\n",
    "dane_trn[ANH>235 & ANH<=264,ANH_WOE:=0.2155666 ]\n",
    "dane_trn[ANH>264 ,ANH_WOE:=1.0432005 ]\n",
    "\n",
    "dane_tst[ANH<=150,ANH_WOE:=0.5748966 ]\n",
    "dane_tst[ANH>150 & ANH<=164,ANH_WOE:=0.3807258 ]\n",
    "dane_tst[ANH>164 & ANH<=217,ANH_WOE:=-2.6165610 ]\n",
    "dane_tst[ANH>217 & ANH<=235,ANH_WOE:=-0.5152344 ]\n",
    "dane_tst[ANH>235 & ANH<=264,ANH_WOE:=0.2155666 ]\n",
    "dane_tst[ANH>264 ,ANH_WOE:=1.0432005 ]"
   ]
  },
  {
   "cell_type": "code",
   "execution_count": 33,
   "metadata": {},
   "outputs": [],
   "source": [
    "dane_trn[TIC<=2 , TIC_WOE:=-3.064998750   ]\n",
    "dane_trn[TIC==3 , TIC_WOE:=0.002749607   ]\n",
    "dane_trn[TIC==4 , TIC_WOE:=0.420780580  ]\n",
    "dane_trn[TIC>4  , TIC_WOE:=1.123005948  ]\n",
    "\n",
    "dane_tst[TIC<=2, TIC_WOE:=-3.064998750  ]\n",
    "dane_tst[TIC==3, TIC_WOE:=0.002749607  ]\n",
    "dane_tst[TIC==4, TIC_WOE:=0.420780580  ]\n",
    "dane_tst[TIC>4 , TIC_WOE:=1.123005948  ]"
   ]
  },
  {
   "cell_type": "code",
   "execution_count": 34,
   "metadata": {},
   "outputs": [],
   "source": [
    "dane_trn[Newborn==0 , Newborn_WOE:= 0.1341442   ]\n",
    "dane_trn[Newborn==1 , Newborn_WOE:=-1.1109296   ]\n",
    "dane_tst[Newborn==0 , Newborn_WOE:= 0.1341442  ]\n",
    "dane_tst[Newborn==1 , Newborn_WOE:=-1.1109296  ]"
   ]
  },
  {
   "cell_type": "markdown",
   "metadata": {},
   "source": [
    "## Modelowanie rezygnacji z pracy przy użyciu regresji logistycznej"
   ]
  },
  {
   "cell_type": "code",
   "execution_count": 35,
   "metadata": {},
   "outputs": [],
   "source": [
    "Zmienne_WOE=c('S_WOE', 'LPE_WOE',\n",
    "                'NP_WOE', 'ANH_WOE', 'TIC_WOE', 'Newborn_WOE')"
   ]
  },
  {
   "cell_type": "code",
   "execution_count": 36,
   "metadata": {},
   "outputs": [
    {
     "data": {
      "text/plain": [
       "left ~ S_WOE + LPE_WOE + NP_WOE + ANH_WOE + TIC_WOE + Newborn_WOE"
      ]
     },
     "metadata": {},
     "output_type": "display_data"
    },
    {
     "data": {
      "text/plain": [
       "\n",
       "Call:\n",
       "glm(formula = formula1, family = binomial(link = \"logit\"), data = dane_trn)\n",
       "\n",
       "Deviance Residuals: \n",
       "    Min       1Q   Median       3Q      Max  \n",
       "-2.5749  -0.2677  -0.0807  -0.0151   4.5546  \n",
       "\n",
       "Coefficients:\n",
       "            Estimate Std. Error z value Pr(>|z|)    \n",
       "(Intercept) -1.78981    0.06123 -29.231   <2e-16 ***\n",
       "S_WOE        0.60091    0.03585  16.763   <2e-16 ***\n",
       "LPE_WOE      0.83583    0.05623  14.864   <2e-16 ***\n",
       "NP_WOE       0.77430    0.03586  21.592   <2e-16 ***\n",
       "ANH_WOE      0.80593    0.04911  16.412   <2e-16 ***\n",
       "TIC_WOE      1.10965    0.07424  14.948   <2e-16 ***\n",
       "Newborn_WOE  1.08521    0.12140   8.939   <2e-16 ***\n",
       "---\n",
       "Signif. codes:  0 '***' 0.001 '**' 0.01 '*' 0.05 '.' 0.1 ' ' 1\n",
       "\n",
       "(Dispersion parameter for binomial family taken to be 1)\n",
       "\n",
       "    Null deviance: 7438.7  on 8388  degrees of freedom\n",
       "Residual deviance: 3501.2  on 8382  degrees of freedom\n",
       "AIC: 3515.2\n",
       "\n",
       "Number of Fisher Scoring iterations: 8\n"
      ]
     },
     "metadata": {},
     "output_type": "display_data"
    }
   ],
   "source": [
    "(formula1<-as.formula(paste('left ~ ',paste(Zmienne_WOE,collapse = '+'))))\n",
    "model1 <- glm(formula1, data = dane_trn, family = binomial(link = 'logit'))\n",
    "summary(model1)\n"
   ]
  },
  {
   "cell_type": "markdown",
   "metadata": {},
   "source": [
    "Strategią budowania modelu było najpierw utworzenie modelu ze wszystkimi zmiennymi WoE. Następnym krokiem była próba usunięcia jednej zmiennej i porównanie wyników Gini Index oraz kryterium AIC Akaike. Okazało się, że próba usunięcia którejkolwiek ze zmiennych skutkowała w pogorszeniu się predykcji - Gini Index zawsze lekko spadało, a wartość AIC rosła. Drugim podejściem było dodatkowe zastosowanie funkcji step po odjęciu jednej zmiennej, co również nie dało lepszych wyników. Należy tutaj nadmienić, że w każdej sprawdzanej sytuacji wszystkie obliczone współczynniki były niezerowe na przyjętym poziomie istotności 0.05. Niska liczba iteracji nie daje podstaw by podejrzewać, że założenia regresji zostały złamane. "
   ]
  },
  {
   "cell_type": "code",
   "execution_count": 37,
   "metadata": {},
   "outputs": [],
   "source": [
    "rocplot=function(pred,truth,...)\n",
    "    {\n",
    "    predob=prediction(pred,truth)\n",
    "    perf=performance(predob,'tpr','fpr')\n",
    "    gini=2*attributes(performance(predob,\"auc\"))$y.values[[1]]-1\n",
    "    plot(perf,main=paste0(\"Gini index: \",round(gini,2)))\n",
    "    invisible()\n",
    "}"
   ]
  },
  {
   "cell_type": "code",
   "execution_count": 38,
   "metadata": {},
   "outputs": [
    {
     "data": {
      "image/png": "[encoded data removed]",
      "text/plain": [
       "Plot with title \"Gini index: 0.89\""
      ]
     },
     "metadata": {},
     "output_type": "display_data"
    }
   ],
   "source": [
    "wyniki1_ver0=rocplot(predict(model1,dane_trn,type='response'),dane_trn$left)"
   ]
  },
  {
   "cell_type": "code",
   "execution_count": 39,
   "metadata": {},
   "outputs": [
    {
     "data": {
      "image/png": "[encoded data removed]",
      "text/plain": [
       "Plot with title \"Gini index: 0.89\""
      ]
     },
     "metadata": {},
     "output_type": "display_data"
    }
   ],
   "source": [
    "wyniki1_ver1=rocplot(predict(model1,dane_tst,type='response'),dane_tst$left)"
   ]
  },
  {
   "cell_type": "markdown",
   "metadata": {},
   "source": [
    "Powyżej przedstawiono dwa wykresy krzywej ROC i wartości współczynnika Gini. Górny wykres to sprawdzenie dopasowania do zbioru treningowego, a dolny do testowego. Wartości współczynnika są takie same oraz wykresy mają zbliżone do siebie kształty. Same krzywe nie mają żadnych większych \"garbów\", które mogłyby wzbudzać podejrzenia. \n",
    "\n",
    "Z uwagi na to, że dane są niezbalansowane, często dobrym pomysłem jest dobranie wartości cutoffu tak, by lepiej wyłapywane były przypadki rzadsze, w tym przypadku są to osoby rezygnujące z pracy. Poniżej przedstawiono macierz konfuzji dla wartości cutoff równej 0.5. "
   ]
  },
  {
   "cell_type": "code",
   "execution_count": 40,
   "metadata": {},
   "outputs": [
    {
     "data": {
      "text/plain": [
       "   \n",
       "       0    1\n",
       "  0 2827  145\n",
       "  1  154  485"
      ]
     },
     "metadata": {},
     "output_type": "display_data"
    }
   ],
   "source": [
    "scores <- predict.glm(model1,newdata=dane_tst,type=\"response\")\n",
    "wynik <- data.frame(actuals=dane_tst$left)\n",
    "cut_off <- 0.50\n",
    "forecast <- data.table(forecast=scores>cut_off)*1\n",
    "(macierz_konf=table(wynik$actuals, forecast[,forecast]))"
   ]
  },
  {
   "cell_type": "code",
   "execution_count": 41,
   "metadata": {},
   "outputs": [
    {
     "name": "stdout",
     "output_type": "stream",
     "text": [
      "Accuracy równa się:  0.9171975 \n",
      "Specificity równa się:  0.9512113 \n",
      "Sensitivity równa się:  0.7589984"
     ]
    }
   ],
   "source": [
    "accuracy=(sum(diag(macierz_konf)))/sum(macierz_konf)\n",
    "specificity=macierz_konf[1]/(macierz_konf[1]+macierz_konf[3])\n",
    "sensitivity=macierz_konf[4]/(macierz_konf[2]+macierz_konf[4])\n",
    "\n",
    "cat(\"Accuracy równa się: \", accuracy,'\\n')\n",
    "cat(\"Specificity równa się: \", specificity,'\\n')\n",
    "cat(\"Sensitivity równa się: \", sensitivity)"
   ]
  },
  {
   "cell_type": "markdown",
   "metadata": {},
   "source": [
    "Wysoka wartość accuracy nie jest zaskoczeniem, model trywialny, który bierze zawsze klasę liczniejszą, będzie miał accuracy na poziomie 83%.\n",
    "Wartość sensitivity wydaje się być zdecydowanie za mała w porównaniu do specificity. Poprzez manipulowanie wartością cutoff można próbować zmniejszyć dysproporcje tak, by zyskać dużo na sensitivity i jednocześnie nie stracić wiele na specificity. Do wyznaczenia tej wartości zostanie użyta statystyka Youdena, która będzie maksymalizowana. Statystyka ta jest definiowana jako Specificity+Sensitivity-1."
   ]
  },
  {
   "cell_type": "code",
   "execution_count": 42,
   "metadata": {},
   "outputs": [],
   "source": [
    "cutoffy=data.frame(cutoff=seq(0.2,0.8,0.01),Youden_stat=rep(0,length(seq(0.2,0.8,0.01))))\n",
    "licznik=1\n",
    "for (i in seq(0.2,0.8,0.01))\n",
    "    {\n",
    "        cut_off = i\n",
    "        forecast <- data.table(forecast=scores>cut_off)*1\n",
    "        macierz_konf=table(wynik$actuals, forecast[,forecast])\n",
    "        specificity=macierz_konf[1]/(macierz_konf[1]+macierz_konf[3])\n",
    "        sensitivity=macierz_konf[4]/(macierz_konf[2]+macierz_konf[4])\n",
    "        cutoffy[licznik,1]=i\n",
    "        cutoffy[licznik,2]=specificity+sensitivity-1\n",
    "        licznik=licznik+1\n",
    "    \n",
    "    }"
   ]
  },
  {
   "cell_type": "code",
   "execution_count": 43,
   "metadata": {},
   "outputs": [
    {
     "data": {
      "text/html": [
       "0.25"
      ],
      "text/latex": [
       "0.25"
      ],
      "text/markdown": [
       "0.25"
      ],
      "text/plain": [
       "[1] 0.25"
      ]
     },
     "metadata": {},
     "output_type": "display_data"
    }
   ],
   "source": [
    "cutoffy[which.max(cutoffy$Youden_stat),1]"
   ]
  },
  {
   "cell_type": "markdown",
   "metadata": {},
   "source": [
    "Z obliczeń wynika, że optymalnym rozwiązaniem będzie cutoff równy 0.25."
   ]
  },
  {
   "cell_type": "code",
   "execution_count": 44,
   "metadata": {},
   "outputs": [
    {
     "data": {
      "text/plain": [
       "   \n",
       "       0    1\n",
       "  0 2669  303\n",
       "  1   74  565"
      ]
     },
     "metadata": {},
     "output_type": "display_data"
    }
   ],
   "source": [
    "scores <- predict.glm(model1,newdata=dane_tst,type=\"response\")\n",
    "wynik <- data.frame(actuals=dane_tst$left)\n",
    "cut_off <- 0.25\n",
    "forecast <- data.table(forecast=scores>cut_off)*1\n",
    "(macierz_konf=table(wynik$actuals, forecast[,forecast]))"
   ]
  },
  {
   "cell_type": "code",
   "execution_count": 45,
   "metadata": {},
   "outputs": [
    {
     "name": "stdout",
     "output_type": "stream",
     "text": [
      "Accuracy równa się:  0.8955968 \n",
      "Specificity równa się:  0.8980485 \n",
      "Sensitivity równa się:  0.8841941"
     ]
    }
   ],
   "source": [
    "accuracy=(sum(diag(macierz_konf)))/sum(macierz_konf)\n",
    "specificity=macierz_konf[1]/(macierz_konf[1]+macierz_konf[3])\n",
    "sensitivity=macierz_konf[4]/(macierz_konf[2]+macierz_konf[4])\n",
    "cat(\"Accuracy równa się: \", accuracy,'\\n')\n",
    "cat(\"Specificity równa się: \", specificity,'\\n')\n",
    "cat(\"Sensitivity równa się: \", sensitivity)"
   ]
  },
  {
   "cell_type": "markdown",
   "metadata": {},
   "source": [
    "Zamiana wartości cutoff z 0.5 na 0.25 skutkuje spadkiem specificity, lekkim spadkiem accuracy i wyraźnym wzrostem sensitivity. \n",
    "Przedstawiona tutaj metoda może zawsze być zastąpiona inną, niekoniecznie opierającą się tylko na danych (np. biorącą pod uwagę koszt pojedynczej interwencji wobec wskazanego pracownika). \n",
    "Poniżej przedstawiono macierz konfuzji obliczoną na danych treningowych. "
   ]
  },
  {
   "cell_type": "code",
   "execution_count": 75,
   "metadata": {},
   "outputs": [
    {
     "data": {
      "text/plain": [
       "   \n",
       "       0    1\n",
       "  0 6308  720\n",
       "  1  143 1218"
      ]
     },
     "metadata": {},
     "output_type": "display_data"
    },
    {
     "name": "stdout",
     "output_type": "stream",
     "text": [
      "Accuracy treningowe równa się:  0.8971272 \n",
      "Specificity treningowe równa się:  0.8975526 \n",
      "Sensitivity treningowe równa się:  0.8949302"
     ]
    }
   ],
   "source": [
    "#trening\n",
    "scores <- predict.glm(model1,newdata=dane_trn,type=\"response\")\n",
    "wynik <- data.frame(actuals=dane_trn$left)\n",
    "cut_off <- 0.25\n",
    "forecast <- data.table(forecast=scores>cut_off)*1\n",
    "(macierz_konf=table(wynik$actuals, forecast[,forecast]))\n",
    "accuracy=(sum(diag(macierz_konf)))/sum(macierz_konf)\n",
    "specificity=macierz_konf[1]/(macierz_konf[1]+macierz_konf[3])\n",
    "sensitivity=macierz_konf[4]/(macierz_konf[2]+macierz_konf[4])\n",
    "cat(\"Accuracy treningowe równa się: \", accuracy,'\\n')\n",
    "cat(\"Specificity treningowe równa się: \", specificity,'\\n')\n",
    "cat(\"Sensitivity treningowe równa się: \", sensitivity)"
   ]
  },
  {
   "cell_type": "markdown",
   "metadata": {},
   "source": [
    "Dla wybranego cutoffu wyniki są bardzo zbliżone, z lekką przewagą zbioru treningowego. Wygląda na to, że model nie jest przeuczony."
   ]
  },
  {
   "cell_type": "markdown",
   "metadata": {},
   "source": [
    "## Podsumowanie\n",
    "\n",
    "Otrzymane powyżej wyniki Gini Index oraz statystyki powstałe na podstawie macierzy konfuzji są zadowalające. Można zatem uznać, że zbudowany model regresji logistycznej jest dobrym rozwiązaniem postawionego problemu typowania pracowników chcących odejść z firmy. Metoda ta jest bardzo łatwa w użyciu i znając wartości współczynników regresji można ją stosować bez specjalistycznych narzędzi. Należy jednak pamiętać, że użycie jej wymaga dostępu do informacji pracownika o wszystkich 6 zmiennych użytych w modelu. Potencjalnie da się uzyskać jeszcze lepsze wyniki za pomocą innych, bardziej skomplikowanych metod statystycznych, które lepiej radzą sobie z brakiem liniowości."
   ]
  },
  {
   "cell_type": "markdown",
   "metadata": {},
   "source": [
    "## Dodatek: Regresja logistyczna na danych surowych\n",
    "\n",
    "Jako ciekawostkę można sprawdzić, jak poradziłby sobie model bez pracy analityka. Skonstruowany zostanie model, gdzie dane nie były poddane żadnej obróbce (np. dyskretyzacja) poza dokonanym już podziałem na zbiory treningowy i testowy. Wszystkie zmienne poza Newborn potraktowane będą jako ciągłe. Zastosowana zostanie automatyczna metoda krokowa zaczynająca od modelu ze wszystkimi zmiennymi."
   ]
  },
  {
   "cell_type": "code",
   "execution_count": 49,
   "metadata": {},
   "outputs": [],
   "source": [
    "Zmienne=c('S', 'LPE',\n",
    "                'NP', 'ANH', 'TIC', 'Newborn')"
   ]
  },
  {
   "cell_type": "code",
   "execution_count": 76,
   "metadata": {},
   "outputs": [
    {
     "data": {
      "text/plain": [
       "left ~ S + LPE + NP + ANH + TIC + Newborn"
      ]
     },
     "metadata": {},
     "output_type": "display_data"
    },
    {
     "data": {
      "text/plain": [
       "\n",
       "Call:\n",
       "glm(formula = formula2, family = binomial(link = \"logit\"), data = dane_trn2)\n",
       "\n",
       "Deviance Residuals: \n",
       "    Min       1Q   Median       3Q      Max  \n",
       "-2.1591  -0.5384  -0.3500  -0.2015   3.0731  \n",
       "\n",
       "Coefficients:\n",
       "              Estimate Std. Error z value Pr(>|z|)    \n",
       "(Intercept) -1.2819841  0.1943081  -6.598 4.18e-11 ***\n",
       "S           -3.8316962  0.1467196 -26.116  < 2e-16 ***\n",
       "LPE          0.5617407  0.2177813   2.579   0.0099 ** \n",
       "NP          -0.3828112  0.0323455 -11.835  < 2e-16 ***\n",
       "ANH          0.0039186  0.0007495   5.228 1.71e-07 ***\n",
       "TIC          0.6290437  0.0327739  19.193  < 2e-16 ***\n",
       "Newborn1    -1.3450332  0.1306470 -10.295  < 2e-16 ***\n",
       "---\n",
       "Signif. codes:  0 '***' 0.001 '**' 0.01 '*' 0.05 '.' 0.1 ' ' 1\n",
       "\n",
       "(Dispersion parameter for binomial family taken to be 1)\n",
       "\n",
       "    Null deviance: 7438.7  on 8388  degrees of freedom\n",
       "Residual deviance: 5863.4  on 8382  degrees of freedom\n",
       "AIC: 5877.4\n",
       "\n",
       "Number of Fisher Scoring iterations: 6\n"
      ]
     },
     "metadata": {},
     "output_type": "display_data"
    },
    {
     "name": "stdout",
     "output_type": "stream",
     "text": [
      "Start:  AIC=5877.39\n",
      "left ~ S + LPE + NP + ANH + TIC + Newborn\n",
      "\n",
      "          Df Deviance    AIC\n",
      "<none>         5863.4 5877.4\n",
      "- LPE      1   5870.1 5882.1\n",
      "- ANH      1   5891.0 5903.0\n",
      "- Newborn  1   6001.0 6013.0\n",
      "- NP       1   6012.0 6024.0\n",
      "- TIC      1   6243.9 6255.9\n",
      "- S        1   6661.2 6673.2\n"
     ]
    },
    {
     "data": {
      "text/plain": [
       "\n",
       "Call:\n",
       "glm(formula = left ~ S + LPE + NP + ANH + TIC + Newborn, family = binomial(link = \"logit\"), \n",
       "    data = dane_trn2)\n",
       "\n",
       "Deviance Residuals: \n",
       "    Min       1Q   Median       3Q      Max  \n",
       "-2.1591  -0.5384  -0.3500  -0.2015   3.0731  \n",
       "\n",
       "Coefficients:\n",
       "              Estimate Std. Error z value Pr(>|z|)    \n",
       "(Intercept) -1.2819841  0.1943081  -6.598 4.18e-11 ***\n",
       "S           -3.8316962  0.1467196 -26.116  < 2e-16 ***\n",
       "LPE          0.5617407  0.2177813   2.579   0.0099 ** \n",
       "NP          -0.3828112  0.0323455 -11.835  < 2e-16 ***\n",
       "ANH          0.0039186  0.0007495   5.228 1.71e-07 ***\n",
       "TIC          0.6290437  0.0327739  19.193  < 2e-16 ***\n",
       "Newborn1    -1.3450332  0.1306470 -10.295  < 2e-16 ***\n",
       "---\n",
       "Signif. codes:  0 '***' 0.001 '**' 0.01 '*' 0.05 '.' 0.1 ' ' 1\n",
       "\n",
       "(Dispersion parameter for binomial family taken to be 1)\n",
       "\n",
       "    Null deviance: 7438.7  on 8388  degrees of freedom\n",
       "Residual deviance: 5863.4  on 8382  degrees of freedom\n",
       "AIC: 5877.4\n",
       "\n",
       "Number of Fisher Scoring iterations: 6\n"
      ]
     },
     "metadata": {},
     "output_type": "display_data"
    }
   ],
   "source": [
    "(formula2<-as.formula(paste('left ~ ',paste(Zmienne,collapse = '+'))))\n",
    "model2 <- glm(formula2, data = dane_trn2, family = binomial(link = 'logit'))\n",
    "summary(model2)\n",
    "model2 <- step(model2,direction = \"both\")\n",
    "summary(model2)"
   ]
  },
  {
   "cell_type": "code",
   "execution_count": 77,
   "metadata": {},
   "outputs": [
    {
     "data": {
      "image/png": "[encoded data removed]",
      "text/plain": [
       "Plot with title \"Gini index: 0.71\""
      ]
     },
     "metadata": {},
     "output_type": "display_data"
    }
   ],
   "source": [
    "wyniki2_ver1=rocplot(predict(model2,dane_tst2,type='response'),dane_tst2$left)"
   ]
  },
  {
   "cell_type": "code",
   "execution_count": 81,
   "metadata": {},
   "outputs": [
    {
     "data": {
      "text/plain": [
       "   \n",
       "       0    1\n",
       "  0 2807  165\n",
       "  1  519  120"
      ]
     },
     "metadata": {},
     "output_type": "display_data"
    },
    {
     "name": "stdout",
     "output_type": "stream",
     "text": [
      "Accuracy treningowe równa się:  0.8105788 \n",
      "Specificity treningowe równa się:  0.9444818 \n",
      "Sensitivity treningowe równa się:  0.1877934"
     ]
    }
   ],
   "source": [
    "scores <- predict.glm(model2,newdata=dane_tst2,type=\"response\")\n",
    "wynik <- data.frame(actuals=dane_tst2$left)\n",
    "cut_off <- 0.50\n",
    "forecast <- data.table(forecast=scores>cut_off)*1\n",
    "(macierz_konf=table(wynik$actuals, forecast[,forecast]))\n",
    "accuracy=(sum(diag(macierz_konf)))/sum(macierz_konf)\n",
    "specificity=macierz_konf[1]/(macierz_konf[1]+macierz_konf[3])\n",
    "sensitivity=macierz_konf[4]/(macierz_konf[2]+macierz_konf[4])\n",
    "cat(\"Accuracy (cutoff 0.5) równa się: \", accuracy,'\\n')\n",
    "cat(\"Specificity (cutoff 0.5) równa się: \", specificity,'\\n')\n",
    "cat(\"Sensitivity (cutoff 0.5) równa się: \", sensitivity)"
   ]
  },
  {
   "cell_type": "code",
   "execution_count": 80,
   "metadata": {},
   "outputs": [
    {
     "data": {
      "text/plain": [
       "   \n",
       "       0    1\n",
       "  0 2528  444\n",
       "  1  172  467"
      ]
     },
     "metadata": {},
     "output_type": "display_data"
    },
    {
     "name": "stdout",
     "output_type": "stream",
     "text": [
      "Accuracy treningowe równa się:  0.8294101 \n",
      "Specificity treningowe równa się:  0.8506057 \n",
      "Sensitivity treningowe równa się:  0.7308294"
     ]
    }
   ],
   "source": [
    "scores <- predict.glm(model2,newdata=dane_tst2,type=\"response\")\n",
    "wynik <- data.frame(actuals=dane_tst2$left)\n",
    "cut_off <- 0.25\n",
    "forecast <- data.table(forecast=scores>cut_off)*1\n",
    "(macierz_konf=table(wynik$actuals, forecast[,forecast]))\n",
    "accuracy=(sum(diag(macierz_konf)))/sum(macierz_konf)\n",
    "specificity=macierz_konf[1]/(macierz_konf[1]+macierz_konf[3])\n",
    "sensitivity=macierz_konf[4]/(macierz_konf[2]+macierz_konf[4])\n",
    "cat(\"Accuracy (cutoff 0.25) równa się: \", accuracy,'\\n')\n",
    "cat(\"Specificity (cutoff 0.25) równa się: \", specificity,'\\n')\n",
    "cat(\"Sensitivity (cutoff 0.25) równa się: \", sensitivity)"
   ]
  },
  {
   "cell_type": "code",
   "execution_count": 54,
   "metadata": {},
   "outputs": [],
   "source": [
    "cutoffy=data.frame(cutoff=seq(0.1,0.8,0.01),Youden_stat=rep(0,length(seq(0.1,0.8,0.01))))\n",
    "licznik=1\n",
    "for (i in seq(0.1,0.8,0.01))\n",
    "    {\n",
    "        cut_off = i\n",
    "        forecast <- data.table(forecast=scores>cut_off)*1\n",
    "        macierz_konf=table(wynik$actuals, forecast[,forecast])\n",
    "        specificity=macierz_konf[1]/(macierz_konf[1]+macierz_konf[3])\n",
    "        sensitivity=macierz_konf[4]/(macierz_konf[2]+macierz_konf[4])\n",
    "        cutoffy[licznik,1]=i\n",
    "        cutoffy[licznik,2]=specificity+sensitivity-1\n",
    "        licznik=licznik+1\n",
    "    \n",
    "    }"
   ]
  },
  {
   "cell_type": "code",
   "execution_count": 55,
   "metadata": {},
   "outputs": [
    {
     "data": {
      "text/html": [
       "0.16"
      ],
      "text/latex": [
       "0.16"
      ],
      "text/markdown": [
       "0.16"
      ],
      "text/plain": [
       "[1] 0.16"
      ]
     },
     "metadata": {},
     "output_type": "display_data"
    }
   ],
   "source": [
    "cutoffy[which.max(cutoffy$Youden_stat),1]"
   ]
  },
  {
   "cell_type": "code",
   "execution_count": 82,
   "metadata": {},
   "outputs": [
    {
     "data": {
      "text/plain": [
       "   \n",
       "       0    1\n",
       "  0 2247  725\n",
       "  1   78  561"
      ]
     },
     "metadata": {},
     "output_type": "display_data"
    },
    {
     "name": "stdout",
     "output_type": "stream",
     "text": [
      "Accuracy (cutoff 0.25) równa się:  0.7776239 \n",
      "Specificity (cutoff 0.25) równa się:  0.7560565 \n",
      "Sensitivity (cutoff 0.25) równa się:  0.8779343"
     ]
    }
   ],
   "source": [
    "scores <- predict.glm(model2,newdata=dane_tst2,type=\"response\")\n",
    "wynik <- data.frame(actuals=dane_tst2$left)\n",
    "cut_off <- 0.16\n",
    "forecast <- data.table(forecast=scores>cut_off)*1\n",
    "(macierz_konf=table(wynik$actuals, forecast[,forecast]))\n",
    "accuracy=(sum(diag(macierz_konf)))/sum(macierz_konf)\n",
    "specificity=macierz_konf[1]/(macierz_konf[1]+macierz_konf[3])\n",
    "sensitivity=macierz_konf[4]/(macierz_konf[2]+macierz_konf[4])\n",
    "cat(\"Accuracy (cutoff 0.16) równa się: \", accuracy,'\\n')\n",
    "cat(\"Specificity (cutoff 0.16) równa się: \", specificity,'\\n')\n",
    "cat(\"Sensitivity (cutoff 0.16) równa się: \", sensitivity)"
   ]
  },
  {
   "cell_type": "markdown",
   "metadata": {},
   "source": [
    "Z powyższych wyników widać, że jest model z WoE osiągnął dużo lepsze wyniki. Model \"na szybko\" ma te same zmienne i również nie wygląda, by założenia były złamane. Jest jednak wyraźna różnica w wartości Gini Index. Sam wykres krzywej ROC posiada w okolicach 0.1 \"garb\", który może martwić. Samo accuracy jest na granicy 82%, czyli  jest blisko accuracy modelu trywialnego. "
   ]
  }
 ],
 "metadata": {
  "kernelspec": {
   "display_name": "R",
   "language": "R",
   "name": "ir"
  },
  "language_info": {
   "codemirror_mode": "r",
   "file_extension": ".r",
   "mimetype": "text/x-r-source",
   "name": "R",
   "pygments_lexer": "r",
   "version": "3.6.1"
  }
 },
 "nbformat": 4,
 "nbformat_minor": 4
}
