{
 "cells": [
  {
   "cell_type": "markdown",
   "metadata": {
    "_cell_guid": "b1076dfc-b9ad-4769-8c92-a6c4dae69d19",
    "_uuid": "8f2839f25d086af736a60e9eeb907d3b93b6e0e5",
    "execution": {
     "iopub.execute_input": "2021-09-05T12:10:57.884731Z",
     "iopub.status.busy": "2021-09-05T12:10:57.884042Z",
     "iopub.status.idle": "2021-09-05T12:10:59.30845Z",
     "shell.execute_reply": "2021-09-05T12:10:59.307325Z",
     "shell.execute_reply.started": "2021-09-05T12:10:57.88463Z"
    }
   },
   "source": [
    "Poniższa analiza danych dotyczy katastrofy statku Titanic, która miała miejsce w 1912 roku. Chcemy zbudować model klasyfikacyjny, który na podstawie dostępnych informacji o części pasażerów będzie odgadywać, czy dany pasażer statku Titanic przeżył katastrofę. Do dyspozycji mamy następujące parametry pasażera:  \n",
    "\n",
    "* PassengerId - liczba porządkowa przypisana każdemu pasażerowi. \n",
    "\n",
    "* Survived - liczba określająca przeżycie pasażera. Wartość 0 oznacza śmierć osoby, a 1 przypisano ocalałym. \n",
    "\n",
    "* Pclass - numer klasy podróży, jaką wykupił sobie pasażer. \n",
    "\n",
    "* Name - nazwisko, tytuł (forma grzecznościowa) oraz imiona pasażera. \n",
    "\n",
    "* Sex - płeć pasażera: female - kobieta, male - mężczyzna. \n",
    "\n",
    "* Age - wiek pasażera w latach. \n",
    "\n",
    "* SibSp - liczba rodzeństwa/małżonków pasażera na statku. \n",
    "\n",
    "* Parch - liczba rodziców/dzieci pasażera na statku. \n",
    "\n",
    "* Ticket - identyfikator biletu pasażera. Bilety grupowe posiadają identyczne identyfikatory. \n",
    "\n",
    "* Fare - opłata za bilet. Dla biletów grupowych jest to kwota łączna za wszystkie osoby. \n",
    "\n",
    "* Cabin - identyfikator kabiny przypisanej pasażerowi. \n",
    "\n",
    "* Embarked - miejsce rozpoczęcia rejsu przez pasażera. Kodowanie: S - Southampton, C - Cherbourg, Q - Queenstown. \n",
    "\n",
    "Problematyka i dane zostały zaczerpnięte z jednego z wyzwań z portalu internetowego kaggle.com - \"Titanic - Machine Learning from Disaster\". "
   ]
  },
  {
   "cell_type": "code",
   "execution_count": 1,
   "metadata": {
    "execution": {
     "iopub.execute_input": "2021-09-12T16:26:02.724096Z",
     "iopub.status.busy": "2021-09-12T16:26:02.723702Z",
     "iopub.status.idle": "2021-09-12T16:26:04.201673Z",
     "shell.execute_reply": "2021-09-12T16:26:04.20057Z",
     "shell.execute_reply.started": "2021-09-12T16:26:02.724017Z"
    }
   },
   "outputs": [],
   "source": [
    "import numpy as np \n",
    "import pandas as pd\n",
    "from xgboost import XGBClassifier\n",
    "from sklearn.metrics import roc_auc_score\n",
    "from sklearn.model_selection import train_test_split\n",
    "from xgboost import XGBClassifier\n",
    "from sklearn.metrics import accuracy_score\n",
    "from sklearn.model_selection import RandomizedSearchCV\n",
    "from sklearn.ensemble import RandomForestClassifier\n",
    "from sklearn.ensemble import GradientBoostingClassifier\n",
    "from sklearn.preprocessing import OneHotEncoder\n",
    "from sklearn.metrics import plot_confusion_matrix\n",
    "\n",
    "import os\n",
    "for dirname, _, filenames in os.walk('/kaggle/input'):\n",
    "    for filename in filenames:\n",
    "        print(os.path.join(dirname, filename))\n",
    "import seaborn as sns\n",
    "sns.set_theme(style=\"whitegrid\")\n",
    "import matplotlib.pyplot as plt\n",
    "%matplotlib inline"
   ]
  },
  {
   "cell_type": "code",
   "execution_count": 2,
   "metadata": {
    "execution": {
     "iopub.execute_input": "2021-09-12T16:26:04.204365Z",
     "iopub.status.busy": "2021-09-12T16:26:04.203737Z",
     "iopub.status.idle": "2021-09-12T16:26:04.225608Z",
     "shell.execute_reply": "2021-09-12T16:26:04.224777Z",
     "shell.execute_reply.started": "2021-09-12T16:26:04.204319Z"
    }
   },
   "outputs": [],
   "source": [
    "#dane=pd.read_csv('../input/titanic/train.csv')"
   ]
  },
  {
   "cell_type": "code",
   "execution_count": 3,
   "metadata": {},
   "outputs": [],
   "source": [
    "dane=pd.read_csv('train.csv')"
   ]
  },
  {
   "cell_type": "markdown",
   "metadata": {
    "execution": {
     "iopub.execute_input": "2021-09-05T12:10:59.3631Z",
     "iopub.status.busy": "2021-09-05T12:10:59.362807Z",
     "iopub.status.idle": "2021-09-05T12:10:59.37239Z",
     "shell.execute_reply": "2021-09-05T12:10:59.371206Z",
     "shell.execute_reply.started": "2021-09-05T12:10:59.363072Z"
    }
   },
   "source": [
    "# Wstępny przegląd danych\n",
    "\n",
    "Analizę zaczniemy od spojrzenia na kompletność otrzymanego zbioru danych. Następnie obejrzymy każdą zmienną pod kątem niepoprawnych wpisów."
   ]
  },
  {
   "cell_type": "code",
   "execution_count": 4,
   "metadata": {
    "execution": {
     "iopub.execute_input": "2021-09-12T16:26:04.227684Z",
     "iopub.status.busy": "2021-09-12T16:26:04.227194Z",
     "iopub.status.idle": "2021-09-12T16:26:04.244227Z",
     "shell.execute_reply": "2021-09-12T16:26:04.242787Z",
     "shell.execute_reply.started": "2021-09-12T16:26:04.227637Z"
    }
   },
   "outputs": [
    {
     "name": "stdout",
     "output_type": "stream",
     "text": [
      "['Age', 'Cabin', 'Embarked']\n"
     ]
    }
   ],
   "source": [
    "braki_danych = [col for col in dane.columns\n",
    "                     if dane[col].isnull().any()]\n",
    "print(braki_danych)"
   ]
  },
  {
   "cell_type": "code",
   "execution_count": 5,
   "metadata": {
    "execution": {
     "iopub.execute_input": "2021-09-12T16:26:04.246746Z",
     "iopub.status.busy": "2021-09-12T16:26:04.246003Z",
     "iopub.status.idle": "2021-09-12T16:26:04.263335Z",
     "shell.execute_reply": "2021-09-12T16:26:04.262628Z",
     "shell.execute_reply.started": "2021-09-12T16:26:04.246699Z"
    }
   },
   "outputs": [
    {
     "data": {
      "text/plain": [
       "PassengerId      0\n",
       "Survived         0\n",
       "Pclass           0\n",
       "Name             0\n",
       "Sex              0\n",
       "Age            177\n",
       "SibSp            0\n",
       "Parch            0\n",
       "Ticket           0\n",
       "Fare             0\n",
       "Cabin          687\n",
       "Embarked         2\n",
       "dtype: int64"
      ]
     },
     "execution_count": 5,
     "metadata": {},
     "output_type": "execute_result"
    }
   ],
   "source": [
    "dane.isnull().sum(axis = 0)"
   ]
  },
  {
   "cell_type": "markdown",
   "metadata": {},
   "source": [
    "Z powyższych wyników widzimy, że mamy 3 zmienne z brakującymi danymi: 'Age', 'Cabin' i 'Embarked'. Przystąpimy teraz do przeglądu każdej zmiennej liczbowej z osobna. "
   ]
  },
  {
   "cell_type": "code",
   "execution_count": 6,
   "metadata": {
    "execution": {
     "iopub.execute_input": "2021-09-12T16:26:04.264808Z",
     "iopub.status.busy": "2021-09-12T16:26:04.264404Z",
     "iopub.status.idle": "2021-09-12T16:26:04.318411Z",
     "shell.execute_reply": "2021-09-12T16:26:04.317134Z",
     "shell.execute_reply.started": "2021-09-12T16:26:04.264779Z"
    }
   },
   "outputs": [
    {
     "data": {
      "text/html": [
       "<div>\n",
       "<style scoped>\n",
       "    .dataframe tbody tr th:only-of-type {\n",
       "        vertical-align: middle;\n",
       "    }\n",
       "\n",
       "    .dataframe tbody tr th {\n",
       "        vertical-align: top;\n",
       "    }\n",
       "\n",
       "    .dataframe thead th {\n",
       "        text-align: right;\n",
       "    }\n",
       "</style>\n",
       "<table border=\"1\" class=\"dataframe\">\n",
       "  <thead>\n",
       "    <tr style=\"text-align: right;\">\n",
       "      <th></th>\n",
       "      <th>PassengerId</th>\n",
       "      <th>Survived</th>\n",
       "      <th>Pclass</th>\n",
       "      <th>Age</th>\n",
       "      <th>SibSp</th>\n",
       "      <th>Parch</th>\n",
       "      <th>Fare</th>\n",
       "    </tr>\n",
       "  </thead>\n",
       "  <tbody>\n",
       "    <tr>\n",
       "      <th>count</th>\n",
       "      <td>891.000000</td>\n",
       "      <td>891.000000</td>\n",
       "      <td>891.000000</td>\n",
       "      <td>714.000000</td>\n",
       "      <td>891.000000</td>\n",
       "      <td>891.000000</td>\n",
       "      <td>891.000000</td>\n",
       "    </tr>\n",
       "    <tr>\n",
       "      <th>mean</th>\n",
       "      <td>446.000000</td>\n",
       "      <td>0.383838</td>\n",
       "      <td>2.308642</td>\n",
       "      <td>29.699118</td>\n",
       "      <td>0.523008</td>\n",
       "      <td>0.381594</td>\n",
       "      <td>32.204208</td>\n",
       "    </tr>\n",
       "    <tr>\n",
       "      <th>std</th>\n",
       "      <td>257.353842</td>\n",
       "      <td>0.486592</td>\n",
       "      <td>0.836071</td>\n",
       "      <td>14.526497</td>\n",
       "      <td>1.102743</td>\n",
       "      <td>0.806057</td>\n",
       "      <td>49.693429</td>\n",
       "    </tr>\n",
       "    <tr>\n",
       "      <th>min</th>\n",
       "      <td>1.000000</td>\n",
       "      <td>0.000000</td>\n",
       "      <td>1.000000</td>\n",
       "      <td>0.420000</td>\n",
       "      <td>0.000000</td>\n",
       "      <td>0.000000</td>\n",
       "      <td>0.000000</td>\n",
       "    </tr>\n",
       "    <tr>\n",
       "      <th>25%</th>\n",
       "      <td>223.500000</td>\n",
       "      <td>0.000000</td>\n",
       "      <td>2.000000</td>\n",
       "      <td>20.125000</td>\n",
       "      <td>0.000000</td>\n",
       "      <td>0.000000</td>\n",
       "      <td>7.910400</td>\n",
       "    </tr>\n",
       "    <tr>\n",
       "      <th>50%</th>\n",
       "      <td>446.000000</td>\n",
       "      <td>0.000000</td>\n",
       "      <td>3.000000</td>\n",
       "      <td>28.000000</td>\n",
       "      <td>0.000000</td>\n",
       "      <td>0.000000</td>\n",
       "      <td>14.454200</td>\n",
       "    </tr>\n",
       "    <tr>\n",
       "      <th>75%</th>\n",
       "      <td>668.500000</td>\n",
       "      <td>1.000000</td>\n",
       "      <td>3.000000</td>\n",
       "      <td>38.000000</td>\n",
       "      <td>1.000000</td>\n",
       "      <td>0.000000</td>\n",
       "      <td>31.000000</td>\n",
       "    </tr>\n",
       "    <tr>\n",
       "      <th>max</th>\n",
       "      <td>891.000000</td>\n",
       "      <td>1.000000</td>\n",
       "      <td>3.000000</td>\n",
       "      <td>80.000000</td>\n",
       "      <td>8.000000</td>\n",
       "      <td>6.000000</td>\n",
       "      <td>512.329200</td>\n",
       "    </tr>\n",
       "  </tbody>\n",
       "</table>\n",
       "</div>"
      ],
      "text/plain": [
       "       PassengerId    Survived      Pclass         Age       SibSp  \\\n",
       "count   891.000000  891.000000  891.000000  714.000000  891.000000   \n",
       "mean    446.000000    0.383838    2.308642   29.699118    0.523008   \n",
       "std     257.353842    0.486592    0.836071   14.526497    1.102743   \n",
       "min       1.000000    0.000000    1.000000    0.420000    0.000000   \n",
       "25%     223.500000    0.000000    2.000000   20.125000    0.000000   \n",
       "50%     446.000000    0.000000    3.000000   28.000000    0.000000   \n",
       "75%     668.500000    1.000000    3.000000   38.000000    1.000000   \n",
       "max     891.000000    1.000000    3.000000   80.000000    8.000000   \n",
       "\n",
       "            Parch        Fare  \n",
       "count  891.000000  891.000000  \n",
       "mean     0.381594   32.204208  \n",
       "std      0.806057   49.693429  \n",
       "min      0.000000    0.000000  \n",
       "25%      0.000000    7.910400  \n",
       "50%      0.000000   14.454200  \n",
       "75%      0.000000   31.000000  \n",
       "max      6.000000  512.329200  "
      ]
     },
     "execution_count": 6,
     "metadata": {},
     "output_type": "execute_result"
    }
   ],
   "source": [
    "dane.describe()"
   ]
  },
  {
   "cell_type": "markdown",
   "metadata": {},
   "source": [
    "Ze statystyk opisowych zmiennych liczbowych możemy wywnioskować kilka informacji. W naszym dostępnym zbiorze danych przeżyło tylko 38% wszystkich pasażerów. Żaden z zakresów danych nie wygląda podejrzanie - minima są niemniejsze od 0, a maksima mieszczą się w granicach zdrowego rozsądku. \n",
    "Spójrzmy teraz na zmienne, które mają w sobie braki."
   ]
  },
  {
   "cell_type": "code",
   "execution_count": 7,
   "metadata": {
    "execution": {
     "iopub.execute_input": "2021-09-12T16:26:04.608812Z",
     "iopub.status.busy": "2021-09-12T16:26:04.608402Z",
     "iopub.status.idle": "2021-09-12T16:26:04.620094Z",
     "shell.execute_reply": "2021-09-12T16:26:04.618824Z",
     "shell.execute_reply.started": "2021-09-12T16:26:04.608778Z"
    }
   },
   "outputs": [
    {
     "data": {
      "text/plain": [
       "S    644\n",
       "C    168\n",
       "Q     77\n",
       "Name: Embarked, dtype: int64"
      ]
     },
     "execution_count": 7,
     "metadata": {},
     "output_type": "execute_result"
    }
   ],
   "source": [
    "dane['Embarked'].value_counts()"
   ]
  },
  {
   "cell_type": "markdown",
   "metadata": {},
   "source": [
    "Zmienna 'Embarked' posiada 2 braki. Przy tak dużej przewadze wartości \"S\" nad pozostałymi oraz przy tak niewielkiej liczbie braków można uznać, że przypisanie brakom najczęstszej wartości jest sensowne."
   ]
  },
  {
   "cell_type": "code",
   "execution_count": 8,
   "metadata": {
    "execution": {
     "iopub.execute_input": "2021-09-12T16:26:05.045393Z",
     "iopub.status.busy": "2021-09-12T16:26:05.044996Z",
     "iopub.status.idle": "2021-09-12T16:26:05.067349Z",
     "shell.execute_reply": "2021-09-12T16:26:05.06661Z",
     "shell.execute_reply.started": "2021-09-12T16:26:05.045347Z"
    }
   },
   "outputs": [],
   "source": [
    "dane.loc[dane['Embarked'].isnull()==1,'Embarked']='S'"
   ]
  },
  {
   "cell_type": "code",
   "execution_count": 9,
   "metadata": {
    "execution": {
     "iopub.execute_input": "2021-09-12T16:26:05.369928Z",
     "iopub.status.busy": "2021-09-12T16:26:05.369369Z",
     "iopub.status.idle": "2021-09-12T16:26:05.380133Z",
     "shell.execute_reply": "2021-09-12T16:26:05.378846Z",
     "shell.execute_reply.started": "2021-09-12T16:26:05.369884Z"
    }
   },
   "outputs": [
    {
     "data": {
      "text/plain": [
       "C23 C25 C27    4\n",
       "G6             4\n",
       "B96 B98        4\n",
       "E101           3\n",
       "C22 C26        3\n",
       "              ..\n",
       "D6             1\n",
       "B86            1\n",
       "F G63          1\n",
       "B80            1\n",
       "A10            1\n",
       "Name: Cabin, Length: 147, dtype: int64"
      ]
     },
     "execution_count": 9,
     "metadata": {},
     "output_type": "execute_result"
    }
   ],
   "source": [
    "dane['Cabin'].value_counts()"
   ]
  },
  {
   "cell_type": "markdown",
   "metadata": {},
   "source": [
    "Z samego podglądu danych dotyczących kabin możemy zauważyć, że jest 147 unikalnych wartości. Drugim spostrzeżeniem jest występowanie osób, którym przypisano więcej niż jedną kabinę. Wygląda na to, że dana zmienna nie będzie mogła być wykorzystana, gdyż ma więcej niż 50% brakujących wartości, które nie są łatwe do uzupełnienia. Metody predykcji numeru kabiny nie wydają się tutaj odpowiednie, ponieważ niektórzy pasażerowie byli pracownikami statku i mogli nie mieć przypisanego im miejsca. Uzupełnianie tak dużych i nietrywialnych braków stwarza bardzo duże ryzyko wnioskowania na podstawie zmiennej niemającej związku z opisywaną rzeczywistością. \n",
    "\n",
    "Pozostałe zmienne również zostały sprawdzone, lecz nie jest to na tyle warte, by to tu jawnie przedstawić. "
   ]
  },
  {
   "cell_type": "markdown",
   "metadata": {},
   "source": [
    "# Tworzenie nowych zmiennych (feature engineering)\n",
    "\n",
    "Pierwszą tworzoną zmienną, która później okaże się przydatna, jest tytuł/forma grzecznościowa pasażera. Należy tutaj zaznaczyć, że zmienna 'Name' posiada w sobie zawsze cząstkę tej formy, niezależnie od wieku i płci pasażera. Należy również zauważyć, że każda z tych form grzecznościowych ma po sobie kropkę. Wykorzystamy ten fakt i dokonamy sprytnego podziału tekstu. Poniższe sprawdzenie pokazuje, że jest jednak jedna osoba, która ma w zmiennej 'Name' więcej niż jedną kropkę."
   ]
  },
  {
   "cell_type": "code",
   "execution_count": 10,
   "metadata": {
    "execution": {
     "iopub.execute_input": "2021-09-12T16:26:06.606018Z",
     "iopub.status.busy": "2021-09-12T16:26:06.605427Z",
     "iopub.status.idle": "2021-09-12T16:26:06.618718Z",
     "shell.execute_reply": "2021-09-12T16:26:06.617784Z",
     "shell.execute_reply.started": "2021-09-12T16:26:06.605968Z"
    }
   },
   "outputs": [
    {
     "data": {
      "text/plain": [
       "0      1\n",
       "587    1\n",
       "588    1\n",
       "589    1\n",
       "590    1\n",
       "      ..\n",
       "302    1\n",
       "303    1\n",
       "292    1\n",
       "890    1\n",
       "513    2\n",
       "Name: Name, Length: 891, dtype: int64"
      ]
     },
     "execution_count": 10,
     "metadata": {},
     "output_type": "execute_result"
    }
   ],
   "source": [
    "dane['Name'].str.count('\\.').sort_values()"
   ]
  },
  {
   "cell_type": "code",
   "execution_count": 11,
   "metadata": {
    "execution": {
     "iopub.execute_input": "2021-09-12T16:26:06.915979Z",
     "iopub.status.busy": "2021-09-12T16:26:06.9156Z",
     "iopub.status.idle": "2021-09-12T16:26:06.925353Z",
     "shell.execute_reply": "2021-09-12T16:26:06.924128Z",
     "shell.execute_reply.started": "2021-09-12T16:26:06.91595Z"
    }
   },
   "outputs": [
    {
     "data": {
      "text/plain": [
       "PassengerId                                               514\n",
       "Survived                                                    1\n",
       "Pclass                                                      1\n",
       "Name           Rothschild, Mrs. Martin (Elizabeth L. Barrett)\n",
       "Sex                                                    female\n",
       "Age                                                        54\n",
       "SibSp                                                       1\n",
       "Parch                                                       0\n",
       "Ticket                                               PC 17603\n",
       "Fare                                                     59.4\n",
       "Cabin                                                     NaN\n",
       "Embarked                                                    C\n",
       "Name: 513, dtype: object"
      ]
     },
     "execution_count": 11,
     "metadata": {},
     "output_type": "execute_result"
    }
   ],
   "source": [
    "dane.iloc[513]"
   ]
  },
  {
   "cell_type": "markdown",
   "metadata": {},
   "source": [
    "Jeden przypadek można zawsze łatwo dostosować do naszych potrzeb, edytując problematyczną wartość. Mówiąc ściślej, usuniemy kropkę w skrócie \"L.\". "
   ]
  },
  {
   "cell_type": "code",
   "execution_count": 12,
   "metadata": {
    "execution": {
     "iopub.execute_input": "2021-09-12T16:26:07.37299Z",
     "iopub.status.busy": "2021-09-12T16:26:07.372429Z",
     "iopub.status.idle": "2021-09-12T16:26:07.378243Z",
     "shell.execute_reply": "2021-09-12T16:26:07.37744Z",
     "shell.execute_reply.started": "2021-09-12T16:26:07.372955Z"
    }
   },
   "outputs": [],
   "source": [
    "dane.loc[dane.Name=='Rothschild, Mrs. Martin (Elizabeth L. Barrett)','Name']='Rothschild, Mrs. Martin (Elizabeth L Barrett)'"
   ]
  },
  {
   "cell_type": "code",
   "execution_count": 13,
   "metadata": {
    "execution": {
     "iopub.execute_input": "2021-09-12T16:26:08.186118Z",
     "iopub.status.busy": "2021-09-12T16:26:08.185716Z",
     "iopub.status.idle": "2021-09-12T16:26:08.193126Z",
     "shell.execute_reply": "2021-09-12T16:26:08.191989Z",
     "shell.execute_reply.started": "2021-09-12T16:26:08.186081Z"
    }
   },
   "outputs": [],
   "source": [
    "kolumna_tytuly=[]\n",
    "for osoba in dane['Name']:\n",
    "    for slowo in osoba.split():\n",
    "        if '.' in slowo:\n",
    "            kolumna_tytuly.append(slowo)"
   ]
  },
  {
   "cell_type": "code",
   "execution_count": 14,
   "metadata": {
    "execution": {
     "iopub.execute_input": "2021-09-12T16:26:08.849591Z",
     "iopub.status.busy": "2021-09-12T16:26:08.848943Z",
     "iopub.status.idle": "2021-09-12T16:26:08.855464Z",
     "shell.execute_reply": "2021-09-12T16:26:08.854306Z",
     "shell.execute_reply.started": "2021-09-12T16:26:08.84954Z"
    }
   },
   "outputs": [],
   "source": [
    "dane['Title']=kolumna_tytuly"
   ]
  },
  {
   "cell_type": "markdown",
   "metadata": {},
   "source": [
    "Możemy teraz przyjrzeć się wszystkim pojawiającym się tytułom w zbiorze. Warto odnotować, że 'Mr.' i 'Master.' odnoszą się do mężczyzn bez podkreślenia pochodzenia szlacheckiego, gdzie 'Master.' przypada głównie dzieciom. Podobna sytuacja jest z kobietami, tutaj brak tytułu szlacheckiego oznacza pojawienie się zwrotów 'Mrs.', 'Miss.' i 'Ms.'. Warto zwrócić uwagę jeszcze na obecność księży na pokładzie - oznaczeni są oni tytułem 'Rev.'. "
   ]
  },
  {
   "cell_type": "code",
   "execution_count": 15,
   "metadata": {
    "execution": {
     "iopub.execute_input": "2021-09-12T16:26:09.273917Z",
     "iopub.status.busy": "2021-09-12T16:26:09.273326Z",
     "iopub.status.idle": "2021-09-12T16:26:09.282218Z",
     "shell.execute_reply": "2021-09-12T16:26:09.281362Z",
     "shell.execute_reply.started": "2021-09-12T16:26:09.273867Z"
    }
   },
   "outputs": [
    {
     "data": {
      "text/plain": [
       "array(['Mr.', 'Mrs.', 'Miss.', 'Master.', 'Don.', 'Rev.', 'Dr.', 'Mme.',\n",
       "       'Ms.', 'Major.', 'Lady.', 'Sir.', 'Mlle.', 'Col.', 'Capt.',\n",
       "       'Countess.', 'Jonkheer.'], dtype=object)"
      ]
     },
     "execution_count": 15,
     "metadata": {},
     "output_type": "execute_result"
    }
   ],
   "source": [
    "dane.Title.unique()"
   ]
  },
  {
   "cell_type": "markdown",
   "metadata": {},
   "source": [
    "Następną ciekawą informacją będzie poznanie wartości biletu na jedną osobę. Można by zastanawiać się nad hipotezą, czy osoby bogatsze miały większe możliwości uratowania się ze statku. Wysoka cena biletu wydaje się tracić na znaczeniu, gdy korzysta z niego kilka osób. "
   ]
  },
  {
   "cell_type": "code",
   "execution_count": 16,
   "metadata": {
    "execution": {
     "iopub.execute_input": "2021-09-12T16:26:09.689806Z",
     "iopub.status.busy": "2021-09-12T16:26:09.689221Z",
     "iopub.status.idle": "2021-09-12T16:26:09.697915Z",
     "shell.execute_reply": "2021-09-12T16:26:09.697098Z",
     "shell.execute_reply.started": "2021-09-12T16:26:09.689757Z"
    }
   },
   "outputs": [],
   "source": [
    "liczba_biletow=dane.groupby(by=['Ticket']).size()\n",
    "bilety=pd.DataFrame(liczba_biletow,columns=[\"liczba\"])"
   ]
  },
  {
   "cell_type": "code",
   "execution_count": 17,
   "metadata": {
    "execution": {
     "iopub.execute_input": "2021-09-12T16:26:10.512465Z",
     "iopub.status.busy": "2021-09-12T16:26:10.511941Z",
     "iopub.status.idle": "2021-09-12T16:26:10.532662Z",
     "shell.execute_reply": "2021-09-12T16:26:10.531749Z",
     "shell.execute_reply.started": "2021-09-12T16:26:10.512424Z"
    }
   },
   "outputs": [],
   "source": [
    "dane=pd.merge(dane, bilety, on=[\"Ticket\", \"Ticket\"])\n",
    "dane['FareN']=dane['Fare']/dane['liczba']"
   ]
  },
  {
   "cell_type": "markdown",
   "metadata": {},
   "source": [
    "Na koniec stworzymy jeszcze jedną zmienną, która określi liczbę osób z rodziny pasażera na statku."
   ]
  },
  {
   "cell_type": "code",
   "execution_count": 18,
   "metadata": {
    "execution": {
     "iopub.execute_input": "2021-09-12T16:26:10.92168Z",
     "iopub.status.busy": "2021-09-12T16:26:10.921308Z",
     "iopub.status.idle": "2021-09-12T16:26:10.929221Z",
     "shell.execute_reply": "2021-09-12T16:26:10.927876Z",
     "shell.execute_reply.started": "2021-09-12T16:26:10.921648Z"
    }
   },
   "outputs": [],
   "source": [
    "dane['Family']=dane['SibSp']+dane['Parch']"
   ]
  },
  {
   "cell_type": "markdown",
   "metadata": {},
   "source": [
    "Usuniemy jeszcze kłopotliwą zmienną dotyczącą kabin wraz z inną kolumną pomocniczą."
   ]
  },
  {
   "cell_type": "code",
   "execution_count": 19,
   "metadata": {
    "execution": {
     "iopub.execute_input": "2021-09-12T16:26:11.327083Z",
     "iopub.status.busy": "2021-09-12T16:26:11.326718Z",
     "iopub.status.idle": "2021-09-12T16:26:11.333595Z",
     "shell.execute_reply": "2021-09-12T16:26:11.332797Z",
     "shell.execute_reply.started": "2021-09-12T16:26:11.327055Z"
    }
   },
   "outputs": [],
   "source": [
    "dane.drop(['liczba','Cabin'], axis=1, inplace=True)"
   ]
  },
  {
   "cell_type": "markdown",
   "metadata": {},
   "source": [
    "# Podział na zbiór treningowy i testowy\n",
    "\n",
    "Podział ten będzie w stosunku 8:2, gdzie większą część zajmie zbiór treningowy. Stosować będziemy tutaj kroswalidację, więc nie będziemy rozważać osobnego zbioru walidacyjnego."
   ]
  },
  {
   "cell_type": "code",
   "execution_count": 20,
   "metadata": {
    "execution": {
     "iopub.execute_input": "2021-09-12T16:26:12.156193Z",
     "iopub.status.busy": "2021-09-12T16:26:12.155834Z",
     "iopub.status.idle": "2021-09-12T16:26:12.162695Z",
     "shell.execute_reply": "2021-09-12T16:26:12.161938Z",
     "shell.execute_reply.started": "2021-09-12T16:26:12.156164Z"
    }
   },
   "outputs": [],
   "source": [
    "X_train, X_test, y_train, y_test = train_test_split(dane, dane.Survived, \n",
    "                                                                train_size=0.8, test_size=0.2,\n",
    "                                                                random_state=42)\n"
   ]
  },
  {
   "cell_type": "code",
   "execution_count": 21,
   "metadata": {
    "execution": {
     "iopub.execute_input": "2021-09-12T16:26:12.792474Z",
     "iopub.status.busy": "2021-09-12T16:26:12.791848Z",
     "iopub.status.idle": "2021-09-12T16:26:12.796642Z",
     "shell.execute_reply": "2021-09-12T16:26:12.795602Z",
     "shell.execute_reply.started": "2021-09-12T16:26:12.792433Z"
    }
   },
   "outputs": [],
   "source": [
    "del dane"
   ]
  },
  {
   "cell_type": "markdown",
   "metadata": {},
   "source": [
    "# Przegląd zbioru treningowego \n",
    "\n",
    "\n",
    "Przyjrzymy się teraz dokładniej naszym danym w zbiorze treningowym. Pomijamy przy tym zbiór testowy w celu uniknięcia wycieku informacji. Pierwszym problemem, którym musimy się zająć, są braki danych w kolumnie związanej z wiekiem pasażera. W tym celu posłużymy się kilkoma statystykami opisowymi w podziale na tytuł/formę grzecznościową. "
   ]
  },
  {
   "cell_type": "code",
   "execution_count": 22,
   "metadata": {
    "execution": {
     "iopub.execute_input": "2021-09-12T16:26:13.530814Z",
     "iopub.status.busy": "2021-09-12T16:26:13.530309Z",
     "iopub.status.idle": "2021-09-12T16:26:13.56437Z",
     "shell.execute_reply": "2021-09-12T16:26:13.562955Z",
     "shell.execute_reply.started": "2021-09-12T16:26:13.530782Z"
    }
   },
   "outputs": [
    {
     "data": {
      "text/html": [
       "<div>\n",
       "<style scoped>\n",
       "    .dataframe tbody tr th:only-of-type {\n",
       "        vertical-align: middle;\n",
       "    }\n",
       "\n",
       "    .dataframe tbody tr th {\n",
       "        vertical-align: top;\n",
       "    }\n",
       "\n",
       "    .dataframe thead tr th {\n",
       "        text-align: left;\n",
       "    }\n",
       "\n",
       "    .dataframe thead tr:last-of-type th {\n",
       "        text-align: right;\n",
       "    }\n",
       "</style>\n",
       "<table border=\"1\" class=\"dataframe\">\n",
       "  <thead>\n",
       "    <tr>\n",
       "      <th></th>\n",
       "      <th colspan=\"4\" halign=\"left\">Age</th>\n",
       "    </tr>\n",
       "    <tr>\n",
       "      <th></th>\n",
       "      <th>min</th>\n",
       "      <th>mean</th>\n",
       "      <th>median</th>\n",
       "      <th>max</th>\n",
       "    </tr>\n",
       "    <tr>\n",
       "      <th>Title</th>\n",
       "      <th></th>\n",
       "      <th></th>\n",
       "      <th></th>\n",
       "      <th></th>\n",
       "    </tr>\n",
       "  </thead>\n",
       "  <tbody>\n",
       "    <tr>\n",
       "      <th>Capt.</th>\n",
       "      <td>70.00</td>\n",
       "      <td>70.000000</td>\n",
       "      <td>70.0</td>\n",
       "      <td>70.0</td>\n",
       "    </tr>\n",
       "    <tr>\n",
       "      <th>Col.</th>\n",
       "      <td>60.00</td>\n",
       "      <td>60.000000</td>\n",
       "      <td>60.0</td>\n",
       "      <td>60.0</td>\n",
       "    </tr>\n",
       "    <tr>\n",
       "      <th>Countess.</th>\n",
       "      <td>33.00</td>\n",
       "      <td>33.000000</td>\n",
       "      <td>33.0</td>\n",
       "      <td>33.0</td>\n",
       "    </tr>\n",
       "    <tr>\n",
       "      <th>Dr.</th>\n",
       "      <td>23.00</td>\n",
       "      <td>42.000000</td>\n",
       "      <td>46.5</td>\n",
       "      <td>54.0</td>\n",
       "    </tr>\n",
       "    <tr>\n",
       "      <th>Major.</th>\n",
       "      <td>45.00</td>\n",
       "      <td>48.500000</td>\n",
       "      <td>48.5</td>\n",
       "      <td>52.0</td>\n",
       "    </tr>\n",
       "    <tr>\n",
       "      <th>Master.</th>\n",
       "      <td>0.42</td>\n",
       "      <td>4.358148</td>\n",
       "      <td>3.0</td>\n",
       "      <td>12.0</td>\n",
       "    </tr>\n",
       "    <tr>\n",
       "      <th>Miss.</th>\n",
       "      <td>0.75</td>\n",
       "      <td>22.152893</td>\n",
       "      <td>22.0</td>\n",
       "      <td>63.0</td>\n",
       "    </tr>\n",
       "    <tr>\n",
       "      <th>Mlle.</th>\n",
       "      <td>24.00</td>\n",
       "      <td>24.000000</td>\n",
       "      <td>24.0</td>\n",
       "      <td>24.0</td>\n",
       "    </tr>\n",
       "    <tr>\n",
       "      <th>Mme.</th>\n",
       "      <td>24.00</td>\n",
       "      <td>24.000000</td>\n",
       "      <td>24.0</td>\n",
       "      <td>24.0</td>\n",
       "    </tr>\n",
       "    <tr>\n",
       "      <th>Mr.</th>\n",
       "      <td>14.00</td>\n",
       "      <td>32.523659</td>\n",
       "      <td>30.0</td>\n",
       "      <td>74.0</td>\n",
       "    </tr>\n",
       "    <tr>\n",
       "      <th>Mrs.</th>\n",
       "      <td>14.00</td>\n",
       "      <td>35.857143</td>\n",
       "      <td>35.0</td>\n",
       "      <td>60.0</td>\n",
       "    </tr>\n",
       "    <tr>\n",
       "      <th>Ms.</th>\n",
       "      <td>28.00</td>\n",
       "      <td>28.000000</td>\n",
       "      <td>28.0</td>\n",
       "      <td>28.0</td>\n",
       "    </tr>\n",
       "    <tr>\n",
       "      <th>Rev.</th>\n",
       "      <td>27.00</td>\n",
       "      <td>37.000000</td>\n",
       "      <td>35.0</td>\n",
       "      <td>51.0</td>\n",
       "    </tr>\n",
       "    <tr>\n",
       "      <th>Sir.</th>\n",
       "      <td>49.00</td>\n",
       "      <td>49.000000</td>\n",
       "      <td>49.0</td>\n",
       "      <td>49.0</td>\n",
       "    </tr>\n",
       "  </tbody>\n",
       "</table>\n",
       "</div>"
      ],
      "text/plain": [
       "             Age                        \n",
       "             min       mean median   max\n",
       "Title                                   \n",
       "Capt.      70.00  70.000000   70.0  70.0\n",
       "Col.       60.00  60.000000   60.0  60.0\n",
       "Countess.  33.00  33.000000   33.0  33.0\n",
       "Dr.        23.00  42.000000   46.5  54.0\n",
       "Major.     45.00  48.500000   48.5  52.0\n",
       "Master.     0.42   4.358148    3.0  12.0\n",
       "Miss.       0.75  22.152893   22.0  63.0\n",
       "Mlle.      24.00  24.000000   24.0  24.0\n",
       "Mme.       24.00  24.000000   24.0  24.0\n",
       "Mr.        14.00  32.523659   30.0  74.0\n",
       "Mrs.       14.00  35.857143   35.0  60.0\n",
       "Ms.        28.00  28.000000   28.0  28.0\n",
       "Rev.       27.00  37.000000   35.0  51.0\n",
       "Sir.       49.00  49.000000   49.0  49.0"
      ]
     },
     "execution_count": 22,
     "metadata": {},
     "output_type": "execute_result"
    }
   ],
   "source": [
    "X_train[['Age','Title']].groupby('Title').agg(['min','mean','median','max'])"
   ]
  },
  {
   "cell_type": "markdown",
   "metadata": {},
   "source": [
    "W wypisanych powyżej wyników widzimy, że średnie i mediany raczej nie różnią się od siebie w sposób znaczący. Uzupełnimy braki w zmiennej 'Age' biorąc medianę z danej grupy wyznaczonej przez 'Title'. "
   ]
  },
  {
   "cell_type": "code",
   "execution_count": 23,
   "metadata": {
    "execution": {
     "iopub.execute_input": "2021-09-12T16:26:14.835666Z",
     "iopub.status.busy": "2021-09-12T16:26:14.834963Z",
     "iopub.status.idle": "2021-09-12T16:26:14.867873Z",
     "shell.execute_reply": "2021-09-12T16:26:14.866712Z",
     "shell.execute_reply.started": "2021-09-12T16:26:14.835629Z"
    }
   },
   "outputs": [
    {
     "data": {
      "text/html": [
       "<div>\n",
       "<style scoped>\n",
       "    .dataframe tbody tr th:only-of-type {\n",
       "        vertical-align: middle;\n",
       "    }\n",
       "\n",
       "    .dataframe tbody tr th {\n",
       "        vertical-align: top;\n",
       "    }\n",
       "\n",
       "    .dataframe thead th {\n",
       "        text-align: right;\n",
       "    }\n",
       "</style>\n",
       "<table border=\"1\" class=\"dataframe\">\n",
       "  <thead>\n",
       "    <tr style=\"text-align: right;\">\n",
       "      <th></th>\n",
       "      <th>mediana grupy</th>\n",
       "    </tr>\n",
       "  </thead>\n",
       "  <tbody>\n",
       "    <tr>\n",
       "      <th>Master.</th>\n",
       "      <td>3.0</td>\n",
       "    </tr>\n",
       "    <tr>\n",
       "      <th>Miss.</th>\n",
       "      <td>22.0</td>\n",
       "    </tr>\n",
       "    <tr>\n",
       "      <th>Mrs.</th>\n",
       "      <td>35.0</td>\n",
       "    </tr>\n",
       "    <tr>\n",
       "      <th>Mr.</th>\n",
       "      <td>31.0</td>\n",
       "    </tr>\n",
       "    <tr>\n",
       "      <th>Dr.</th>\n",
       "      <td>44.0</td>\n",
       "    </tr>\n",
       "  </tbody>\n",
       "</table>\n",
       "</div>"
      ],
      "text/plain": [
       "         mediana grupy\n",
       "Master.            3.0\n",
       "Miss.             22.0\n",
       "Mrs.              35.0\n",
       "Mr.               31.0\n",
       "Dr.               44.0"
      ]
     },
     "execution_count": 23,
     "metadata": {},
     "output_type": "execute_result"
    }
   ],
   "source": [
    "braki_wiek=[round(X_train[(X_train['Age'].isnull()==0)&(X_train['Name'].str.contains('Master.', na=False)==1)].Age.median(),0)\n",
    ",round(X_train[(X_train['Age'].isnull()==0)&(X_train['Name'].str.contains('Miss.', na=False)==1)].Age.median(),0)\n",
    ",round(X_train[(X_train['Age'].isnull()==0)&(X_train['Name'].str.contains('Mrs.', na=False)==1)].Age.median(),0)\n",
    ",round(X_train[(X_train['Age'].isnull()==0)&(X_train['Name'].str.contains('Mr.', na=False)==1)].Age.median(),0)\n",
    ",round(X_train[(X_train['Age'].isnull()==0)&(X_train['Name'].str.contains('Dr.', na=False)==1)].Age.median(),0)]\n",
    "pd.DataFrame(braki_wiek,columns=[\"mediana grupy\"]).set_index([['Master.','Miss.', 'Mrs.','Mr.','Dr.']])\n"
   ]
  },
  {
   "cell_type": "code",
   "execution_count": 24,
   "metadata": {
    "execution": {
     "iopub.execute_input": "2021-09-12T16:26:15.764662Z",
     "iopub.status.busy": "2021-09-12T16:26:15.764103Z",
     "iopub.status.idle": "2021-09-12T16:26:15.785841Z",
     "shell.execute_reply": "2021-09-12T16:26:15.784746Z",
     "shell.execute_reply.started": "2021-09-12T16:26:15.7646Z"
    }
   },
   "outputs": [],
   "source": [
    "X_train.loc[(X_train['Age'].isnull()==1)&(X_train['Name'].str.contains('Master.', na=False)==1),'Age']=braki_wiek[0]\n",
    "X_train.loc[(X_train['Age'].isnull()==1)&(X_train['Name'].str.contains('Miss.', na=False)==1),'Age']=braki_wiek[1]\n",
    "X_train.loc[(X_train['Age'].isnull()==1)&(X_train['Name'].str.contains('Mrs.', na=False)==1),'Age']=braki_wiek[2]\n",
    "X_train.loc[(X_train['Age'].isnull()==1)&(X_train['Name'].str.contains('Mr.', na=False)==1),'Age']=braki_wiek[3]\n",
    "X_train.loc[(X_train['Age'].isnull()==1)&(X_train['Name'].str.contains('Dr.', na=False)==1),'Age']=braki_wiek[4]"
   ]
  },
  {
   "cell_type": "markdown",
   "metadata": {},
   "source": [
    "Uzupełnimy też od razu braki w zbiorze testowym - wartościami wziętymi ze zbioru treningowego."
   ]
  },
  {
   "cell_type": "code",
   "execution_count": 25,
   "metadata": {
    "execution": {
     "iopub.execute_input": "2021-09-12T16:26:16.590265Z",
     "iopub.status.busy": "2021-09-12T16:26:16.589923Z",
     "iopub.status.idle": "2021-09-12T16:26:16.609237Z",
     "shell.execute_reply": "2021-09-12T16:26:16.608446Z",
     "shell.execute_reply.started": "2021-09-12T16:26:16.590236Z"
    }
   },
   "outputs": [],
   "source": [
    "X_test.loc[(X_test['Age'].isnull()==1)&(X_test['Name'].str.contains('Master.', na=False)==1),'Age']=braki_wiek[0]\n",
    "X_test.loc[(X_test['Age'].isnull()==1)&(X_test['Name'].str.contains('Miss.', na=False)==1),'Age']=braki_wiek[1]\n",
    "X_test.loc[(X_test['Age'].isnull()==1)&(X_test['Name'].str.contains('Mrs.', na=False)==1),'Age']=braki_wiek[2]\n",
    "X_test.loc[(X_test['Age'].isnull()==1)&(X_test['Name'].str.contains('Mr.', na=False)==1),'Age']=braki_wiek[3]\n",
    "X_test.loc[(X_test['Age'].isnull()==1)&(X_test['Name'].str.contains('Dr.', na=False)==1),'Age']=braki_wiek[4]"
   ]
  },
  {
   "cell_type": "markdown",
   "metadata": {},
   "source": [
    "Mając uzupełnione dane, przejdźmy teraz do zwizualizowania części informacji."
   ]
  },
  {
   "cell_type": "code",
   "execution_count": 26,
   "metadata": {
    "execution": {
     "iopub.execute_input": "2021-09-12T16:26:18.024456Z",
     "iopub.status.busy": "2021-09-12T16:26:18.024114Z",
     "iopub.status.idle": "2021-09-12T16:26:18.193769Z",
     "shell.execute_reply": "2021-09-12T16:26:18.192878Z",
     "shell.execute_reply.started": "2021-09-12T16:26:18.024426Z"
    }
   },
   "outputs": [
    {
     "data": {
      "image/png": "[encoded data removed]",
      "text/plain": [
       "<Figure size 432x288 with 1 Axes>"
      ]
     },
     "metadata": {
      "needs_background": "light"
     },
     "output_type": "display_data"
    }
   ],
   "source": [
    "ax=sns.countplot(x=X_train.Survived);\n",
    "ax.set_title('Zliczenie ofiar i ocalałych')\n",
    "for p in ax.patches:\n",
    "    ax.annotate(f'\\n{p.get_height()}', (p.get_x()+0.2, p.get_height()), ha='center', va='top', color='white', size=18)\n",
    "plt.show()"
   ]
  },
  {
   "cell_type": "markdown",
   "metadata": {},
   "source": [
    "Ze zbioru treningowego liczącego 712 obserwacji tylko 274 osoby przeżyło katastrofę. Ocaleni stanowią 38.5%, czyli w przybliżeniu na trzech pasażerów przeżyła tylko jedna osoba."
   ]
  },
  {
   "cell_type": "code",
   "execution_count": 27,
   "metadata": {
    "execution": {
     "iopub.execute_input": "2021-09-12T16:26:18.449465Z",
     "iopub.status.busy": "2021-09-12T16:26:18.448974Z",
     "iopub.status.idle": "2021-09-12T16:26:18.615094Z",
     "shell.execute_reply": "2021-09-12T16:26:18.614042Z",
     "shell.execute_reply.started": "2021-09-12T16:26:18.449435Z"
    }
   },
   "outputs": [
    {
     "data": {
      "image/png": "[encoded data removed]",
      "text/plain": [
       "<Figure size 432x288 with 1 Axes>"
      ]
     },
     "metadata": {
      "needs_background": "light"
     },
     "output_type": "display_data"
    }
   ],
   "source": [
    "ax=sns.countplot(x=X_train.Pclass);\n",
    "ax.set_title('Podział na klasy')\n",
    "ax.set(ylabel=\"Liczba osób\")\n",
    "for p in ax.patches:\n",
    "    ax.annotate(f'\\n{p.get_height()}', (p.get_x()+0.2, p.get_height()), ha='center', va='top', color='white', size=18)\n",
    "plt.show()"
   ]
  },
  {
   "cell_type": "code",
   "execution_count": 28,
   "metadata": {
    "execution": {
     "iopub.execute_input": "2021-09-12T16:26:18.768942Z",
     "iopub.status.busy": "2021-09-12T16:26:18.768557Z",
     "iopub.status.idle": "2021-09-12T16:26:19.073396Z",
     "shell.execute_reply": "2021-09-12T16:26:19.072413Z",
     "shell.execute_reply.started": "2021-09-12T16:26:18.768906Z"
    }
   },
   "outputs": [
    {
     "data": {
      "image/png": "[encoded data removed]",
      "text/plain": [
       "<Figure size 432x288 with 1 Axes>"
      ]
     },
     "metadata": {
      "needs_background": "light"
     },
     "output_type": "display_data"
    }
   ],
   "source": [
    "przezycie_od_klasy=X_train[['Survived','Pclass']].groupby('Pclass').agg(['sum','count'])\n",
    "\n",
    "ax = plt.subplots()\n",
    "ax = sns.barplot(x=przezycie_od_klasy.index, y=przezycie_od_klasy.Survived[\"count\"], color=\"#92C6FF\")\n",
    "ax.set(ylim=(0, 500))\n",
    "ax.set_title('Procentowy udział ocalałych przy podziale na klasy')\n",
    "i=0\n",
    "for p in ax.patches:\n",
    "    procent=przezycie_od_klasy['Survived'].iloc[i,0]/przezycie_od_klasy['Survived'].iloc[i,1]\n",
    "    ax.annotate(f'\\n{int(round(procent*100,0))}'+\"%\", (p.get_x()+0.4, p.get_height()+80), ha='center', va='top', color='black', size=15)\n",
    "    i=i+1\n",
    "ax = sns.barplot(x=przezycie_od_klasy.index, y=przezycie_od_klasy.Survived[\"sum\"], color=\"#FF9F9A\")\n",
    "  \n",
    "\n",
    "ax.set(ylabel=\"Liczba osób\")\n",
    "  \n",
    "\n",
    "plt.show()"
   ]
  },
  {
   "cell_type": "markdown",
   "metadata": {},
   "source": [
    "Pasażerowie mieli do wyboru 3 klasy, gdzie klasa o numerze \"3\" była najtańsza oraz najbradziej liczna. Stanowi ona 54% wszystkich. Klasa druga, najmniej liczna ze wszystkich, stanowi 20% populacji zbioru treningowego. Na drugim wykresie liczba przedstawiona nad słupkiem oznacza procent osób, które przeżyły katastrofę w danej grupie. Liczba ta wyrażona jest kolorem różowym na wykresie. Widzimy zatem, że wyższa klasa (niższy numer) dawała większą szansę na uratowanie się."
   ]
  },
  {
   "cell_type": "code",
   "execution_count": 29,
   "metadata": {
    "execution": {
     "iopub.execute_input": "2021-09-12T16:26:19.204024Z",
     "iopub.status.busy": "2021-09-12T16:26:19.203593Z",
     "iopub.status.idle": "2021-09-12T16:26:19.332896Z",
     "shell.execute_reply": "2021-09-12T16:26:19.33189Z",
     "shell.execute_reply.started": "2021-09-12T16:26:19.203988Z"
    }
   },
   "outputs": [
    {
     "data": {
      "image/png": "[encoded data removed]",
      "text/plain": [
       "<Figure size 432x288 with 1 Axes>"
      ]
     },
     "metadata": {},
     "output_type": "display_data"
    }
   ],
   "source": [
    "X_train.groupby('Sex').size().plot(kind='pie', autopct='%.2f',title='Podział pasażerów ze względu na płeć',ylabel='');"
   ]
  },
  {
   "cell_type": "code",
   "execution_count": 30,
   "metadata": {
    "execution": {
     "iopub.execute_input": "2021-09-12T16:26:19.53351Z",
     "iopub.status.busy": "2021-09-12T16:26:19.533144Z",
     "iopub.status.idle": "2021-09-12T16:26:19.709834Z",
     "shell.execute_reply": "2021-09-12T16:26:19.708758Z",
     "shell.execute_reply.started": "2021-09-12T16:26:19.533477Z"
    }
   },
   "outputs": [
    {
     "data": {
      "image/png": "[encoded data removed]",
      "text/plain": [
       "<Figure size 432x288 with 1 Axes>"
      ]
     },
     "metadata": {
      "needs_background": "light"
     },
     "output_type": "display_data"
    }
   ],
   "source": [
    "przezycie_od_plci=X_train[['Survived','Sex']].groupby('Sex').agg(['sum','count'])\n",
    "\n",
    "ax = plt.subplots()\n",
    "ax = sns.barplot(x=przezycie_od_plci.index, y=przezycie_od_plci.Survived[\"count\"], color=\"#92C6FF\")\n",
    "ax.set(ylim=(0, 600))\n",
    "ax.set_title('Procentowy udział ocalałych w podziale na płeć')\n",
    "i=0\n",
    "for p in ax.patches:\n",
    "    procent=przezycie_od_plci['Survived'].iloc[i,0]/przezycie_od_plci['Survived'].iloc[i,1]\n",
    "    ax.annotate(f'\\n{int(round(procent*100,0))}'+\"%\", (p.get_x()+0.4, p.get_height()+110), ha='center', va='top', color='black', size=18)\n",
    "    i=i+1\n",
    "ax = sns.barplot(x=przezycie_od_plci.index, y=przezycie_od_plci.Survived[\"sum\"], color=\"#FF9F9A\")\n",
    "  \n",
    "\n",
    "ax.set(ylabel=\"Liczba osób\")\n",
    "  \n",
    "\n",
    "plt.show()"
   ]
  },
  {
   "cell_type": "markdown",
   "metadata": {},
   "source": [
    "Wykres kołowy pokazuje, że prawie dwie trzecie pasażerów stanowili mężczyźni. Wykres słupkowy zdradza drugą ciekawą informację - co czwarta kobieta zginęła oraz tylko co piąty mężczyzna przetrwał. Ta poważna dysproporcja wzięła się najpewniej z zasadny \"Najpierw kobiety i dzieci\" i może ona spowodować przeuczanie się modelu predykcyjnego. "
   ]
  },
  {
   "cell_type": "code",
   "execution_count": 31,
   "metadata": {
    "execution": {
     "iopub.execute_input": "2021-09-12T16:26:19.970243Z",
     "iopub.status.busy": "2021-09-12T16:26:19.969904Z",
     "iopub.status.idle": "2021-09-12T16:26:20.247939Z",
     "shell.execute_reply": "2021-09-12T16:26:20.246825Z",
     "shell.execute_reply.started": "2021-09-12T16:26:19.970213Z"
    }
   },
   "outputs": [
    {
     "data": {
      "image/png": "[encoded data removed]",
      "text/plain": [
       "<Figure size 432x288 with 1 Axes>"
      ]
     },
     "metadata": {
      "needs_background": "light"
     },
     "output_type": "display_data"
    }
   ],
   "source": [
    "ax=sns.histplot(x=X_train.Age,bins=8)\n",
    "ax.set(ylim=(0, 290))\n",
    "ax.set_title('Podział pasażerów ze względu na wiek')\n",
    "ax.set(ylabel=\"Liczba osób\")\n",
    "for p in ax.patches:\n",
    "    ax.annotate(f'\\n{p.get_height()}', (p.get_x()+5, p.get_height()+50), ha='center', va='top', color='black', size=18)\n",
    "plt.show()"
   ]
  },
  {
   "cell_type": "code",
   "execution_count": 32,
   "metadata": {
    "execution": {
     "iopub.execute_input": "2021-09-12T16:26:20.278876Z",
     "iopub.status.busy": "2021-09-12T16:26:20.278481Z",
     "iopub.status.idle": "2021-09-12T16:26:20.593289Z",
     "shell.execute_reply": "2021-09-12T16:26:20.592502Z",
     "shell.execute_reply.started": "2021-09-12T16:26:20.278841Z"
    }
   },
   "outputs": [
    {
     "data": {
      "image/png": "[encoded data removed]",
      "text/plain": [
       "<Figure size 432x288 with 1 Axes>"
      ]
     },
     "metadata": {
      "needs_background": "light"
     },
     "output_type": "display_data"
    }
   ],
   "source": [
    "licznik=[]\n",
    "i=0\n",
    "bins = np.histogram_bin_edges(X_train['Age'], bins=8)\n",
    "ax = plt.subplots()\n",
    "ax=sns.histplot(x=X_train.Age,bins=bins, color=\"#92C6FF\")\n",
    "ax.set(ylim=(0, 300))\n",
    "ax.set_title('Procentowy udział ocalałych w podziale na wiek')\n",
    "ax.set(ylabel=\"Liczba osób\")  \n",
    "ax=sns.histplot(x=X_train[X_train['Survived']==1]['Age'],bins=bins, color=\"#FF9F9A\")  \n",
    "#Zbiera wysokosci slupkow - najpierw wszystkich pasazerow wedlug grup, a nastepnie tylko ocalalych tez grupowo\n",
    "for p in ax.patches:\n",
    "    licznik.append(p.get_height()) \n",
    "\n",
    "for p in ax.patches:\n",
    "    # 8 to liczba przedzialow\n",
    "    if i == 8:\n",
    "        break\n",
    "    else:\n",
    "        procent=int(round(licznik[i+8]/licznik[i]*100,0))\n",
    "        ax.annotate(f'\\n{procent}'+\"%\", (p.get_x()+5.5, p.get_height()+50), ha='center', va='top', color='black', size=15)\n",
    "        i=i+1\n",
    "plt.show()"
   ]
  },
  {
   "cell_type": "markdown",
   "metadata": {},
   "source": [
    "Wykresy dotyczące wieku pasażerów pokazują zdecydowaną przewagę osób w wieku 20-40 lat pod względem liczebności. Należy jednak pamiętać, że są to dane po uzupełnieniu braków, więc nie jest to precyzyjna informacja. Dużo ciekawszą informację skrywa drugi wykres. Widzimy tutaj relatywnie wysoki procent osób ocalałych wśród dzieci. Ponownie zatem możemy się domyślać, że na statku panowała zasada ratowania kobiet i dzieci przed dorosłymi mężczyznami. "
   ]
  },
  {
   "cell_type": "code",
   "execution_count": 33,
   "metadata": {
    "execution": {
     "iopub.execute_input": "2021-09-12T16:26:20.778933Z",
     "iopub.status.busy": "2021-09-12T16:26:20.77831Z",
     "iopub.status.idle": "2021-09-12T16:26:20.944944Z",
     "shell.execute_reply": "2021-09-12T16:26:20.944114Z",
     "shell.execute_reply.started": "2021-09-12T16:26:20.778899Z"
    }
   },
   "outputs": [
    {
     "data": {
      "image/png": "[encoded data removed]",
      "text/plain": [
       "<Figure size 432x288 with 1 Axes>"
      ]
     },
     "metadata": {
      "needs_background": "light"
     },
     "output_type": "display_data"
    }
   ],
   "source": [
    "ax=sns.countplot(x=X_train.Embarked.sort_values());\n",
    "ax.set(ylim=(0, 700))\n",
    "ax.set_title('Podział pasażerów na miejsce początku podróży')\n",
    "ax.set(ylabel=\"Liczba osób\")\n",
    "for p in ax.patches:\n",
    "    ax.annotate(f'\\n{p.get_height()}', (p.get_x()+0.4, p.get_height()+110), ha='center', va='top', color='black', size=15)\n",
    "plt.show()"
   ]
  },
  {
   "cell_type": "code",
   "execution_count": 34,
   "metadata": {
    "execution": {
     "iopub.execute_input": "2021-09-12T16:26:21.029223Z",
     "iopub.status.busy": "2021-09-12T16:26:21.028507Z",
     "iopub.status.idle": "2021-09-12T16:26:21.232319Z",
     "shell.execute_reply": "2021-09-12T16:26:21.23154Z",
     "shell.execute_reply.started": "2021-09-12T16:26:21.029184Z"
    }
   },
   "outputs": [
    {
     "data": {
      "image/png": "[encoded data removed]",
      "text/plain": [
       "<Figure size 432x288 with 1 Axes>"
      ]
     },
     "metadata": {
      "needs_background": "light"
     },
     "output_type": "display_data"
    }
   ],
   "source": [
    "przezycie_od_zameldowania=X_train[['Survived','Embarked']].groupby('Embarked').agg(['sum','count'])\n",
    "\n",
    "ax = plt.subplots()\n",
    "ax = sns.barplot(x=przezycie_od_zameldowania.index, y=przezycie_od_zameldowania.Survived[\"count\"], color=\"#92C6FF\")\n",
    "ax.set(ylim=(0, 700))\n",
    "ax.set_title('Procentowy udział ocalałych w podziale miejsca początku podróży')\n",
    "i=0\n",
    "for p in ax.patches:\n",
    "    procent=przezycie_od_zameldowania['Survived'].iloc[i,0]/przezycie_od_zameldowania['Survived'].iloc[i,1]\n",
    "    ax.annotate(f'\\n{int(round(procent*100,0))}'+\"%\", (p.get_x()+0.4, p.get_height()+130), ha='center', va='top', color='black', size=18)\n",
    "    i=i+1\n",
    "ax = sns.barplot(x=przezycie_od_zameldowania.index, y=przezycie_od_zameldowania.Survived[\"sum\"], color=\"#FF9F9A\")\n",
    "  \n",
    "\n",
    "ax.set(ylabel=\"Liczba osób\")\n",
    "  \n",
    "\n",
    "plt.show()"
   ]
  },
  {
   "cell_type": "markdown",
   "metadata": {},
   "source": [
    "Przed analizą powyższych wykresów dotyczących miejsca rozpoczęcia podróży warto znać kolejność ich wystąpienia. Pierwszym odwiedzonym przez Titanic miejscem było Southampton (S), następnie statek odwiedził Cherbourg (C), a ostatnim przystankiem przed katastrofą było Queenstown (Q). Widzimy zatem, że zdecydowana większość pasażerów ze zbioru treningowego podróżowała od samego początku rejsu statku. Ta sama grupa wykazała się również najwyższą śmiertelnością (67%). Ciężko doszukiwać się tutaj zależności między czasem wejścia na pokład a śmiertelnością, gdyż odsetek ocalałych w środkowym momencie jest zdecydowanie wyższy od dwóch pozostałych. Nie przekreśla to jednak jeszcze przydatności tej zmiennej w predykcji. "
   ]
  },
  {
   "cell_type": "code",
   "execution_count": 35,
   "metadata": {
    "execution": {
     "iopub.execute_input": "2021-09-12T16:26:21.6155Z",
     "iopub.status.busy": "2021-09-12T16:26:21.614861Z",
     "iopub.status.idle": "2021-09-12T16:26:21.85315Z",
     "shell.execute_reply": "2021-09-12T16:26:21.852403Z",
     "shell.execute_reply.started": "2021-09-12T16:26:21.615465Z"
    }
   },
   "outputs": [
    {
     "data": {
      "image/png": "[encoded data removed]",
      "text/plain": [
       "<Figure size 432x288 with 1 Axes>"
      ]
     },
     "metadata": {
      "needs_background": "light"
     },
     "output_type": "display_data"
    }
   ],
   "source": [
    "ax=sns.countplot(x=X_train.SibSp);\n",
    "ax.set(ylim=(0, 750))\n",
    "ax.set(ylabel=\"Liczba osób\")\n",
    "ax.set_title('Liczba rodzeństwa/małżonków na pokładzie')\n",
    "for p in ax.patches:\n",
    "    ax.annotate(f'\\n{p.get_height()}', (p.get_x()+0.4, p.get_height()+130), ha='center', va='top', color='black', size=18)\n",
    "plt.show()"
   ]
  },
  {
   "cell_type": "code",
   "execution_count": 36,
   "metadata": {
    "execution": {
     "iopub.execute_input": "2021-09-12T16:26:21.930781Z",
     "iopub.status.busy": "2021-09-12T16:26:21.930389Z",
     "iopub.status.idle": "2021-09-12T16:26:22.223837Z",
     "shell.execute_reply": "2021-09-12T16:26:22.222789Z",
     "shell.execute_reply.started": "2021-09-12T16:26:21.930751Z"
    }
   },
   "outputs": [
    {
     "data": {
      "image/png": "[encoded data removed]",
      "text/plain": [
       "<Figure size 432x288 with 1 Axes>"
      ]
     },
     "metadata": {
      "needs_background": "light"
     },
     "output_type": "display_data"
    }
   ],
   "source": [
    "przezycie_od_rodzenstwa=X_train[['Survived','SibSp']].groupby('SibSp').agg(['sum','count'])\n",
    "\n",
    "ax = plt.subplots()\n",
    "ax = sns.barplot(x=przezycie_od_rodzenstwa.index, y=przezycie_od_rodzenstwa.Survived[\"count\"], color=\"#92C6FF\")\n",
    "ax.set(ylim=(0, 650))\n",
    "ax.set_title('Procentowy udział ocalałych w podziale na liczbę rodzeństwa/małżonków na pokładzie')\n",
    "i=0\n",
    "for p in ax.patches:\n",
    "    procent=przezycie_od_rodzenstwa['Survived'].iloc[i,0]/przezycie_od_rodzenstwa['Survived'].iloc[i,1]\n",
    "    ax.annotate(f'\\n{int(round(procent*100,0))}'+\"%\", (p.get_x()+0.4, p.get_height()+130), ha='center', va='top', color='black', size=18)\n",
    "    i=i+1\n",
    "ax = sns.barplot(x=przezycie_od_rodzenstwa.index, y=przezycie_od_rodzenstwa.Survived[\"sum\"], color=\"#FF9F9A\")\n",
    "  \n",
    "\n",
    "ax.set(ylabel=\"Liczba osób\")\n",
    "  \n",
    "\n",
    "plt.show()"
   ]
  },
  {
   "cell_type": "code",
   "execution_count": 37,
   "metadata": {
    "execution": {
     "iopub.execute_input": "2021-09-12T16:26:22.22555Z",
     "iopub.status.busy": "2021-09-12T16:26:22.225261Z",
     "iopub.status.idle": "2021-09-12T16:26:22.46281Z",
     "shell.execute_reply": "2021-09-12T16:26:22.461722Z",
     "shell.execute_reply.started": "2021-09-12T16:26:22.225521Z"
    }
   },
   "outputs": [
    {
     "data": {
      "image/png": "[encoded data removed]",
      "text/plain": [
       "<Figure size 432x288 with 1 Axes>"
      ]
     },
     "metadata": {
      "needs_background": "light"
     },
     "output_type": "display_data"
    }
   ],
   "source": [
    "ax=sns.countplot(x=X_train.Parch);\n",
    "ax.set(ylim=(0, 750))\n",
    "ax.set(ylabel=\"Liczba osób\")\n",
    "ax.set_title('Liczba rodziców/dzieci pasażera na pokładzie')\n",
    "for p in ax.patches:\n",
    "    ax.annotate(f'\\n{p.get_height()}', (p.get_x()+0.4, p.get_height()+130), ha='center', va='top', color='black', size=18)\n",
    "plt.show()"
   ]
  },
  {
   "cell_type": "code",
   "execution_count": 38,
   "metadata": {
    "execution": {
     "iopub.execute_input": "2021-09-12T16:26:22.525008Z",
     "iopub.status.busy": "2021-09-12T16:26:22.524572Z",
     "iopub.status.idle": "2021-09-12T16:26:22.817597Z",
     "shell.execute_reply": "2021-09-12T16:26:22.816563Z",
     "shell.execute_reply.started": "2021-09-12T16:26:22.524978Z"
    }
   },
   "outputs": [
    {
     "data": {
      "image/png": "[encoded data removed]",
      "text/plain": [
       "<Figure size 432x288 with 1 Axes>"
      ]
     },
     "metadata": {
      "needs_background": "light"
     },
     "output_type": "display_data"
    }
   ],
   "source": [
    "przezycie_od_rodzicow=X_train[['Survived','Parch']].groupby('Parch').agg(['sum','count'])\n",
    "\n",
    "ax = plt.subplots()\n",
    "ax = sns.barplot(x=przezycie_od_rodzicow.index, y=przezycie_od_rodzicow.Survived[\"count\"], color=\"#92C6FF\")\n",
    "ax.set(ylim=(0, 700))\n",
    "ax.set_title('Procentowy udział ocalałych w podziale na liczbę rodziców/dzieci na pokładzie')\n",
    "i=0\n",
    "for p in ax.patches:\n",
    "    procent=przezycie_od_rodzicow['Survived'].iloc[i,0]/przezycie_od_rodzicow['Survived'].iloc[i,1]\n",
    "    ax.annotate(f'\\n{int(round(procent*100,0))}'+\"%\", (p.get_x()+0.4, p.get_height()+130), ha='center', va='top', color='black', size=18)\n",
    "    i=i+1\n",
    "ax = sns.barplot(x=przezycie_od_rodzicow.index, y=przezycie_od_rodzicow.Survived[\"sum\"], color=\"#FF9F9A\")\n",
    "  \n",
    "\n",
    "ax.set(ylabel=\"Liczba osób\")\n",
    "  \n",
    "\n",
    "plt.show()"
   ]
  },
  {
   "cell_type": "markdown",
   "metadata": {},
   "source": [
    "Zmienne 'SibSp' i 'Parch' oznaczające kolejno liczbę rodzeństwa/małżonków oraz liczbę rodziców/dzieci pasażera na pokładzie są dość kłopotliwe w użyciu. Pierwszym kłopotem jest barnie tylko rodziców, pomija się tutaj innych opiekunów, np. ciotki, dziadków czy nianie. Drugim kłopotem jest zrównanie ze sobą dość różnych ról: nie spodziewamy się więcej niż dwóch rodziców, ale może być więcej niż dwoje dzieci danego pasażera. Podobnie z parą rodzeństwo i małżonkowie. Z tego też powodu powstała zmienna 'Family', która jest sumą tych dwóch zmiennych - wtedy dziecku będzie odpowiadała suma liczby rodziców i rodzeństwa na pokładzie, a dorosłemu suma małżonka i liczby dzieci. "
   ]
  },
  {
   "cell_type": "code",
   "execution_count": 39,
   "metadata": {
    "execution": {
     "iopub.execute_input": "2021-09-12T16:26:22.935059Z",
     "iopub.status.busy": "2021-09-12T16:26:22.934705Z",
     "iopub.status.idle": "2021-09-12T16:26:23.191652Z",
     "shell.execute_reply": "2021-09-12T16:26:23.190481Z",
     "shell.execute_reply.started": "2021-09-12T16:26:22.935029Z"
    }
   },
   "outputs": [
    {
     "data": {
      "image/png": "[encoded data removed]",
      "text/plain": [
       "<Figure size 432x288 with 1 Axes>"
      ]
     },
     "metadata": {
      "needs_background": "light"
     },
     "output_type": "display_data"
    }
   ],
   "source": [
    "ax=sns.countplot(x=X_train.Family);\n",
    "ax.set(ylim=(0, 600))\n",
    "ax.set(ylabel=\"Liczba osób\")\n",
    "ax.set_title('Liczba członków rodziny pasażera na pokładzie')\n",
    "for p in ax.patches:\n",
    "    ax.annotate(f'\\n{p.get_height()}', (p.get_x()+0.4, p.get_height()+110), ha='center', va='top', color='black', size=18)\n",
    "plt.show()"
   ]
  },
  {
   "cell_type": "code",
   "execution_count": 40,
   "metadata": {
    "execution": {
     "iopub.execute_input": "2021-09-12T16:26:23.241572Z",
     "iopub.status.busy": "2021-09-12T16:26:23.241217Z",
     "iopub.status.idle": "2021-09-12T16:26:23.592512Z",
     "shell.execute_reply": "2021-09-12T16:26:23.591683Z",
     "shell.execute_reply.started": "2021-09-12T16:26:23.241542Z"
    }
   },
   "outputs": [
    {
     "data": {
      "image/png": "[encoded data removed]",
      "text/plain": [
       "<Figure size 432x288 with 1 Axes>"
      ]
     },
     "metadata": {
      "needs_background": "light"
     },
     "output_type": "display_data"
    }
   ],
   "source": [
    "przezycie_od_rodziny=X_train[['Survived','Family']].groupby('Family').agg(['sum','count'])\n",
    "\n",
    "ax = plt.subplots()\n",
    "ax = sns.barplot(x=przezycie_od_rodziny.index, y=przezycie_od_rodziny.Survived[\"count\"], color=\"#92C6FF\")\n",
    "ax.set(ylim=(0, 650))\n",
    "ax.set_title('Procentowy udział ocalałych w podziale na liczbę członków rodziny na pokładzie')\n",
    "i=0\n",
    "for p in ax.patches:\n",
    "    procent=przezycie_od_rodziny['Survived'].iloc[i,0]/przezycie_od_rodziny['Survived'].iloc[i,1]\n",
    "    ax.annotate(f'\\n{int(round(procent*100,0))}'+\"%\", (p.get_x()+0.4, p.get_height()+130), ha='center', va='top', color='black', size=18)\n",
    "    i=i+1\n",
    "ax = sns.barplot(x=przezycie_od_rodziny.index, y=przezycie_od_rodziny.Survived[\"sum\"], color=\"#FF9F9A\")\n",
    "  \n",
    "\n",
    "ax.set(ylabel=\"Liczba osób\")\n",
    "  \n",
    "\n",
    "plt.show()"
   ]
  },
  {
   "cell_type": "markdown",
   "metadata": {},
   "source": [
    "Z drugiego wykresu widzimy ciekawy trend. Procent ocalałych rośnie w przedziale 0-3, a później się załamuje. Niestety dużych rodzin jest bardzo mało w naszym zbiorze treningowym, więc wspomniane załamanie jest dość niepewne, tak samo jak wysoka przeżywalność dla grupy o rodzinie z licznością równą 3. "
   ]
  },
  {
   "cell_type": "code",
   "execution_count": 41,
   "metadata": {},
   "outputs": [
    {
     "data": {
      "image/png": "[encoded data removed]",
      "text/plain": [
       "<Figure size 792x576 with 1 Axes>"
      ]
     },
     "metadata": {},
     "output_type": "display_data"
    }
   ],
   "source": [
    "sns.set(rc={'figure.figsize':(11,8)})\n",
    "ax = sns.boxplot(x=X_train[\"FareN\"])\n",
    "ax.set_title('Wykres pudełkowy ceny biletu na osobę')\n",
    "sns.reset_orig()"
   ]
  },
  {
   "cell_type": "code",
   "execution_count": 42,
   "metadata": {},
   "outputs": [
    {
     "data": {
      "image/png": "[encoded data removed]",
      "text/plain": [
       "<Figure size 432x288 with 1 Axes>"
      ]
     },
     "metadata": {
      "needs_background": "light"
     },
     "output_type": "display_data"
    }
   ],
   "source": [
    "ax = sns.scatterplot(x='FareN', y='Survived', data=X_train, alpha=0.4)\n",
    "ax.set_title('Przeżycie w zależności od ceny biletu na osobę');\n",
    "plt.show()"
   ]
  },
  {
   "cell_type": "markdown",
   "metadata": {},
   "source": [
    "Zmienna 'FareN' okazuje się posiadać dużo wartości odstających. Możemy tutaj zaobserwować asymetrię prawostronną, gdzie mediana obserwacji jest bardzo blisko pierwszego kwartylu w stosunku do trzeciego kwartylu. Drugi wykres dotyczący tej zmiennej przedstawia punkty w taki sposób, że im więcej obserwacji znajduje się w danym miejscu, tym wyraźniejszy punkt. Pierwszą wyróżniającą się rzeczą jest wyraźny punkt (0,0) i blady punkt (0,1). oznacza to, że dużo więcej osób z darmowym biletem zginęło niż przeżyło. Takimi osobami zapewne była obsługa statku. Drugą wyróżniającą się rzeczą jest różnica w długościach linii utworzonych przez punkty w grupach wyznaczonych przez wartość zmiennej 'Survived'. Dla ocalałych ta linia jest trochę dłuższa niż dla ofiar, co oznacza, że od pewnej ceny biletu ludzie mieli większe szanse na przeżycie. "
   ]
  },
  {
   "cell_type": "markdown",
   "metadata": {},
   "source": [
    "# Modelowanie predykcyjne\n",
    "\n",
    "Użyjemy trzech różnych modeli predykcyjnych korzystających z drzew decyzyjnych. Pierwszym będzie jeden z wariantów boostingu - XGboost.  Drugim podejściem będzie standardowy las losowy. Trzecią metodą będzie gradient boosting (GBM). Przed przystąpieniem do modelowania zamienimy jeszcze zmienne kategoryczne na kodowanie metodą \"dummy\". Następnie za pomocą kroswalidacji oraz losowego przeszukiwania siatki parametrów dobierzemy po jednym modelu z każdej metody. Wyniki porównamy ze sobą pod względem accuracy i indeksu Giniego. "
   ]
  },
  {
   "cell_type": "code",
   "execution_count": 43,
   "metadata": {
    "execution": {
     "iopub.execute_input": "2021-09-12T16:26:33.545148Z",
     "iopub.status.busy": "2021-09-12T16:26:33.544873Z",
     "iopub.status.idle": "2021-09-12T16:26:33.571698Z",
     "shell.execute_reply": "2021-09-12T16:26:33.570528Z",
     "shell.execute_reply.started": "2021-09-12T16:26:33.545121Z"
    }
   },
   "outputs": [],
   "source": [
    "dummy_cols = [\"Pclass\",\"Sex\",'Embarked']\n",
    "\n",
    "X_train=pd.get_dummies(X_train,columns=dummy_cols,drop_first=True)"
   ]
  },
  {
   "cell_type": "code",
   "execution_count": 44,
   "metadata": {
    "execution": {
     "iopub.execute_input": "2021-09-12T16:26:33.695555Z",
     "iopub.status.busy": "2021-09-12T16:26:33.695216Z",
     "iopub.status.idle": "2021-09-12T16:26:33.70892Z",
     "shell.execute_reply": "2021-09-12T16:26:33.707737Z",
     "shell.execute_reply.started": "2021-09-12T16:26:33.695526Z"
    }
   },
   "outputs": [],
   "source": [
    "X_test=pd.get_dummies(X_test,columns=dummy_cols,drop_first=True)"
   ]
  },
  {
   "cell_type": "code",
   "execution_count": 45,
   "metadata": {
    "execution": {
     "iopub.execute_input": "2021-09-12T16:26:34.107663Z",
     "iopub.status.busy": "2021-09-12T16:26:34.107259Z",
     "iopub.status.idle": "2021-09-12T16:26:34.115371Z",
     "shell.execute_reply": "2021-09-12T16:26:34.114417Z",
     "shell.execute_reply.started": "2021-09-12T16:26:34.107607Z"
    }
   },
   "outputs": [],
   "source": [
    "paramsXG = {\n",
    "        'min_child_weight': [1, 5, 10],\n",
    "        'gamma': [0,0.5,1, 5],\n",
    "        'subsample': [0.7, 1.0],\n",
    "        'colsample_bytree': [0.7, 1.0],\n",
    "        'max_depth': [4, 5,6,7],\n",
    "        'reg_lambda' : [1,2,3],\n",
    "        'eta' : [0.3,0.6]\n",
    "        }"
   ]
  },
  {
   "cell_type": "code",
   "execution_count": 46,
   "metadata": {
    "execution": {
     "iopub.execute_input": "2021-09-12T16:26:34.419884Z",
     "iopub.status.busy": "2021-09-12T16:26:34.419351Z",
     "iopub.status.idle": "2021-09-12T16:26:34.42434Z",
     "shell.execute_reply": "2021-09-12T16:26:34.423426Z",
     "shell.execute_reply.started": "2021-09-12T16:26:34.41985Z"
    }
   },
   "outputs": [],
   "source": [
    "XGbClass1 = XGBClassifier(n_estimators=1000, learning_rate=0.01, random_state=1001, objective='binary:logistic', eval_metric='auc',use_label_encoder=False) "
   ]
  },
  {
   "cell_type": "code",
   "execution_count": 47,
   "metadata": {
    "execution": {
     "iopub.execute_input": "2021-09-12T16:26:34.945378Z",
     "iopub.status.busy": "2021-09-12T16:26:34.944821Z",
     "iopub.status.idle": "2021-09-12T16:33:07.59903Z",
     "shell.execute_reply": "2021-09-12T16:33:07.597953Z",
     "shell.execute_reply.started": "2021-09-12T16:26:34.945341Z"
    }
   },
   "outputs": [
    {
     "name": "stdout",
     "output_type": "stream",
     "text": [
      "\n",
      " Best hyperparameters:\n",
      "{'subsample': 1.0, 'reg_lambda': 1, 'min_child_weight': 1, 'max_depth': 7, 'gamma': 5, 'eta': 0.3, 'colsample_bytree': 0.7}\n"
     ]
    }
   ],
   "source": [
    "folds = 5\n",
    "param_comb = 150\n",
    "\n",
    "random_search = RandomizedSearchCV(XGbClass1, paramsXG, n_jobs=1, cv=folds, n_iter=param_comb,random_state=1001)\n",
    "X_train1=X_train[['Age','FareN','Family','Pclass_2','Pclass_3', \"Sex_male\",\"Embarked_Q\",\"Embarked_S\"]].copy()\n",
    "X_train1 = np.ascontiguousarray(X_train1)\n",
    "y_train = np.ascontiguousarray(y_train)\n",
    "\n",
    "random_search.fit(X_train1, y_train)\n",
    "\n",
    "print('\\n Best hyperparameters:')\n",
    "print(random_search.best_params_)\n",
    "results = pd.DataFrame(random_search.cv_results_)"
   ]
  },
  {
   "cell_type": "code",
   "execution_count": 48,
   "metadata": {
    "execution": {
     "iopub.execute_input": "2021-09-12T16:33:07.601341Z",
     "iopub.status.busy": "2021-09-12T16:33:07.600881Z",
     "iopub.status.idle": "2021-09-12T16:33:08.251283Z",
     "shell.execute_reply": "2021-09-12T16:33:08.250431Z",
     "shell.execute_reply.started": "2021-09-12T16:33:07.601296Z"
    }
   },
   "outputs": [
    {
     "name": "stdout",
     "output_type": "stream",
     "text": [
      "Wartość accuracy na zbiorze treiningowym dla tego modelu wyniosła:  0.8328651685393258\n",
      "Wartość accuracy na zbiorze testowym dla tego modelu wyniosła:  0.8212290502793296\n",
      "Wartość indeksu Giniego na zbiorze treiningowym dla tego modelu wyniosła:  0.6557374205244302\n",
      "Wartość indeksu Giniego na zbiorze testowym dla tego modelu wyniosła:  0.6425667828106854\n"
     ]
    }
   ],
   "source": [
    "XGbest=XGBClassifier(n_estimators=1000, learning_rate=0.01, subsample= 1,reg_lambda=1,\n",
    "                      min_child_weight= 5, max_depth= 6, gamma= 5,eta=0.6, colsample_bytree= 1,\n",
    "                      random_state=1001, objective='binary:logistic', eval_metric='auc',\n",
    "                      use_label_encoder=False)\n",
    "\n",
    "\n",
    "\n",
    "X_test1=X_test[['Age','FareN','Family','Pclass_2','Pclass_3', \"Sex_male\",\"Embarked_Q\",\"Embarked_S\"]].copy()\n",
    "X_test1 = np.ascontiguousarray(X_test1)\n",
    "y_test = np.ascontiguousarray(y_test)\n",
    "XGbest.fit(X_train1,y_train) \n",
    "XGpred = XGbest.predict(X_test1) \n",
    "XGtrainpred = XGbest.predict(X_train1) \n",
    "acc_XGbest_train = accuracy_score(XGtrainpred,y_train) \n",
    "acc_XGbest_test = accuracy_score(XGpred,y_test) \n",
    "\n",
    "gini_XGbest_train = 2*roc_auc_score(XGtrainpred,y_train) -1\n",
    "gini_XGbest_test = 2*roc_auc_score(XGpred,y_test) -1\n",
    "\n",
    "\n",
    "print(\"Wartość accuracy na zbiorze treiningowym dla tego modelu wyniosła: \", acc_XGbest_train)\n",
    "print(\"Wartość accuracy na zbiorze testowym dla tego modelu wyniosła: \", acc_XGbest_test)\n",
    "\n",
    "print(\"Wartość indeksu Giniego na zbiorze treiningowym dla tego modelu wyniosła: \", gini_XGbest_train)\n",
    "print(\"Wartość indeksu Giniego na zbiorze testowym dla tego modelu wyniosła: \", gini_XGbest_test)"
   ]
  },
  {
   "cell_type": "code",
   "execution_count": 49,
   "metadata": {
    "execution": {
     "iopub.execute_input": "2021-09-12T16:33:08.257945Z",
     "iopub.status.busy": "2021-09-12T16:33:08.256004Z",
     "iopub.status.idle": "2021-09-12T16:33:08.263649Z",
     "shell.execute_reply": "2021-09-12T16:33:08.262759Z",
     "shell.execute_reply.started": "2021-09-12T16:33:08.257896Z"
    }
   },
   "outputs": [],
   "source": [
    "RF=RandomForestClassifier(n_estimators=1000, criterion='gini', max_depth=None,\n",
    "                                min_samples_split=2, min_samples_leaf=1, \n",
    "                                max_features=None,   n_jobs=1,\n",
    "                                random_state=42)"
   ]
  },
  {
   "cell_type": "code",
   "execution_count": 50,
   "metadata": {
    "execution": {
     "iopub.execute_input": "2021-09-12T16:33:08.265464Z",
     "iopub.status.busy": "2021-09-12T16:33:08.265013Z",
     "iopub.status.idle": "2021-09-12T16:33:11.165363Z",
     "shell.execute_reply": "2021-09-12T16:33:11.164557Z",
     "shell.execute_reply.started": "2021-09-12T16:33:08.265431Z"
    }
   },
   "outputs": [
    {
     "name": "stdout",
     "output_type": "stream",
     "text": [
      "Wartość accuracy na zbiorze treiningowym dla tego modelu wyniosła:  0.9859550561797753\n",
      "Wartość accuracy na zbiorze testowym dla tego modelu wyniosła:  0.8100558659217877\n",
      "Wartość indeksu Giniego na zbiorze treiningowym dla tego modelu wyniosła:  0.9730517848164908\n",
      "Wartość indeksu Giniego na zbiorze testowym dla tego modelu wyniosła:  0.6165795586527294\n"
     ]
    }
   ],
   "source": [
    "RF.fit(X_train1,y_train) \n",
    "RFpred = RF.predict(X_test1) \n",
    "RFtrainpred = RF.predict(X_train1) \n",
    "acc_RFbest_train = accuracy_score(RFtrainpred,y_train) \n",
    "acc_RFbest_test = accuracy_score(RFpred,y_test) \n",
    "\n",
    "print(\"Wartość accuracy na zbiorze treiningowym dla tego modelu wyniosła: \", acc_RFbest_train)\n",
    "print(\"Wartość accuracy na zbiorze testowym dla tego modelu wyniosła: \", acc_RFbest_test)\n",
    "\n",
    "\n",
    "\n",
    "\n",
    "gini_RFbest_train = 2*roc_auc_score(RFtrainpred,y_train) -1\n",
    "gini_RFbest_test = 2*roc_auc_score(RFpred,y_test) -1\n",
    "\n",
    "print(\"Wartość indeksu Giniego na zbiorze treiningowym dla tego modelu wyniosła: \", gini_RFbest_train)\n",
    "print(\"Wartość indeksu Giniego na zbiorze testowym dla tego modelu wyniosła: \", gini_RFbest_test)"
   ]
  },
  {
   "cell_type": "code",
   "execution_count": 51,
   "metadata": {
    "execution": {
     "iopub.execute_input": "2021-09-12T16:33:11.203805Z",
     "iopub.status.busy": "2021-09-12T16:33:11.203505Z",
     "iopub.status.idle": "2021-09-12T16:33:11.214694Z",
     "shell.execute_reply": "2021-09-12T16:33:11.213841Z",
     "shell.execute_reply.started": "2021-09-12T16:33:11.203777Z"
    }
   },
   "outputs": [],
   "source": [
    "paramsGBM = {\n",
    "        'learning_rate': [0.1, 0.01, 0.001],\n",
    "        'max_depth': [2, 3, 4, 5],\n",
    "        'subsample': [0.9, 1]\n",
    "        }"
   ]
  },
  {
   "cell_type": "code",
   "execution_count": 52,
   "metadata": {
    "execution": {
     "iopub.execute_input": "2021-09-12T16:33:11.217338Z",
     "iopub.status.busy": "2021-09-12T16:33:11.216873Z",
     "iopub.status.idle": "2021-09-12T16:33:11.227749Z",
     "shell.execute_reply": "2021-09-12T16:33:11.226852Z",
     "shell.execute_reply.started": "2021-09-12T16:33:11.217287Z"
    }
   },
   "outputs": [],
   "source": [
    "GBM1=GradientBoostingClassifier(n_estimators=100, max_depth=3, learning_rate=0.1, subsample=1,random_state=42)"
   ]
  },
  {
   "cell_type": "code",
   "execution_count": 53,
   "metadata": {
    "execution": {
     "iopub.execute_input": "2021-09-12T16:33:11.230246Z",
     "iopub.status.busy": "2021-09-12T16:33:11.229749Z",
     "iopub.status.idle": "2021-09-12T16:33:27.755028Z",
     "shell.execute_reply": "2021-09-12T16:33:27.754232Z",
     "shell.execute_reply.started": "2021-09-12T16:33:11.230197Z"
    }
   },
   "outputs": [
    {
     "name": "stdout",
     "output_type": "stream",
     "text": [
      "\n",
      " Best hyperparameters:\n",
      "{'subsample': 1, 'max_depth': 3, 'learning_rate': 0.1}\n"
     ]
    }
   ],
   "source": [
    "folds = 5\n",
    "param_comb = 24\n",
    "\n",
    "random_search = RandomizedSearchCV(GBM1, paramsGBM, n_jobs=1, cv=folds, n_iter=param_comb,random_state=1001)\n",
    "X_train1=X_train[['Age','FareN','Family','Pclass_2','Pclass_3', \"Sex_male\",\"Embarked_Q\",\"Embarked_S\"]].copy()\n",
    "\n",
    "random_search.fit(X_train1, y_train)\n",
    "\n",
    "print('\\n Best hyperparameters:')\n",
    "print(random_search.best_params_)\n",
    "results = pd.DataFrame(random_search.cv_results_)"
   ]
  },
  {
   "cell_type": "code",
   "execution_count": 54,
   "metadata": {
    "_kg_hide-input": true,
    "execution": {
     "iopub.execute_input": "2021-09-12T16:44:27.883362Z",
     "iopub.status.busy": "2021-09-12T16:44:27.883007Z",
     "iopub.status.idle": "2021-09-12T16:44:28.013962Z",
     "shell.execute_reply": "2021-09-12T16:44:28.012902Z",
     "shell.execute_reply.started": "2021-09-12T16:44:27.883333Z"
    }
   },
   "outputs": [
    {
     "name": "stdout",
     "output_type": "stream",
     "text": [
      "Wartość accuracy na zbiorze treiningowym dla tego modelu wyniosła:  0.9058988764044944\n",
      "Wartość accuracy na zbiorze testowym dla tego modelu wyniosła:  0.8379888268156425\n",
      "Wartość indeksu Giniego na zbiorze treiningowym dla tego modelu wyniosła:  0.8117904492212638\n",
      "Wartość indeksu Giniego na zbiorze testowym dla tego modelu wyniosła:  0.6851906158357772\n"
     ]
    }
   ],
   "source": [
    "GBMbest=GradientBoostingClassifier(n_estimators=100, max_depth=3,\n",
    "                                                              learning_rate=0.1, subsample=1,random_state=42)\n",
    "\n",
    "GBMbest.fit(X_train1,y_train) \n",
    "GBMpred = GBMbest.predict(X_test1) \n",
    "GBMtrainpred = GBMbest.predict(X_train1) \n",
    "acc_GBMbest_train = accuracy_score(GBMtrainpred,y_train) \n",
    "acc_GBMbest_test = accuracy_score(GBMpred,y_test) \n",
    "\n",
    "gini_GBMbest_train = 2*roc_auc_score(GBMtrainpred,y_train) -1\n",
    "gini_GBMbest_test = 2*roc_auc_score(GBMpred,y_test) -1\n",
    "\n",
    "\n",
    "print(\"Wartość accuracy na zbiorze treiningowym dla tego modelu wyniosła: \", acc_GBMbest_train)\n",
    "print(\"Wartość accuracy na zbiorze testowym dla tego modelu wyniosła: \", acc_GBMbest_test)\n",
    "\n",
    "print(\"Wartość indeksu Giniego na zbiorze treiningowym dla tego modelu wyniosła: \", gini_GBMbest_train)\n",
    "print(\"Wartość indeksu Giniego na zbiorze testowym dla tego modelu wyniosła: \", gini_GBMbest_test)"
   ]
  },
  {
   "cell_type": "code",
   "execution_count": 55,
   "metadata": {
    "execution": {
     "iopub.execute_input": "2021-09-12T17:25:12.409459Z",
     "iopub.status.busy": "2021-09-12T17:25:12.409098Z",
     "iopub.status.idle": "2021-09-12T17:25:12.426283Z",
     "shell.execute_reply": "2021-09-12T17:25:12.425052Z",
     "shell.execute_reply.started": "2021-09-12T17:25:12.409426Z"
    }
   },
   "outputs": [
    {
     "data": {
      "text/html": [
       "<div>\n",
       "<style scoped>\n",
       "    .dataframe tbody tr th:only-of-type {\n",
       "        vertical-align: middle;\n",
       "    }\n",
       "\n",
       "    .dataframe tbody tr th {\n",
       "        vertical-align: top;\n",
       "    }\n",
       "\n",
       "    .dataframe thead tr th {\n",
       "        text-align: left;\n",
       "    }\n",
       "</style>\n",
       "<table border=\"1\" class=\"dataframe\">\n",
       "  <thead>\n",
       "    <tr>\n",
       "      <th></th>\n",
       "      <th>XGbost</th>\n",
       "      <th>RF</th>\n",
       "      <th>GBM</th>\n",
       "    </tr>\n",
       "  </thead>\n",
       "  <tbody>\n",
       "    <tr>\n",
       "      <th>accuracy zbioru treningowego</th>\n",
       "      <td>0.832865</td>\n",
       "      <td>0.985955</td>\n",
       "      <td>0.905899</td>\n",
       "    </tr>\n",
       "    <tr>\n",
       "      <th>accuracy zbioru testowego</th>\n",
       "      <td>0.821229</td>\n",
       "      <td>0.810056</td>\n",
       "      <td>0.837989</td>\n",
       "    </tr>\n",
       "    <tr>\n",
       "      <th>Gini zbioru treningowego</th>\n",
       "      <td>0.655737</td>\n",
       "      <td>0.973052</td>\n",
       "      <td>0.811790</td>\n",
       "    </tr>\n",
       "    <tr>\n",
       "      <th>Gini zbioru testowego</th>\n",
       "      <td>0.642567</td>\n",
       "      <td>0.616580</td>\n",
       "      <td>0.685191</td>\n",
       "    </tr>\n",
       "  </tbody>\n",
       "</table>\n",
       "</div>"
      ],
      "text/plain": [
       "                                XGbost        RF       GBM\n",
       "accuracy zbioru treningowego  0.832865  0.985955  0.905899\n",
       "accuracy zbioru testowego     0.821229  0.810056  0.837989\n",
       "Gini zbioru treningowego      0.655737  0.973052  0.811790\n",
       "Gini zbioru testowego         0.642567  0.616580  0.685191"
      ]
     },
     "execution_count": 55,
     "metadata": {},
     "output_type": "execute_result"
    }
   ],
   "source": [
    "acc_train=[acc_XGbest_train,acc_RFbest_train,acc_GBMbest_train]\n",
    "acc_test=[acc_XGbest_test,acc_RFbest_test,acc_GBMbest_test]\n",
    "gini_train=[gini_XGbest_train,gini_RFbest_train,gini_GBMbest_train]\n",
    "gini_test=[gini_XGbest_test,gini_RFbest_test,gini_GBMbest_test]\n",
    "pd.DataFrame([acc_train,acc_test,gini_train,gini_test],columns=[['XGbost', 'RF', 'GBM']]).set_index([[\"accuracy zbioru treningowego\", \"accuracy zbioru testowego\", 'Gini zbioru treningowego', 'Gini zbioru testowego']])"
   ]
  },
  {
   "cell_type": "markdown",
   "metadata": {},
   "source": [
    "Z rozważanych modeli najlepszym okazał się boosting GBM. Uzyskał on najwyższą wartość accuracy na zbiorze treningowym równą 0.837989 oraz najlepszy indeks Giniego równy 0.685191. Model ten jednak wykazał się lekkim przeuczeniem - wydać wyraźną różnicę w accuracy między zbiorami treningowym i testowym. Na drugim miejscu, pod względem jakości predykcji, znalazł się XGboost z niewiele mniejszymi wskaźnikami accuracy i Gini. Model ten osiągnął porównywalne wyniki na zbiorze uczącym i testowym. Najgorzej wypadł model lasu losowego. Osiągnął on trochę gorsze wyniki pod względem accuracy i Gini od pozostałych. Wykazał się on również bardzo dużym przeuczeniem. \n",
    "Ciekawą informacją może okazać się ważność zmiennych według modelu. Poniżej znajdują się 3 wykresy - po jednym dla każdej metody. Opisują one średnie spadki Gini Impurity dla każdej zmiennej w każdym modelu. "
   ]
  },
  {
   "cell_type": "code",
   "execution_count": 56,
   "metadata": {
    "execution": {
     "iopub.execute_input": "2021-09-12T16:33:11.16698Z",
     "iopub.status.busy": "2021-09-12T16:33:11.166474Z",
     "iopub.status.idle": "2021-09-12T16:33:11.173613Z",
     "shell.execute_reply": "2021-09-12T16:33:11.172856Z",
     "shell.execute_reply.started": "2021-09-12T16:33:11.166938Z"
    }
   },
   "outputs": [],
   "source": [
    "def plot_feature_importance(importance,names,model_type):\n",
    "\n",
    "    #Create arrays from feature importance and feature names\n",
    "    feature_importance = np.array(importance)\n",
    "    feature_names = np.array(names)\n",
    "\n",
    "    #Create a DataFrame using a Dictionary\n",
    "    data={'feature_names':feature_names,'feature_importance':feature_importance}\n",
    "    fi_df = pd.DataFrame(data)\n",
    "\n",
    "    #Sort the DataFrame in order decreasing feature importance\n",
    "    fi_df.sort_values(by=['feature_importance'], ascending=False,inplace=True)\n",
    "\n",
    "    #Define size of bar plot\n",
    "    plt.figure(figsize=(10,10))\n",
    "    #Plot Searborn bar chart\n",
    "    sns.barplot(x=fi_df['feature_importance'], y=fi_df['feature_names'])\n",
    "    \n",
    "    \n",
    "    #Add chart labels\n",
    "    plt.title(model_type + ' FEATURE IMPORTANCE')\n",
    "    plt.xlabel('FEATURE IMPORTANCE')\n",
    "    plt.ylabel('FEATURE NAMES')\n",
    "    \n",
    "    return(fi_df['feature_names'])"
   ]
  },
  {
   "cell_type": "code",
   "execution_count": 57,
   "metadata": {
    "execution": {
     "iopub.status.busy": "2021-09-12T16:33:27.873791Z",
     "iopub.status.idle": "2021-09-12T16:33:27.874204Z"
    }
   },
   "outputs": [
    {
     "data": {
      "image/png": "[encoded data removed]",
      "text/plain": [
       "<Figure size 720x720 with 1 Axes>"
      ]
     },
     "metadata": {
      "needs_background": "light"
     },
     "output_type": "display_data"
    }
   ],
   "source": [
    "plot_feature_importance(XGbest.feature_importances_,X_test[['Age','FareN','Family','Pclass_2','Pclass_3', \"Sex_male\",\"Embarked_Q\",\"Embarked_S\"]].columns,'XGBoost');"
   ]
  },
  {
   "cell_type": "code",
   "execution_count": 58,
   "metadata": {
    "execution": {
     "iopub.status.busy": "2021-09-12T16:33:27.872415Z",
     "iopub.status.idle": "2021-09-12T16:33:27.872874Z"
    }
   },
   "outputs": [
    {
     "data": {
      "image/png": "[encoded data removed]",
      "text/plain": [
       "<Figure size 720x720 with 1 Axes>"
      ]
     },
     "metadata": {
      "needs_background": "light"
     },
     "output_type": "display_data"
    }
   ],
   "source": [
    "plot_feature_importance(RF.feature_importances_,X_test[['Age','FareN','Family','Pclass_2','Pclass_3', \"Sex_male\",\"Embarked_Q\",\"Embarked_S\"]].columns,'RANDOM FOREST');"
   ]
  },
  {
   "cell_type": "code",
   "execution_count": 59,
   "metadata": {
    "execution": {
     "iopub.execute_input": "2021-09-12T17:07:20.932472Z",
     "iopub.status.busy": "2021-09-12T17:07:20.932118Z",
     "iopub.status.idle": "2021-09-12T17:07:21.17692Z",
     "shell.execute_reply": "2021-09-12T17:07:21.175831Z",
     "shell.execute_reply.started": "2021-09-12T17:07:20.932434Z"
    }
   },
   "outputs": [
    {
     "data": {
      "image/png": "[encoded data removed]",
      "text/plain": [
       "<Figure size 720x720 with 1 Axes>"
      ]
     },
     "metadata": {
      "needs_background": "light"
     },
     "output_type": "display_data"
    }
   ],
   "source": [
    "plot_feature_importance(GBMbest.feature_importances_,X_test[['Age','FareN','Family','Pclass_2','Pclass_3', \"Sex_male\",\"Embarked_Q\",\"Embarked_S\"]].columns,'GBM');"
   ]
  },
  {
   "cell_type": "markdown",
   "metadata": {},
   "source": [
    "Wszystkie wykresy zdradzają to, czego się spodziewaliśmy. Najważniejszą zmienną okazała się płeć. Drugie miejsce jest różne dla każdej metody. GBM wybrał koszt biletu na osobę, XGboost wskazał indykator klasy trzeciej, a las losowy wziął wiek pasażera. Jednakże wszystkie te zmienne okazały się dość istotne bez względu na model. Trochę mniej istotna okazała się zmienna opisująca liczbę członków rodziny na pokładzie, a praktycznie bez znaczenia były indykatory klasy drugiej i miejsc rozpoczęcia podróży. \n",
    "\n",
    "\n",
    "Na koniec spójrzmy jeszcze na macierze konfuzji każdej z metod. "
   ]
  },
  {
   "cell_type": "markdown",
   "metadata": {},
   "source": [
    "### Xgboost"
   ]
  },
  {
   "cell_type": "code",
   "execution_count": 60,
   "metadata": {},
   "outputs": [
    {
     "data": {
      "image/png": "[encoded data removed]",
      "text/plain": [
       "<Figure size 432x288 with 2 Axes>"
      ]
     },
     "metadata": {
      "needs_background": "light"
     },
     "output_type": "display_data"
    }
   ],
   "source": [
    "plt.rcParams.update({'font.size': 16})\n",
    "\n",
    "plot_confusion_matrix(XGbest, X_test1, y_test,\n",
    "                                 cmap=plt.cm.Blues);"
   ]
  },
  {
   "cell_type": "markdown",
   "metadata": {},
   "source": [
    "### Random Forest"
   ]
  },
  {
   "cell_type": "code",
   "execution_count": 61,
   "metadata": {},
   "outputs": [
    {
     "data": {
      "image/png": "[encoded data removed]",
      "text/plain": [
       "<Figure size 432x288 with 2 Axes>"
      ]
     },
     "metadata": {
      "needs_background": "light"
     },
     "output_type": "display_data"
    }
   ],
   "source": [
    "plot_confusion_matrix(RF, X_test1, y_test,\n",
    "                                 cmap=plt.cm.Blues);"
   ]
  },
  {
   "cell_type": "markdown",
   "metadata": {},
   "source": [
    "### GBM"
   ]
  },
  {
   "cell_type": "code",
   "execution_count": 62,
   "metadata": {},
   "outputs": [
    {
     "data": {
      "image/png": "[encoded data removed]",
      "text/plain": [
       "<Figure size 432x288 with 2 Axes>"
      ]
     },
     "metadata": {
      "needs_background": "light"
     },
     "output_type": "display_data"
    }
   ],
   "source": [
    "plot_confusion_matrix(GBMbest, X_test1, y_test,\n",
    "                                 cmap=plt.cm.Blues);"
   ]
  },
  {
   "cell_type": "markdown",
   "metadata": {},
   "source": [
    "Wartości False Positive Rate, czyli iloraz liczby błędnie przewidzianych ofiar i liczby wszystkich ocalałych, dla XGboost, RF i GBM to kolejno 0.09, 0.1 i 0.07. Wartości False Negative Rate, czyli iloraz błędnie przewidzianych ocalałych i wszystkich ofiar, dla XGboost, RF i GBM to kolejno 0.32, 0.34 i 0.31. Widzimy zatem, że modele dużo lepiej poradziły sobie z odgadnięciem ocalałych niż ofiar. \n",
    " \n",
    "\n",
    "Podsumowując, metody zadziałały bardzo podobnie. Metoda GBM wypadła tutaj najlepiej, oba wskaźniki błędnych predykcji są najniższe. Po drugiej stronie jest las losowy, który miał najwyższe wskaźniki błędów. Najważniejszą zmienną okazała się płeć pasażera, potem cena biletu za osobę i wiek pasażera. Wynik accuracy na poziomie 83.8% wydaje się tutaj zadowalający. "
   ]
  }
 ],
 "metadata": {
  "kernelspec": {
   "display_name": "Python 3",
   "language": "python",
   "name": "python3"
  },
  "language_info": {
   "codemirror_mode": {
    "name": "ipython",
    "version": 3
   },
   "file_extension": ".py",
   "mimetype": "text/x-python",
   "name": "python",
   "nbconvert_exporter": "python",
   "pygments_lexer": "ipython3",
   "version": "3.8.5"
  }
 },
 "nbformat": 4,
 "nbformat_minor": 4
}
